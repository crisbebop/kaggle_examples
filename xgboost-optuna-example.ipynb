{
 "cells": [
  {
   "cell_type": "markdown",
   "id": "463eea07",
   "metadata": {
    "papermill": {
     "duration": 0.012711,
     "end_time": "2024-10-23T12:41:33.845494",
     "exception": false,
     "start_time": "2024-10-23T12:41:33.832783",
     "status": "completed"
    },
    "tags": []
   },
   "source": [
    "# XGBoost Optuna Example  \n",
    "In this notebook, we made a basic implementation of XGBoost hyperparameter tuning using Optuna in Kaggle's Playground Series S4E10: Loan Approval Prediction. We evaluate the performance of both the base model and the tuned model on unseen data (X_test) using the ROC AUC metric."
   ]
  },
  {
   "cell_type": "markdown",
   "id": "9e7ddacd",
   "metadata": {
    "papermill": {
     "duration": 0.010655,
     "end_time": "2024-10-23T12:41:33.866872",
     "exception": false,
     "start_time": "2024-10-23T12:41:33.856217",
     "status": "completed"
    },
    "tags": []
   },
   "source": [
    "## Imports and Loads"
   ]
  },
  {
   "cell_type": "code",
   "execution_count": 1,
   "id": "4ff3ff2a",
   "metadata": {
    "execution": {
     "iopub.execute_input": "2024-10-23T12:41:33.890361Z",
     "iopub.status.busy": "2024-10-23T12:41:33.889867Z",
     "iopub.status.idle": "2024-10-23T12:41:36.495188Z",
     "shell.execute_reply": "2024-10-23T12:41:36.493876Z"
    },
    "papermill": {
     "duration": 2.620443,
     "end_time": "2024-10-23T12:41:36.498043",
     "exception": false,
     "start_time": "2024-10-23T12:41:33.877600",
     "status": "completed"
    },
    "tags": []
   },
   "outputs": [],
   "source": [
    "# Imports and settings\n",
    "import pandas as pd\n",
    "import numpy as np\n",
    "\n",
    "# settings\n",
    "import warnings\n",
    "warnings.filterwarnings('ignore')\n",
    "random_state = 2024\n",
    "np.seed = random_state\n",
    "\n",
    "# Metrics and model selection\n",
    "from sklearn.metrics import roc_auc_score\n",
    "from sklearn.model_selection import train_test_split, cross_val_score\n",
    "\n",
    "# Encoding\n",
    "from sklearn.preprocessing import OrdinalEncoder\n",
    "\n",
    "# Models\n",
    "from xgboost import XGBClassifier"
   ]
  },
  {
   "cell_type": "code",
   "execution_count": 2,
   "id": "1ef06b4d",
   "metadata": {
    "execution": {
     "iopub.execute_input": "2024-10-23T12:41:36.521088Z",
     "iopub.status.busy": "2024-10-23T12:41:36.520430Z",
     "iopub.status.idle": "2024-10-23T12:41:36.858364Z",
     "shell.execute_reply": "2024-10-23T12:41:36.857126Z"
    },
    "papermill": {
     "duration": 0.352442,
     "end_time": "2024-10-23T12:41:36.861203",
     "exception": false,
     "start_time": "2024-10-23T12:41:36.508761",
     "status": "completed"
    },
    "tags": []
   },
   "outputs": [],
   "source": [
    "#Optuna settings\n",
    "import optuna\n",
    "import logging\n",
    "\n",
    "## Config level of msgs\n",
    "logging.getLogger(\"optuna\").setLevel(logging.INFO) # Set to WARNING to reduce mensages"
   ]
  },
  {
   "cell_type": "code",
   "execution_count": 3,
   "id": "1f4921e1",
   "metadata": {
    "execution": {
     "iopub.execute_input": "2024-10-23T12:41:36.885772Z",
     "iopub.status.busy": "2024-10-23T12:41:36.884807Z",
     "iopub.status.idle": "2024-10-23T12:41:36.890078Z",
     "shell.execute_reply": "2024-10-23T12:41:36.888842Z"
    },
    "papermill": {
     "duration": 0.019617,
     "end_time": "2024-10-23T12:41:36.892451",
     "exception": false,
     "start_time": "2024-10-23T12:41:36.872834",
     "status": "completed"
    },
    "tags": []
   },
   "outputs": [],
   "source": [
    "#train_data = pd.read_csv('/kaggle/input/credit-risk-dataset/credit_risk_dataset.csv')"
   ]
  },
  {
   "cell_type": "code",
   "execution_count": 4,
   "id": "f5261d3c",
   "metadata": {
    "execution": {
     "iopub.execute_input": "2024-10-23T12:41:36.916051Z",
     "iopub.status.busy": "2024-10-23T12:41:36.914864Z",
     "iopub.status.idle": "2024-10-23T12:41:37.208865Z",
     "shell.execute_reply": "2024-10-23T12:41:37.207513Z"
    },
    "papermill": {
     "duration": 0.308476,
     "end_time": "2024-10-23T12:41:37.211606",
     "exception": false,
     "start_time": "2024-10-23T12:41:36.903130",
     "status": "completed"
    },
    "tags": []
   },
   "outputs": [
    {
     "name": "stdout",
     "output_type": "stream",
     "text": [
      "Data loaded successfully!\n"
     ]
    }
   ],
   "source": [
    "# Load data\n",
    "train_data = pd.read_csv('/kaggle/input/playground-series-s4e10/train.csv').drop('id',axis=1)\n",
    "\n",
    "test_data = pd.read_csv('/kaggle/input/playground-series-s4e10/test.csv')\n",
    "ids = test_data['id'].astype(np.int32)\n",
    "test_data.drop('id', axis=1, inplace=True)\n",
    "\n",
    "print('Data loaded successfully!')"
   ]
  },
  {
   "cell_type": "markdown",
   "id": "9a18be10",
   "metadata": {
    "papermill": {
     "duration": 0.010199,
     "end_time": "2024-10-23T12:41:37.232612",
     "exception": false,
     "start_time": "2024-10-23T12:41:37.222413",
     "status": "completed"
    },
    "tags": []
   },
   "source": [
    "## Determine train and test splits"
   ]
  },
  {
   "cell_type": "code",
   "execution_count": 5,
   "id": "dcd24266",
   "metadata": {
    "execution": {
     "iopub.execute_input": "2024-10-23T12:41:37.255507Z",
     "iopub.status.busy": "2024-10-23T12:41:37.255096Z",
     "iopub.status.idle": "2024-10-23T12:41:37.262438Z",
     "shell.execute_reply": "2024-10-23T12:41:37.261344Z"
    },
    "papermill": {
     "duration": 0.021806,
     "end_time": "2024-10-23T12:41:37.265019",
     "exception": false,
     "start_time": "2024-10-23T12:41:37.243213",
     "status": "completed"
    },
    "tags": []
   },
   "outputs": [],
   "source": [
    "# Determine the dependent (target) and numeric\n",
    "target_variable = \"loan_status\"\n",
    "\n",
    "# Determine the numerical variables\n",
    "num_cols = [col for col in train_data.columns if train_data[col].dtype in ['int64', 'float64'] \n",
    "            and col != target_variable]\n",
    "\n",
    "# Determine the categorical variables\n",
    "cat_cols = [col for col in train_data.columns if train_data[col].dtype == 'object']"
   ]
  },
  {
   "cell_type": "code",
   "execution_count": 6,
   "id": "436b6ffa",
   "metadata": {
    "execution": {
     "iopub.execute_input": "2024-10-23T12:41:37.288628Z",
     "iopub.status.busy": "2024-10-23T12:41:37.288213Z",
     "iopub.status.idle": "2024-10-23T12:41:37.301232Z",
     "shell.execute_reply": "2024-10-23T12:41:37.299943Z"
    },
    "papermill": {
     "duration": 0.028261,
     "end_time": "2024-10-23T12:41:37.303915",
     "exception": false,
     "start_time": "2024-10-23T12:41:37.275654",
     "status": "completed"
    },
    "tags": []
   },
   "outputs": [],
   "source": [
    "y = train_data['loan_status'].reset_index(drop=True)\n",
    "X = train_data.drop('loan_status', axis=1).reset_index(drop=True)"
   ]
  },
  {
   "cell_type": "code",
   "execution_count": 7,
   "id": "4492a5ed",
   "metadata": {
    "execution": {
     "iopub.execute_input": "2024-10-23T12:41:37.327637Z",
     "iopub.status.busy": "2024-10-23T12:41:37.327230Z",
     "iopub.status.idle": "2024-10-23T12:41:37.463654Z",
     "shell.execute_reply": "2024-10-23T12:41:37.462537Z"
    },
    "papermill": {
     "duration": 0.151777,
     "end_time": "2024-10-23T12:41:37.466520",
     "exception": false,
     "start_time": "2024-10-23T12:41:37.314743",
     "status": "completed"
    },
    "tags": []
   },
   "outputs": [],
   "source": [
    "oe = OrdinalEncoder(handle_unknown='use_encoded_value', unknown_value=-1)\n",
    "X_oe = pd.DataFrame(oe.fit_transform(X[cat_cols]), columns = cat_cols).fillna(0).astype(int)\n",
    "\n",
    "test_oe = pd.DataFrame(oe.transform(test_data[cat_cols]), columns = cat_cols).fillna(0).astype(int)"
   ]
  },
  {
   "cell_type": "code",
   "execution_count": 8,
   "id": "d245046d",
   "metadata": {
    "execution": {
     "iopub.execute_input": "2024-10-23T12:41:37.489816Z",
     "iopub.status.busy": "2024-10-23T12:41:37.489392Z",
     "iopub.status.idle": "2024-10-23T12:41:37.506227Z",
     "shell.execute_reply": "2024-10-23T12:41:37.505184Z"
    },
    "papermill": {
     "duration": 0.031488,
     "end_time": "2024-10-23T12:41:37.508888",
     "exception": false,
     "start_time": "2024-10-23T12:41:37.477400",
     "status": "completed"
    },
    "tags": []
   },
   "outputs": [],
   "source": [
    "X_oe_concated = pd.concat([X_oe, X[num_cols]], axis= 1)\n",
    "test_oe_concated = pd.concat([test_oe, test_data[num_cols]], axis= 1)"
   ]
  },
  {
   "cell_type": "code",
   "execution_count": 9,
   "id": "d541323d",
   "metadata": {
    "execution": {
     "iopub.execute_input": "2024-10-23T12:41:37.532038Z",
     "iopub.status.busy": "2024-10-23T12:41:37.531598Z",
     "iopub.status.idle": "2024-10-23T12:41:37.564715Z",
     "shell.execute_reply": "2024-10-23T12:41:37.563552Z"
    },
    "papermill": {
     "duration": 0.048077,
     "end_time": "2024-10-23T12:41:37.567602",
     "exception": false,
     "start_time": "2024-10-23T12:41:37.519525",
     "status": "completed"
    },
    "tags": []
   },
   "outputs": [],
   "source": [
    "X, test_data = X_oe_concated.copy(),test_oe_concated.copy()\n",
    "\n",
    "for col in cat_cols:\n",
    "    X[col] = X[col].astype(\"category\")\n",
    "    test_data[col] = test_data[col].astype(\"category\")"
   ]
  },
  {
   "cell_type": "code",
   "execution_count": 10,
   "id": "18fac9f3",
   "metadata": {
    "execution": {
     "iopub.execute_input": "2024-10-23T12:41:37.590635Z",
     "iopub.status.busy": "2024-10-23T12:41:37.590165Z",
     "iopub.status.idle": "2024-10-23T12:41:37.608733Z",
     "shell.execute_reply": "2024-10-23T12:41:37.607503Z"
    },
    "papermill": {
     "duration": 0.033455,
     "end_time": "2024-10-23T12:41:37.611653",
     "exception": false,
     "start_time": "2024-10-23T12:41:37.578198",
     "status": "completed"
    },
    "tags": []
   },
   "outputs": [],
   "source": [
    "# Simple train_test split to evaluate the optimization\n",
    "X_train, X_test, y_train, y_test = train_test_split(\n",
    "    X, y, test_size=0.1, random_state=random_state)"
   ]
  },
  {
   "cell_type": "markdown",
   "id": "e72b1447",
   "metadata": {
    "papermill": {
     "duration": 0.010555,
     "end_time": "2024-10-23T12:41:37.633316",
     "exception": false,
     "start_time": "2024-10-23T12:41:37.622761",
     "status": "completed"
    },
    "tags": []
   },
   "source": [
    "# Base model and Hyperparameter Tunning"
   ]
  },
  {
   "cell_type": "markdown",
   "id": "951a62a7",
   "metadata": {
    "papermill": {
     "duration": 0.0105,
     "end_time": "2024-10-23T12:41:37.654347",
     "exception": false,
     "start_time": "2024-10-23T12:41:37.643847",
     "status": "completed"
    },
    "tags": []
   },
   "source": [
    "## Base XGBoost model"
   ]
  },
  {
   "cell_type": "code",
   "execution_count": 11,
   "id": "b192bd1d",
   "metadata": {
    "execution": {
     "iopub.execute_input": "2024-10-23T12:41:37.677502Z",
     "iopub.status.busy": "2024-10-23T12:41:37.676668Z",
     "iopub.status.idle": "2024-10-23T12:41:37.682823Z",
     "shell.execute_reply": "2024-10-23T12:41:37.681697Z"
    },
    "papermill": {
     "duration": 0.020549,
     "end_time": "2024-10-23T12:41:37.685346",
     "exception": false,
     "start_time": "2024-10-23T12:41:37.664797",
     "status": "completed"
    },
    "tags": []
   },
   "outputs": [],
   "source": [
    "# XGB base params\n",
    "base_params = {\n",
    "    'objective': 'binary:logistic',\n",
    "    'eval_metric': 'auc',\n",
    "    'max_depth': 6,\n",
    "    'enable_categorical': True,\n",
    "    'n_estimators': 1000,\n",
    "    'colsample_bytree': 0.8,\n",
    "    'eta': 0.3,\n",
    "    'verbosity':0,\n",
    "}"
   ]
  },
  {
   "cell_type": "code",
   "execution_count": 12,
   "id": "1612db39",
   "metadata": {
    "execution": {
     "iopub.execute_input": "2024-10-23T12:41:37.709215Z",
     "iopub.status.busy": "2024-10-23T12:41:37.707925Z",
     "iopub.status.idle": "2024-10-23T12:41:41.987539Z",
     "shell.execute_reply": "2024-10-23T12:41:41.986439Z"
    },
    "papermill": {
     "duration": 4.294018,
     "end_time": "2024-10-23T12:41:41.990038",
     "exception": false,
     "start_time": "2024-10-23T12:41:37.696020",
     "status": "completed"
    },
    "tags": []
   },
   "outputs": [
    {
     "data": {
      "text/html": [
       "<style>#sk-container-id-1 {color: black;background-color: white;}#sk-container-id-1 pre{padding: 0;}#sk-container-id-1 div.sk-toggleable {background-color: white;}#sk-container-id-1 label.sk-toggleable__label {cursor: pointer;display: block;width: 100%;margin-bottom: 0;padding: 0.3em;box-sizing: border-box;text-align: center;}#sk-container-id-1 label.sk-toggleable__label-arrow:before {content: \"▸\";float: left;margin-right: 0.25em;color: #696969;}#sk-container-id-1 label.sk-toggleable__label-arrow:hover:before {color: black;}#sk-container-id-1 div.sk-estimator:hover label.sk-toggleable__label-arrow:before {color: black;}#sk-container-id-1 div.sk-toggleable__content {max-height: 0;max-width: 0;overflow: hidden;text-align: left;background-color: #f0f8ff;}#sk-container-id-1 div.sk-toggleable__content pre {margin: 0.2em;color: black;border-radius: 0.25em;background-color: #f0f8ff;}#sk-container-id-1 input.sk-toggleable__control:checked~div.sk-toggleable__content {max-height: 200px;max-width: 100%;overflow: auto;}#sk-container-id-1 input.sk-toggleable__control:checked~label.sk-toggleable__label-arrow:before {content: \"▾\";}#sk-container-id-1 div.sk-estimator input.sk-toggleable__control:checked~label.sk-toggleable__label {background-color: #d4ebff;}#sk-container-id-1 div.sk-label input.sk-toggleable__control:checked~label.sk-toggleable__label {background-color: #d4ebff;}#sk-container-id-1 input.sk-hidden--visually {border: 0;clip: rect(1px 1px 1px 1px);clip: rect(1px, 1px, 1px, 1px);height: 1px;margin: -1px;overflow: hidden;padding: 0;position: absolute;width: 1px;}#sk-container-id-1 div.sk-estimator {font-family: monospace;background-color: #f0f8ff;border: 1px dotted black;border-radius: 0.25em;box-sizing: border-box;margin-bottom: 0.5em;}#sk-container-id-1 div.sk-estimator:hover {background-color: #d4ebff;}#sk-container-id-1 div.sk-parallel-item::after {content: \"\";width: 100%;border-bottom: 1px solid gray;flex-grow: 1;}#sk-container-id-1 div.sk-label:hover label.sk-toggleable__label {background-color: #d4ebff;}#sk-container-id-1 div.sk-serial::before {content: \"\";position: absolute;border-left: 1px solid gray;box-sizing: border-box;top: 0;bottom: 0;left: 50%;z-index: 0;}#sk-container-id-1 div.sk-serial {display: flex;flex-direction: column;align-items: center;background-color: white;padding-right: 0.2em;padding-left: 0.2em;position: relative;}#sk-container-id-1 div.sk-item {position: relative;z-index: 1;}#sk-container-id-1 div.sk-parallel {display: flex;align-items: stretch;justify-content: center;background-color: white;position: relative;}#sk-container-id-1 div.sk-item::before, #sk-container-id-1 div.sk-parallel-item::before {content: \"\";position: absolute;border-left: 1px solid gray;box-sizing: border-box;top: 0;bottom: 0;left: 50%;z-index: -1;}#sk-container-id-1 div.sk-parallel-item {display: flex;flex-direction: column;z-index: 1;position: relative;background-color: white;}#sk-container-id-1 div.sk-parallel-item:first-child::after {align-self: flex-end;width: 50%;}#sk-container-id-1 div.sk-parallel-item:last-child::after {align-self: flex-start;width: 50%;}#sk-container-id-1 div.sk-parallel-item:only-child::after {width: 0;}#sk-container-id-1 div.sk-dashed-wrapped {border: 1px dashed gray;margin: 0 0.4em 0.5em 0.4em;box-sizing: border-box;padding-bottom: 0.4em;background-color: white;}#sk-container-id-1 div.sk-label label {font-family: monospace;font-weight: bold;display: inline-block;line-height: 1.2em;}#sk-container-id-1 div.sk-label-container {text-align: center;}#sk-container-id-1 div.sk-container {/* jupyter's `normalize.less` sets `[hidden] { display: none; }` but bootstrap.min.css set `[hidden] { display: none !important; }` so we also need the `!important` here to be able to override the default hidden behavior on the sphinx rendered scikit-learn.org. See: https://github.com/scikit-learn/scikit-learn/issues/21755 */display: inline-block !important;position: relative;}#sk-container-id-1 div.sk-text-repr-fallback {display: none;}</style><div id=\"sk-container-id-1\" class=\"sk-top-container\"><div class=\"sk-text-repr-fallback\"><pre>XGBClassifier(base_score=None, booster=None, callbacks=None,\n",
       "              colsample_bylevel=None, colsample_bynode=None,\n",
       "              colsample_bytree=0.8, device=None, early_stopping_rounds=None,\n",
       "              enable_categorical=True, eta=0.3, eval_metric=&#x27;auc&#x27;,\n",
       "              feature_types=None, gamma=None, grow_policy=None,\n",
       "              importance_type=None, interaction_constraints=None,\n",
       "              learning_rate=None, max_bin=None, max_cat_threshold=None,\n",
       "              max_cat_to_onehot=None, max_delta_step=None, max_depth=6,\n",
       "              max_leaves=None, min_child_weight=None, missing=nan,\n",
       "              monotone_constraints=None, multi_strategy=None, n_estimators=1000,\n",
       "              n_jobs=None, num_parallel_tree=None, ...)</pre><b>In a Jupyter environment, please rerun this cell to show the HTML representation or trust the notebook. <br />On GitHub, the HTML representation is unable to render, please try loading this page with nbviewer.org.</b></div><div class=\"sk-container\" hidden><div class=\"sk-item\"><div class=\"sk-estimator sk-toggleable\"><input class=\"sk-toggleable__control sk-hidden--visually\" id=\"sk-estimator-id-1\" type=\"checkbox\" checked><label for=\"sk-estimator-id-1\" class=\"sk-toggleable__label sk-toggleable__label-arrow\">XGBClassifier</label><div class=\"sk-toggleable__content\"><pre>XGBClassifier(base_score=None, booster=None, callbacks=None,\n",
       "              colsample_bylevel=None, colsample_bynode=None,\n",
       "              colsample_bytree=0.8, device=None, early_stopping_rounds=None,\n",
       "              enable_categorical=True, eta=0.3, eval_metric=&#x27;auc&#x27;,\n",
       "              feature_types=None, gamma=None, grow_policy=None,\n",
       "              importance_type=None, interaction_constraints=None,\n",
       "              learning_rate=None, max_bin=None, max_cat_threshold=None,\n",
       "              max_cat_to_onehot=None, max_delta_step=None, max_depth=6,\n",
       "              max_leaves=None, min_child_weight=None, missing=nan,\n",
       "              monotone_constraints=None, multi_strategy=None, n_estimators=1000,\n",
       "              n_jobs=None, num_parallel_tree=None, ...)</pre></div></div></div></div></div>"
      ],
      "text/plain": [
       "XGBClassifier(base_score=None, booster=None, callbacks=None,\n",
       "              colsample_bylevel=None, colsample_bynode=None,\n",
       "              colsample_bytree=0.8, device=None, early_stopping_rounds=None,\n",
       "              enable_categorical=True, eta=0.3, eval_metric='auc',\n",
       "              feature_types=None, gamma=None, grow_policy=None,\n",
       "              importance_type=None, interaction_constraints=None,\n",
       "              learning_rate=None, max_bin=None, max_cat_threshold=None,\n",
       "              max_cat_to_onehot=None, max_delta_step=None, max_depth=6,\n",
       "              max_leaves=None, min_child_weight=None, missing=nan,\n",
       "              monotone_constraints=None, multi_strategy=None, n_estimators=1000,\n",
       "              n_jobs=None, num_parallel_tree=None, ...)"
      ]
     },
     "execution_count": 12,
     "metadata": {},
     "output_type": "execute_result"
    }
   ],
   "source": [
    "# Base XGBoost model\n",
    "base_xgb = XGBClassifier(**base_params).fit(X_train, y_train)\n",
    "base_xgb"
   ]
  },
  {
   "cell_type": "code",
   "execution_count": 13,
   "id": "b1716372",
   "metadata": {
    "execution": {
     "iopub.execute_input": "2024-10-23T12:41:42.016125Z",
     "iopub.status.busy": "2024-10-23T12:41:42.015646Z",
     "iopub.status.idle": "2024-10-23T12:42:01.169103Z",
     "shell.execute_reply": "2024-10-23T12:42:01.167919Z"
    },
    "papermill": {
     "duration": 19.168331,
     "end_time": "2024-10-23T12:42:01.171595",
     "exception": false,
     "start_time": "2024-10-23T12:41:42.003264",
     "status": "completed"
    },
    "tags": []
   },
   "outputs": [
    {
     "name": "stdout",
     "output_type": "stream",
     "text": [
      "Base ROC_AUC : 0.9441989979173849\n"
     ]
    }
   ],
   "source": [
    "# To evaluate the model performance we use cross_val_score\n",
    "score = cross_val_score(base_xgb, X_train, y_train, scoring=\"roc_auc\", cv=5).mean()\n",
    "print(f'Base ROC_AUC : {score}')"
   ]
  },
  {
   "cell_type": "markdown",
   "id": "77e88853",
   "metadata": {
    "papermill": {
     "duration": 0.011212,
     "end_time": "2024-10-23T12:42:01.194747",
     "exception": false,
     "start_time": "2024-10-23T12:42:01.183535",
     "status": "completed"
    },
    "tags": []
   },
   "source": [
    "## Optuna Objective XGBoost  \n",
    "First, we define the search space. For simplicity, we comment out some hyperparameters, making the search easier."
   ]
  },
  {
   "cell_type": "code",
   "execution_count": 14,
   "id": "d7207c3e",
   "metadata": {
    "execution": {
     "iopub.execute_input": "2024-10-23T12:42:01.218819Z",
     "iopub.status.busy": "2024-10-23T12:42:01.218291Z",
     "iopub.status.idle": "2024-10-23T12:42:01.226779Z",
     "shell.execute_reply": "2024-10-23T12:42:01.225667Z"
    },
    "papermill": {
     "duration": 0.023353,
     "end_time": "2024-10-23T12:42:01.229250",
     "exception": false,
     "start_time": "2024-10-23T12:42:01.205897",
     "status": "completed"
    },
    "tags": []
   },
   "outputs": [],
   "source": [
    "# Optuna Objective XGB\n",
    "def objective(trial):\n",
    "    param = {\n",
    "        'objective': 'binary:logistic',\n",
    "        'eval_metric': 'auc',\n",
    "        'enable_categorical': True,\n",
    "        'max_depth': trial.suggest_int('max_depth', 3, 10),\n",
    "        'n_estimators': trial.suggest_int('n_estimators', 500, 1500),\n",
    "        #'subsample': trial.suggest_float('subsample', 0.7, 0.9),\n",
    "        'colsample_bytree': 0.8,\n",
    "        #'min_child_weight': trial.suggest_int('min_child_weight', 1, 10),\n",
    "        'eta': trial.suggest_float('eta', 0.01, 0.1),\n",
    "        #'reg_alpha': trial.suggest_float(\"reg_alpha\", 1e-6, 1e-1),\n",
    "        'reg_lambda': trial.suggest_float(\"reg_lambda\", 1, 20),\n",
    "        #'gamma': trial.suggest_float(\"gamma\", 1e-8, 1e-1),\n",
    "    }\n",
    "\n",
    "    clf = XGBClassifier(**param)\n",
    "    # Objective Function\n",
    "    score = cross_val_score(clf, X_train, y_train, scoring=\"roc_auc\", cv=5).mean()\n",
    "    return score"
   ]
  },
  {
   "cell_type": "code",
   "execution_count": 15,
   "id": "2bd69a16",
   "metadata": {
    "execution": {
     "iopub.execute_input": "2024-10-23T12:42:01.253686Z",
     "iopub.status.busy": "2024-10-23T12:42:01.252754Z",
     "iopub.status.idle": "2024-10-23T12:51:40.379118Z",
     "shell.execute_reply": "2024-10-23T12:51:40.377866Z"
    },
    "papermill": {
     "duration": 579.150003,
     "end_time": "2024-10-23T12:51:40.390330",
     "exception": false,
     "start_time": "2024-10-23T12:42:01.240327",
     "status": "completed"
    },
    "tags": []
   },
   "outputs": [
    {
     "name": "stderr",
     "output_type": "stream",
     "text": [
      "[I 2024-10-23 12:42:01,256] A new study created in memory with name: XGBoost_optimization\n",
      "[I 2024-10-23 12:42:14,669] Trial 0 finished with value: 0.9542289633595772 and parameters: {'max_depth': 6, 'n_estimators': 800, 'eta': 0.07715708573511763, 'reg_lambda': 3.2675806218664265}. Best is trial 0 with value: 0.9542289633595772.\n",
      "[I 2024-10-23 12:42:28,823] Trial 1 finished with value: 0.9527422711058262 and parameters: {'max_depth': 9, 'n_estimators': 506, 'eta': 0.04920246742936035, 'reg_lambda': 1.1569933028894028}. Best is trial 0 with value: 0.9542289633595772.\n",
      "[I 2024-10-23 12:42:43,727] Trial 2 finished with value: 0.9560889960294288 and parameters: {'max_depth': 3, 'n_estimators': 1303, 'eta': 0.07248234160399744, 'reg_lambda': 14.914717400332671}. Best is trial 2 with value: 0.9560889960294288.\n",
      "[I 2024-10-23 12:43:13,965] Trial 3 finished with value: 0.9530545314467842 and parameters: {'max_depth': 10, 'n_estimators': 959, 'eta': 0.04745916014404446, 'reg_lambda': 13.146619398749507}. Best is trial 2 with value: 0.9560889960294288.\n",
      "[I 2024-10-23 12:43:48,629] Trial 4 finished with value: 0.9497467236336942 and parameters: {'max_depth': 8, 'n_estimators': 1451, 'eta': 0.06606963950510558, 'reg_lambda': 6.394724023119516}. Best is trial 2 with value: 0.9560889960294288.\n",
      "[I 2024-10-23 12:44:12,766] Trial 5 finished with value: 0.9561688090865811 and parameters: {'max_depth': 6, 'n_estimators': 1303, 'eta': 0.029513867509509698, 'reg_lambda': 12.134160999405443}. Best is trial 5 with value: 0.9561688090865811.\n",
      "[I 2024-10-23 12:44:38,035] Trial 6 finished with value: 0.9553029876614438 and parameters: {'max_depth': 7, 'n_estimators': 1178, 'eta': 0.025746679919294968, 'reg_lambda': 2.829864432778439}. Best is trial 5 with value: 0.9561688090865811.\n",
      "[I 2024-10-23 12:44:50,898] Trial 7 finished with value: 0.9553148386911421 and parameters: {'max_depth': 5, 'n_estimators': 875, 'eta': 0.06313409781157807, 'reg_lambda': 1.7603741064914997}. Best is trial 5 with value: 0.9561688090865811.\n",
      "[I 2024-10-23 12:45:04,199] Trial 8 finished with value: 0.9554628483044747 and parameters: {'max_depth': 7, 'n_estimators': 656, 'eta': 0.05876139180164564, 'reg_lambda': 11.978038706966474}. Best is trial 5 with value: 0.9561688090865811.\n",
      "[I 2024-10-23 12:45:27,131] Trial 9 finished with value: 0.9518672004540477 and parameters: {'max_depth': 10, 'n_estimators': 700, 'eta': 0.05331223014706175, 'reg_lambda': 4.829117401880312}. Best is trial 5 with value: 0.9561688090865811.\n",
      "[I 2024-10-23 12:45:45,391] Trial 10 finished with value: 0.9494569267472975 and parameters: {'max_depth': 4, 'n_estimators': 1177, 'eta': 0.011811409142841574, 'reg_lambda': 18.604417520730557}. Best is trial 5 with value: 0.9561688090865811.\n",
      "[I 2024-10-23 12:46:00,843] Trial 11 finished with value: 0.9561060653232861 and parameters: {'max_depth': 3, 'n_estimators': 1499, 'eta': 0.09387340548524982, 'reg_lambda': 16.159911163939952}. Best is trial 5 with value: 0.9561688090865811.\n",
      "[I 2024-10-23 12:46:17,658] Trial 12 finished with value: 0.9560073067424664 and parameters: {'max_depth': 3, 'n_estimators': 1496, 'eta': 0.09568207806969818, 'reg_lambda': 8.716619341680818}. Best is trial 5 with value: 0.9561688090865811.\n",
      "[I 2024-10-23 12:46:36,996] Trial 13 finished with value: 0.9562470390748311 and parameters: {'max_depth': 5, 'n_estimators': 1309, 'eta': 0.03328369494138374, 'reg_lambda': 16.97322558197948}. Best is trial 13 with value: 0.9562470390748311.\n",
      "[I 2024-10-23 12:46:55,760] Trial 14 finished with value: 0.9561640159057381 and parameters: {'max_depth': 5, 'n_estimators': 1136, 'eta': 0.03430441548916552, 'reg_lambda': 19.470103259495488}. Best is trial 13 with value: 0.9562470390748311.\n",
      "[I 2024-10-23 12:47:20,058] Trial 15 finished with value: 0.955863621252524 and parameters: {'max_depth': 6, 'n_estimators': 1334, 'eta': 0.032123122107206935, 'reg_lambda': 9.012575534626105}. Best is trial 13 with value: 0.9562470390748311.\n",
      "[I 2024-10-23 12:47:41,091] Trial 16 finished with value: 0.9540851606052717 and parameters: {'max_depth': 5, 'n_estimators': 1320, 'eta': 0.0146100434647621, 'reg_lambda': 16.383207537539867}. Best is trial 13 with value: 0.9562470390748311.\n",
      "[I 2024-10-23 12:48:07,520] Trial 17 finished with value: 0.9548209211936574 and parameters: {'max_depth': 8, 'n_estimators': 1085, 'eta': 0.04096331347417017, 'reg_lambda': 13.564590960988824}. Best is trial 13 with value: 0.9562470390748311.\n",
      "[I 2024-10-23 12:48:25,807] Trial 18 finished with value: 0.9554966204410548 and parameters: {'max_depth': 4, 'n_estimators': 1281, 'eta': 0.023582553154571993, 'reg_lambda': 10.576909916522812}. Best is trial 13 with value: 0.9562470390748311.\n",
      "[I 2024-10-23 12:48:44,439] Trial 19 finished with value: 0.9557611248701295 and parameters: {'max_depth': 6, 'n_estimators': 1023, 'eta': 0.02259070760830209, 'reg_lambda': 17.662954830324708}. Best is trial 13 with value: 0.9562470390748311.\n",
      "[I 2024-10-23 12:49:03,523] Trial 20 finished with value: 0.9563258407268516 and parameters: {'max_depth': 4, 'n_estimators': 1387, 'eta': 0.04109936408985981, 'reg_lambda': 14.996610352077592}. Best is trial 20 with value: 0.9563258407268516.\n",
      "[I 2024-10-23 12:49:20,967] Trial 21 finished with value: 0.9563369002220986 and parameters: {'max_depth': 4, 'n_estimators': 1384, 'eta': 0.04212551618089459, 'reg_lambda': 14.727919404765053}. Best is trial 21 with value: 0.9563369002220986.\n",
      "[I 2024-10-23 12:49:40,277] Trial 22 finished with value: 0.9564439992307456 and parameters: {'max_depth': 4, 'n_estimators': 1402, 'eta': 0.04074697745978753, 'reg_lambda': 15.19807884970019}. Best is trial 22 with value: 0.9564439992307456.\n",
      "[I 2024-10-23 12:49:59,803] Trial 23 finished with value: 0.9564574479873917 and parameters: {'max_depth': 4, 'n_estimators': 1426, 'eta': 0.04332861481101489, 'reg_lambda': 14.97279992671407}. Best is trial 23 with value: 0.9564574479873917.\n",
      "[I 2024-10-23 12:50:17,376] Trial 24 finished with value: 0.9563025564217483 and parameters: {'max_depth': 4, 'n_estimators': 1404, 'eta': 0.042082498578973206, 'reg_lambda': 14.848441212557942}. Best is trial 23 with value: 0.9564574479873917.\n",
      "[I 2024-10-23 12:50:32,017] Trial 25 finished with value: 0.9558052235996876 and parameters: {'max_depth': 3, 'n_estimators': 1204, 'eta': 0.05466482266455993, 'reg_lambda': 10.592586443341425}. Best is trial 23 with value: 0.9564574479873917.\n",
      "[I 2024-10-23 12:50:49,812] Trial 26 finished with value: 0.956286373939637 and parameters: {'max_depth': 4, 'n_estimators': 1416, 'eta': 0.036557361758725364, 'reg_lambda': 13.816034129358332}. Best is trial 23 with value: 0.9564574479873917.\n",
      "[I 2024-10-23 12:51:09,163] Trial 27 finished with value: 0.9560115649046523 and parameters: {'max_depth': 5, 'n_estimators': 1220, 'eta': 0.04881072833589554, 'reg_lambda': 18.28458234872535}. Best is trial 23 with value: 0.9564574479873917.\n",
      "[I 2024-10-23 12:51:27,354] Trial 28 finished with value: 0.9549028010352097 and parameters: {'max_depth': 4, 'n_estimators': 1387, 'eta': 0.019628163494037298, 'reg_lambda': 15.55728269931808}. Best is trial 23 with value: 0.9564574479873917.\n",
      "[I 2024-10-23 12:51:40,368] Trial 29 finished with value: 0.9559602397587168 and parameters: {'max_depth': 3, 'n_estimators': 1065, 'eta': 0.08453577362437079, 'reg_lambda': 19.88928873376811}. Best is trial 23 with value: 0.9564574479873917.\n"
     ]
    },
    {
     "name": "stdout",
     "output_type": "stream",
     "text": [
      "CPU times: user 37min 23s, sys: 14.8 s, total: 37min 37s\n",
      "Wall time: 9min 39s\n"
     ]
    }
   ],
   "source": [
    "%%time\n",
    "# Run the optimization\n",
    "study = optuna.create_study(\n",
    "    study_name='XGBoost_optimization', \n",
    "    direction='maximize')\n",
    "\n",
    "study.optimize(objective, n_trials=30, timeout=3600)"
   ]
  },
  {
   "cell_type": "code",
   "execution_count": 16,
   "id": "84fc9b0c",
   "metadata": {
    "execution": {
     "iopub.execute_input": "2024-10-23T12:51:40.420248Z",
     "iopub.status.busy": "2024-10-23T12:51:40.419803Z",
     "iopub.status.idle": "2024-10-23T12:51:40.433860Z",
     "shell.execute_reply": "2024-10-23T12:51:40.432419Z"
    },
    "papermill": {
     "duration": 0.032015,
     "end_time": "2024-10-23T12:51:40.436209",
     "exception": false,
     "start_time": "2024-10-23T12:51:40.404194",
     "status": "completed"
    },
    "tags": []
   },
   "outputs": [
    {
     "name": "stdout",
     "output_type": "stream",
     "text": [
      "N trials:  30\n",
      "Best trial:\n",
      "  Valor: 0.9564574479873917\n",
      "  Params: \n",
      "    max_depth: 4\n",
      "    n_estimators: 1426\n",
      "    eta: 0.04332861481101489\n",
      "    reg_lambda: 14.97279992671407\n"
     ]
    }
   ],
   "source": [
    "#  Results\n",
    "print('N trials: ', len(study.trials))\n",
    "print('Best trial:')\n",
    "trial = study.best_trial \n",
    "\n",
    "print('  Valor: {}'.format(trial.value))\n",
    "print('  Params: ')\n",
    "for key, value in trial.params.items():\n",
    "    print('    {}: {}'.format(key, value))\n",
    "\n",
    "# Optuna params\n",
    "optuna_params = trial.params"
   ]
  },
  {
   "cell_type": "markdown",
   "id": "2a704fcd",
   "metadata": {
    "papermill": {
     "duration": 0.013822,
     "end_time": "2024-10-23T12:51:40.464280",
     "exception": false,
     "start_time": "2024-10-23T12:51:40.450458",
     "status": "completed"
    },
    "tags": []
   },
   "source": [
    "Now we update the base parameters with the Optuna parameters and construct the XGBoost model."
   ]
  },
  {
   "cell_type": "code",
   "execution_count": 17,
   "id": "d6f6f488",
   "metadata": {
    "execution": {
     "iopub.execute_input": "2024-10-23T12:51:40.495041Z",
     "iopub.status.busy": "2024-10-23T12:51:40.493953Z",
     "iopub.status.idle": "2024-10-23T12:51:40.502040Z",
     "shell.execute_reply": "2024-10-23T12:51:40.500949Z"
    },
    "papermill": {
     "duration": 0.02597,
     "end_time": "2024-10-23T12:51:40.504385",
     "exception": false,
     "start_time": "2024-10-23T12:51:40.478415",
     "status": "completed"
    },
    "tags": []
   },
   "outputs": [
    {
     "data": {
      "text/plain": [
       "{'objective': 'binary:logistic',\n",
       " 'eval_metric': 'auc',\n",
       " 'max_depth': 4,\n",
       " 'enable_categorical': True,\n",
       " 'n_estimators': 1426,\n",
       " 'colsample_bytree': 0.8,\n",
       " 'eta': 0.04332861481101489,\n",
       " 'verbosity': 0,\n",
       " 'reg_lambda': 14.97279992671407}"
      ]
     },
     "execution_count": 17,
     "metadata": {},
     "output_type": "execute_result"
    }
   ],
   "source": [
    "base_params.update(optuna_params)\n",
    "base_params #updated"
   ]
  },
  {
   "cell_type": "code",
   "execution_count": 18,
   "id": "ada72f19",
   "metadata": {
    "execution": {
     "iopub.execute_input": "2024-10-23T12:51:40.535188Z",
     "iopub.status.busy": "2024-10-23T12:51:40.534039Z",
     "iopub.status.idle": "2024-10-23T12:51:40.546182Z",
     "shell.execute_reply": "2024-10-23T12:51:40.545058Z"
    },
    "papermill": {
     "duration": 0.030262,
     "end_time": "2024-10-23T12:51:40.548682",
     "exception": false,
     "start_time": "2024-10-23T12:51:40.518420",
     "status": "completed"
    },
    "tags": []
   },
   "outputs": [
    {
     "data": {
      "text/html": [
       "<style>#sk-container-id-2 {color: black;background-color: white;}#sk-container-id-2 pre{padding: 0;}#sk-container-id-2 div.sk-toggleable {background-color: white;}#sk-container-id-2 label.sk-toggleable__label {cursor: pointer;display: block;width: 100%;margin-bottom: 0;padding: 0.3em;box-sizing: border-box;text-align: center;}#sk-container-id-2 label.sk-toggleable__label-arrow:before {content: \"▸\";float: left;margin-right: 0.25em;color: #696969;}#sk-container-id-2 label.sk-toggleable__label-arrow:hover:before {color: black;}#sk-container-id-2 div.sk-estimator:hover label.sk-toggleable__label-arrow:before {color: black;}#sk-container-id-2 div.sk-toggleable__content {max-height: 0;max-width: 0;overflow: hidden;text-align: left;background-color: #f0f8ff;}#sk-container-id-2 div.sk-toggleable__content pre {margin: 0.2em;color: black;border-radius: 0.25em;background-color: #f0f8ff;}#sk-container-id-2 input.sk-toggleable__control:checked~div.sk-toggleable__content {max-height: 200px;max-width: 100%;overflow: auto;}#sk-container-id-2 input.sk-toggleable__control:checked~label.sk-toggleable__label-arrow:before {content: \"▾\";}#sk-container-id-2 div.sk-estimator input.sk-toggleable__control:checked~label.sk-toggleable__label {background-color: #d4ebff;}#sk-container-id-2 div.sk-label input.sk-toggleable__control:checked~label.sk-toggleable__label {background-color: #d4ebff;}#sk-container-id-2 input.sk-hidden--visually {border: 0;clip: rect(1px 1px 1px 1px);clip: rect(1px, 1px, 1px, 1px);height: 1px;margin: -1px;overflow: hidden;padding: 0;position: absolute;width: 1px;}#sk-container-id-2 div.sk-estimator {font-family: monospace;background-color: #f0f8ff;border: 1px dotted black;border-radius: 0.25em;box-sizing: border-box;margin-bottom: 0.5em;}#sk-container-id-2 div.sk-estimator:hover {background-color: #d4ebff;}#sk-container-id-2 div.sk-parallel-item::after {content: \"\";width: 100%;border-bottom: 1px solid gray;flex-grow: 1;}#sk-container-id-2 div.sk-label:hover label.sk-toggleable__label {background-color: #d4ebff;}#sk-container-id-2 div.sk-serial::before {content: \"\";position: absolute;border-left: 1px solid gray;box-sizing: border-box;top: 0;bottom: 0;left: 50%;z-index: 0;}#sk-container-id-2 div.sk-serial {display: flex;flex-direction: column;align-items: center;background-color: white;padding-right: 0.2em;padding-left: 0.2em;position: relative;}#sk-container-id-2 div.sk-item {position: relative;z-index: 1;}#sk-container-id-2 div.sk-parallel {display: flex;align-items: stretch;justify-content: center;background-color: white;position: relative;}#sk-container-id-2 div.sk-item::before, #sk-container-id-2 div.sk-parallel-item::before {content: \"\";position: absolute;border-left: 1px solid gray;box-sizing: border-box;top: 0;bottom: 0;left: 50%;z-index: -1;}#sk-container-id-2 div.sk-parallel-item {display: flex;flex-direction: column;z-index: 1;position: relative;background-color: white;}#sk-container-id-2 div.sk-parallel-item:first-child::after {align-self: flex-end;width: 50%;}#sk-container-id-2 div.sk-parallel-item:last-child::after {align-self: flex-start;width: 50%;}#sk-container-id-2 div.sk-parallel-item:only-child::after {width: 0;}#sk-container-id-2 div.sk-dashed-wrapped {border: 1px dashed gray;margin: 0 0.4em 0.5em 0.4em;box-sizing: border-box;padding-bottom: 0.4em;background-color: white;}#sk-container-id-2 div.sk-label label {font-family: monospace;font-weight: bold;display: inline-block;line-height: 1.2em;}#sk-container-id-2 div.sk-label-container {text-align: center;}#sk-container-id-2 div.sk-container {/* jupyter's `normalize.less` sets `[hidden] { display: none; }` but bootstrap.min.css set `[hidden] { display: none !important; }` so we also need the `!important` here to be able to override the default hidden behavior on the sphinx rendered scikit-learn.org. See: https://github.com/scikit-learn/scikit-learn/issues/21755 */display: inline-block !important;position: relative;}#sk-container-id-2 div.sk-text-repr-fallback {display: none;}</style><div id=\"sk-container-id-2\" class=\"sk-top-container\"><div class=\"sk-text-repr-fallback\"><pre>XGBClassifier(base_score=None, booster=None, callbacks=None,\n",
       "              colsample_bylevel=None, colsample_bynode=None,\n",
       "              colsample_bytree=0.8, device=None, early_stopping_rounds=None,\n",
       "              enable_categorical=True, eta=0.04332861481101489,\n",
       "              eval_metric=&#x27;auc&#x27;, feature_types=None, gamma=None,\n",
       "              grow_policy=None, importance_type=None,\n",
       "              interaction_constraints=None, learning_rate=None, max_bin=None,\n",
       "              max_cat_threshold=None, max_cat_to_onehot=None,\n",
       "              max_delta_step=None, max_depth=4, max_leaves=None,\n",
       "              min_child_weight=None, missing=nan, monotone_constraints=None,\n",
       "              multi_strategy=None, n_estimators=1426, n_jobs=None,\n",
       "              num_parallel_tree=None, ...)</pre><b>In a Jupyter environment, please rerun this cell to show the HTML representation or trust the notebook. <br />On GitHub, the HTML representation is unable to render, please try loading this page with nbviewer.org.</b></div><div class=\"sk-container\" hidden><div class=\"sk-item\"><div class=\"sk-estimator sk-toggleable\"><input class=\"sk-toggleable__control sk-hidden--visually\" id=\"sk-estimator-id-2\" type=\"checkbox\" checked><label for=\"sk-estimator-id-2\" class=\"sk-toggleable__label sk-toggleable__label-arrow\">XGBClassifier</label><div class=\"sk-toggleable__content\"><pre>XGBClassifier(base_score=None, booster=None, callbacks=None,\n",
       "              colsample_bylevel=None, colsample_bynode=None,\n",
       "              colsample_bytree=0.8, device=None, early_stopping_rounds=None,\n",
       "              enable_categorical=True, eta=0.04332861481101489,\n",
       "              eval_metric=&#x27;auc&#x27;, feature_types=None, gamma=None,\n",
       "              grow_policy=None, importance_type=None,\n",
       "              interaction_constraints=None, learning_rate=None, max_bin=None,\n",
       "              max_cat_threshold=None, max_cat_to_onehot=None,\n",
       "              max_delta_step=None, max_depth=4, max_leaves=None,\n",
       "              min_child_weight=None, missing=nan, monotone_constraints=None,\n",
       "              multi_strategy=None, n_estimators=1426, n_jobs=None,\n",
       "              num_parallel_tree=None, ...)</pre></div></div></div></div></div>"
      ],
      "text/plain": [
       "XGBClassifier(base_score=None, booster=None, callbacks=None,\n",
       "              colsample_bylevel=None, colsample_bynode=None,\n",
       "              colsample_bytree=0.8, device=None, early_stopping_rounds=None,\n",
       "              enable_categorical=True, eta=0.04332861481101489,\n",
       "              eval_metric='auc', feature_types=None, gamma=None,\n",
       "              grow_policy=None, importance_type=None,\n",
       "              interaction_constraints=None, learning_rate=None, max_bin=None,\n",
       "              max_cat_threshold=None, max_cat_to_onehot=None,\n",
       "              max_delta_step=None, max_depth=4, max_leaves=None,\n",
       "              min_child_weight=None, missing=nan, monotone_constraints=None,\n",
       "              multi_strategy=None, n_estimators=1426, n_jobs=None,\n",
       "              num_parallel_tree=None, ...)"
      ]
     },
     "execution_count": 18,
     "metadata": {},
     "output_type": "execute_result"
    }
   ],
   "source": [
    "# Construct the optimized model\n",
    "xgb_model = XGBClassifier(**base_params)\n",
    "xgb_model"
   ]
  },
  {
   "cell_type": "markdown",
   "id": "f3312c70",
   "metadata": {
    "papermill": {
     "duration": 0.014325,
     "end_time": "2024-10-23T12:51:40.577475",
     "exception": false,
     "start_time": "2024-10-23T12:51:40.563150",
     "status": "completed"
    },
    "tags": []
   },
   "source": [
    "## Evaluate the performance of both models  \n",
    "\n",
    "We found that the optimized model had a better ROC AUC score than the base model."
   ]
  },
  {
   "cell_type": "code",
   "execution_count": 19,
   "id": "ce6e03cd",
   "metadata": {
    "execution": {
     "iopub.execute_input": "2024-10-23T12:51:40.609064Z",
     "iopub.status.busy": "2024-10-23T12:51:40.608605Z",
     "iopub.status.idle": "2024-10-23T12:51:44.681757Z",
     "shell.execute_reply": "2024-10-23T12:51:44.680771Z"
    },
    "papermill": {
     "duration": 4.091606,
     "end_time": "2024-10-23T12:51:44.684088",
     "exception": false,
     "start_time": "2024-10-23T12:51:40.592482",
     "status": "completed"
    },
    "tags": []
   },
   "outputs": [
    {
     "name": "stdout",
     "output_type": "stream",
     "text": [
      "Optimization ROC_AUC score : 0.9604935829334116\n"
     ]
    }
   ],
   "source": [
    "xgb_model.fit(X_train, y_train)\n",
    "opt_preds = xgb_model.predict_proba(X_test)[:,1]\n",
    "score = roc_auc_score(y_test, opt_preds)\n",
    "print(f'Optimization ROC_AUC score : {score}')"
   ]
  },
  {
   "cell_type": "code",
   "execution_count": 20,
   "id": "c5a8c753",
   "metadata": {
    "execution": {
     "iopub.execute_input": "2024-10-23T12:51:44.715874Z",
     "iopub.status.busy": "2024-10-23T12:51:44.715433Z",
     "iopub.status.idle": "2024-10-23T12:51:44.823603Z",
     "shell.execute_reply": "2024-10-23T12:51:44.822594Z"
    },
    "papermill": {
     "duration": 0.126872,
     "end_time": "2024-10-23T12:51:44.826302",
     "exception": false,
     "start_time": "2024-10-23T12:51:44.699430",
     "status": "completed"
    },
    "tags": []
   },
   "outputs": [
    {
     "name": "stdout",
     "output_type": "stream",
     "text": [
      "Base ROC_AUC score : 0.9478525112649742\n"
     ]
    }
   ],
   "source": [
    "#base_xgb.fit(X_train, y_train) # this was already fitted\n",
    "base_preds = base_xgb.predict_proba(X_test)[:,1]\n",
    "score = roc_auc_score(y_test, base_preds)\n",
    "print(f'Base ROC_AUC score : {score}')"
   ]
  },
  {
   "cell_type": "markdown",
   "id": "03b9f28a",
   "metadata": {
    "papermill": {
     "duration": 0.014699,
     "end_time": "2024-10-23T12:51:44.856493",
     "exception": false,
     "start_time": "2024-10-23T12:51:44.841794",
     "status": "completed"
    },
    "tags": []
   },
   "source": [
    "## Optuna's Tuning Visualization  \n",
    "We can appreciate the history plot, slice plot, and the hyperparameter importance plot to better understand our results."
   ]
  },
  {
   "cell_type": "code",
   "execution_count": 21,
   "id": "70346423",
   "metadata": {
    "execution": {
     "iopub.execute_input": "2024-10-23T12:51:44.887929Z",
     "iopub.status.busy": "2024-10-23T12:51:44.887491Z",
     "iopub.status.idle": "2024-10-23T12:51:44.892911Z",
     "shell.execute_reply": "2024-10-23T12:51:44.891728Z"
    },
    "papermill": {
     "duration": 0.024022,
     "end_time": "2024-10-23T12:51:44.895257",
     "exception": false,
     "start_time": "2024-10-23T12:51:44.871235",
     "status": "completed"
    },
    "tags": []
   },
   "outputs": [],
   "source": [
    "#!pip install plotly"
   ]
  },
  {
   "cell_type": "code",
   "execution_count": 22,
   "id": "fbcb0bfa",
   "metadata": {
    "execution": {
     "iopub.execute_input": "2024-10-23T12:51:44.926583Z",
     "iopub.status.busy": "2024-10-23T12:51:44.926156Z",
     "iopub.status.idle": "2024-10-23T12:51:46.930471Z",
     "shell.execute_reply": "2024-10-23T12:51:46.929072Z"
    },
    "papermill": {
     "duration": 2.022792,
     "end_time": "2024-10-23T12:51:46.932892",
     "exception": false,
     "start_time": "2024-10-23T12:51:44.910100",
     "status": "completed"
    },
    "tags": []
   },
   "outputs": [
    {
     "data": {
      "text/html": [
       "        <script type=\"text/javascript\">\n",
       "        window.PlotlyConfig = {MathJaxConfig: 'local'};\n",
       "        if (window.MathJax && window.MathJax.Hub && window.MathJax.Hub.Config) {window.MathJax.Hub.Config({SVG: {font: \"STIX-Web\"}});}\n",
       "        if (typeof require !== 'undefined') {\n",
       "        require.undef(\"plotly\");\n",
       "        requirejs.config({\n",
       "            paths: {\n",
       "                'plotly': ['https://cdn.plot.ly/plotly-2.32.0.min']\n",
       "            }\n",
       "        });\n",
       "        require(['plotly'], function(Plotly) {\n",
       "            window._Plotly = Plotly;\n",
       "        });\n",
       "        }\n",
       "        </script>\n",
       "        "
      ]
     },
     "metadata": {},
     "output_type": "display_data"
    },
    {
     "data": {
      "text/html": [
       "<div>                            <div id=\"a9ebbc4a-f738-4da1-ad63-e4d5a553f2f9\" class=\"plotly-graph-div\" style=\"height:525px; width:100%;\"></div>            <script type=\"text/javascript\">                require([\"plotly\"], function(Plotly) {                    window.PLOTLYENV=window.PLOTLYENV || {};                                    if (document.getElementById(\"a9ebbc4a-f738-4da1-ad63-e4d5a553f2f9\")) {                    Plotly.newPlot(                        \"a9ebbc4a-f738-4da1-ad63-e4d5a553f2f9\",                        [{\"mode\":\"markers\",\"name\":\"Objective Value\",\"x\":[0,1,2,3,4,5,6,7,8,9,10,11,12,13,14,15,16,17,18,19,20,21,22,23,24,25,26,27,28,29],\"y\":[0.9542289633595772,0.9527422711058262,0.9560889960294288,0.9530545314467842,0.9497467236336942,0.9561688090865811,0.9553029876614438,0.9553148386911421,0.9554628483044747,0.9518672004540477,0.9494569267472975,0.9561060653232861,0.9560073067424664,0.9562470390748311,0.9561640159057381,0.955863621252524,0.9540851606052717,0.9548209211936574,0.9554966204410548,0.9557611248701295,0.9563258407268516,0.9563369002220986,0.9564439992307456,0.9564574479873917,0.9563025564217483,0.9558052235996876,0.956286373939637,0.9560115649046523,0.9549028010352097,0.9559602397587168],\"type\":\"scatter\"},{\"mode\":\"lines\",\"name\":\"Best Value\",\"x\":[0,1,2,3,4,5,6,7,8,9,10,11,12,13,14,15,16,17,18,19,20,21,22,23,24,25,26,27,28,29],\"y\":[0.9542289633595772,0.9542289633595772,0.9560889960294288,0.9560889960294288,0.9560889960294288,0.9561688090865811,0.9561688090865811,0.9561688090865811,0.9561688090865811,0.9561688090865811,0.9561688090865811,0.9561688090865811,0.9561688090865811,0.9562470390748311,0.9562470390748311,0.9562470390748311,0.9562470390748311,0.9562470390748311,0.9562470390748311,0.9562470390748311,0.9563258407268516,0.9563369002220986,0.9564439992307456,0.9564574479873917,0.9564574479873917,0.9564574479873917,0.9564574479873917,0.9564574479873917,0.9564574479873917,0.9564574479873917],\"type\":\"scatter\"},{\"marker\":{\"color\":\"#cccccc\"},\"mode\":\"markers\",\"name\":\"Infeasible Trial\",\"showlegend\":false,\"x\":[],\"y\":[],\"type\":\"scatter\"}],                        {\"title\":{\"text\":\"Optimization History Plot\"},\"xaxis\":{\"title\":{\"text\":\"Trial\"}},\"yaxis\":{\"title\":{\"text\":\"Objective Value\"}},\"template\":{\"data\":{\"histogram2dcontour\":[{\"type\":\"histogram2dcontour\",\"colorbar\":{\"outlinewidth\":0,\"ticks\":\"\"},\"colorscale\":[[0.0,\"#0d0887\"],[0.1111111111111111,\"#46039f\"],[0.2222222222222222,\"#7201a8\"],[0.3333333333333333,\"#9c179e\"],[0.4444444444444444,\"#bd3786\"],[0.5555555555555556,\"#d8576b\"],[0.6666666666666666,\"#ed7953\"],[0.7777777777777778,\"#fb9f3a\"],[0.8888888888888888,\"#fdca26\"],[1.0,\"#f0f921\"]]}],\"choropleth\":[{\"type\":\"choropleth\",\"colorbar\":{\"outlinewidth\":0,\"ticks\":\"\"}}],\"histogram2d\":[{\"type\":\"histogram2d\",\"colorbar\":{\"outlinewidth\":0,\"ticks\":\"\"},\"colorscale\":[[0.0,\"#0d0887\"],[0.1111111111111111,\"#46039f\"],[0.2222222222222222,\"#7201a8\"],[0.3333333333333333,\"#9c179e\"],[0.4444444444444444,\"#bd3786\"],[0.5555555555555556,\"#d8576b\"],[0.6666666666666666,\"#ed7953\"],[0.7777777777777778,\"#fb9f3a\"],[0.8888888888888888,\"#fdca26\"],[1.0,\"#f0f921\"]]}],\"heatmap\":[{\"type\":\"heatmap\",\"colorbar\":{\"outlinewidth\":0,\"ticks\":\"\"},\"colorscale\":[[0.0,\"#0d0887\"],[0.1111111111111111,\"#46039f\"],[0.2222222222222222,\"#7201a8\"],[0.3333333333333333,\"#9c179e\"],[0.4444444444444444,\"#bd3786\"],[0.5555555555555556,\"#d8576b\"],[0.6666666666666666,\"#ed7953\"],[0.7777777777777778,\"#fb9f3a\"],[0.8888888888888888,\"#fdca26\"],[1.0,\"#f0f921\"]]}],\"heatmapgl\":[{\"type\":\"heatmapgl\",\"colorbar\":{\"outlinewidth\":0,\"ticks\":\"\"},\"colorscale\":[[0.0,\"#0d0887\"],[0.1111111111111111,\"#46039f\"],[0.2222222222222222,\"#7201a8\"],[0.3333333333333333,\"#9c179e\"],[0.4444444444444444,\"#bd3786\"],[0.5555555555555556,\"#d8576b\"],[0.6666666666666666,\"#ed7953\"],[0.7777777777777778,\"#fb9f3a\"],[0.8888888888888888,\"#fdca26\"],[1.0,\"#f0f921\"]]}],\"contourcarpet\":[{\"type\":\"contourcarpet\",\"colorbar\":{\"outlinewidth\":0,\"ticks\":\"\"}}],\"contour\":[{\"type\":\"contour\",\"colorbar\":{\"outlinewidth\":0,\"ticks\":\"\"},\"colorscale\":[[0.0,\"#0d0887\"],[0.1111111111111111,\"#46039f\"],[0.2222222222222222,\"#7201a8\"],[0.3333333333333333,\"#9c179e\"],[0.4444444444444444,\"#bd3786\"],[0.5555555555555556,\"#d8576b\"],[0.6666666666666666,\"#ed7953\"],[0.7777777777777778,\"#fb9f3a\"],[0.8888888888888888,\"#fdca26\"],[1.0,\"#f0f921\"]]}],\"surface\":[{\"type\":\"surface\",\"colorbar\":{\"outlinewidth\":0,\"ticks\":\"\"},\"colorscale\":[[0.0,\"#0d0887\"],[0.1111111111111111,\"#46039f\"],[0.2222222222222222,\"#7201a8\"],[0.3333333333333333,\"#9c179e\"],[0.4444444444444444,\"#bd3786\"],[0.5555555555555556,\"#d8576b\"],[0.6666666666666666,\"#ed7953\"],[0.7777777777777778,\"#fb9f3a\"],[0.8888888888888888,\"#fdca26\"],[1.0,\"#f0f921\"]]}],\"mesh3d\":[{\"type\":\"mesh3d\",\"colorbar\":{\"outlinewidth\":0,\"ticks\":\"\"}}],\"scatter\":[{\"fillpattern\":{\"fillmode\":\"overlay\",\"size\":10,\"solidity\":0.2},\"type\":\"scatter\"}],\"parcoords\":[{\"type\":\"parcoords\",\"line\":{\"colorbar\":{\"outlinewidth\":0,\"ticks\":\"\"}}}],\"scatterpolargl\":[{\"type\":\"scatterpolargl\",\"marker\":{\"colorbar\":{\"outlinewidth\":0,\"ticks\":\"\"}}}],\"bar\":[{\"error_x\":{\"color\":\"#2a3f5f\"},\"error_y\":{\"color\":\"#2a3f5f\"},\"marker\":{\"line\":{\"color\":\"#E5ECF6\",\"width\":0.5},\"pattern\":{\"fillmode\":\"overlay\",\"size\":10,\"solidity\":0.2}},\"type\":\"bar\"}],\"scattergeo\":[{\"type\":\"scattergeo\",\"marker\":{\"colorbar\":{\"outlinewidth\":0,\"ticks\":\"\"}}}],\"scatterpolar\":[{\"type\":\"scatterpolar\",\"marker\":{\"colorbar\":{\"outlinewidth\":0,\"ticks\":\"\"}}}],\"histogram\":[{\"marker\":{\"pattern\":{\"fillmode\":\"overlay\",\"size\":10,\"solidity\":0.2}},\"type\":\"histogram\"}],\"scattergl\":[{\"type\":\"scattergl\",\"marker\":{\"colorbar\":{\"outlinewidth\":0,\"ticks\":\"\"}}}],\"scatter3d\":[{\"type\":\"scatter3d\",\"line\":{\"colorbar\":{\"outlinewidth\":0,\"ticks\":\"\"}},\"marker\":{\"colorbar\":{\"outlinewidth\":0,\"ticks\":\"\"}}}],\"scattermapbox\":[{\"type\":\"scattermapbox\",\"marker\":{\"colorbar\":{\"outlinewidth\":0,\"ticks\":\"\"}}}],\"scatterternary\":[{\"type\":\"scatterternary\",\"marker\":{\"colorbar\":{\"outlinewidth\":0,\"ticks\":\"\"}}}],\"scattercarpet\":[{\"type\":\"scattercarpet\",\"marker\":{\"colorbar\":{\"outlinewidth\":0,\"ticks\":\"\"}}}],\"carpet\":[{\"aaxis\":{\"endlinecolor\":\"#2a3f5f\",\"gridcolor\":\"white\",\"linecolor\":\"white\",\"minorgridcolor\":\"white\",\"startlinecolor\":\"#2a3f5f\"},\"baxis\":{\"endlinecolor\":\"#2a3f5f\",\"gridcolor\":\"white\",\"linecolor\":\"white\",\"minorgridcolor\":\"white\",\"startlinecolor\":\"#2a3f5f\"},\"type\":\"carpet\"}],\"table\":[{\"cells\":{\"fill\":{\"color\":\"#EBF0F8\"},\"line\":{\"color\":\"white\"}},\"header\":{\"fill\":{\"color\":\"#C8D4E3\"},\"line\":{\"color\":\"white\"}},\"type\":\"table\"}],\"barpolar\":[{\"marker\":{\"line\":{\"color\":\"#E5ECF6\",\"width\":0.5},\"pattern\":{\"fillmode\":\"overlay\",\"size\":10,\"solidity\":0.2}},\"type\":\"barpolar\"}],\"pie\":[{\"automargin\":true,\"type\":\"pie\"}]},\"layout\":{\"autotypenumbers\":\"strict\",\"colorway\":[\"#636efa\",\"#EF553B\",\"#00cc96\",\"#ab63fa\",\"#FFA15A\",\"#19d3f3\",\"#FF6692\",\"#B6E880\",\"#FF97FF\",\"#FECB52\"],\"font\":{\"color\":\"#2a3f5f\"},\"hovermode\":\"closest\",\"hoverlabel\":{\"align\":\"left\"},\"paper_bgcolor\":\"white\",\"plot_bgcolor\":\"#E5ECF6\",\"polar\":{\"bgcolor\":\"#E5ECF6\",\"angularaxis\":{\"gridcolor\":\"white\",\"linecolor\":\"white\",\"ticks\":\"\"},\"radialaxis\":{\"gridcolor\":\"white\",\"linecolor\":\"white\",\"ticks\":\"\"}},\"ternary\":{\"bgcolor\":\"#E5ECF6\",\"aaxis\":{\"gridcolor\":\"white\",\"linecolor\":\"white\",\"ticks\":\"\"},\"baxis\":{\"gridcolor\":\"white\",\"linecolor\":\"white\",\"ticks\":\"\"},\"caxis\":{\"gridcolor\":\"white\",\"linecolor\":\"white\",\"ticks\":\"\"}},\"coloraxis\":{\"colorbar\":{\"outlinewidth\":0,\"ticks\":\"\"}},\"colorscale\":{\"sequential\":[[0.0,\"#0d0887\"],[0.1111111111111111,\"#46039f\"],[0.2222222222222222,\"#7201a8\"],[0.3333333333333333,\"#9c179e\"],[0.4444444444444444,\"#bd3786\"],[0.5555555555555556,\"#d8576b\"],[0.6666666666666666,\"#ed7953\"],[0.7777777777777778,\"#fb9f3a\"],[0.8888888888888888,\"#fdca26\"],[1.0,\"#f0f921\"]],\"sequentialminus\":[[0.0,\"#0d0887\"],[0.1111111111111111,\"#46039f\"],[0.2222222222222222,\"#7201a8\"],[0.3333333333333333,\"#9c179e\"],[0.4444444444444444,\"#bd3786\"],[0.5555555555555556,\"#d8576b\"],[0.6666666666666666,\"#ed7953\"],[0.7777777777777778,\"#fb9f3a\"],[0.8888888888888888,\"#fdca26\"],[1.0,\"#f0f921\"]],\"diverging\":[[0,\"#8e0152\"],[0.1,\"#c51b7d\"],[0.2,\"#de77ae\"],[0.3,\"#f1b6da\"],[0.4,\"#fde0ef\"],[0.5,\"#f7f7f7\"],[0.6,\"#e6f5d0\"],[0.7,\"#b8e186\"],[0.8,\"#7fbc41\"],[0.9,\"#4d9221\"],[1,\"#276419\"]]},\"xaxis\":{\"gridcolor\":\"white\",\"linecolor\":\"white\",\"ticks\":\"\",\"title\":{\"standoff\":15},\"zerolinecolor\":\"white\",\"automargin\":true,\"zerolinewidth\":2},\"yaxis\":{\"gridcolor\":\"white\",\"linecolor\":\"white\",\"ticks\":\"\",\"title\":{\"standoff\":15},\"zerolinecolor\":\"white\",\"automargin\":true,\"zerolinewidth\":2},\"scene\":{\"xaxis\":{\"backgroundcolor\":\"#E5ECF6\",\"gridcolor\":\"white\",\"linecolor\":\"white\",\"showbackground\":true,\"ticks\":\"\",\"zerolinecolor\":\"white\",\"gridwidth\":2},\"yaxis\":{\"backgroundcolor\":\"#E5ECF6\",\"gridcolor\":\"white\",\"linecolor\":\"white\",\"showbackground\":true,\"ticks\":\"\",\"zerolinecolor\":\"white\",\"gridwidth\":2},\"zaxis\":{\"backgroundcolor\":\"#E5ECF6\",\"gridcolor\":\"white\",\"linecolor\":\"white\",\"showbackground\":true,\"ticks\":\"\",\"zerolinecolor\":\"white\",\"gridwidth\":2}},\"shapedefaults\":{\"line\":{\"color\":\"#2a3f5f\"}},\"annotationdefaults\":{\"arrowcolor\":\"#2a3f5f\",\"arrowhead\":0,\"arrowwidth\":1},\"geo\":{\"bgcolor\":\"white\",\"landcolor\":\"#E5ECF6\",\"subunitcolor\":\"white\",\"showland\":true,\"showlakes\":true,\"lakecolor\":\"white\"},\"title\":{\"x\":0.05},\"mapbox\":{\"style\":\"light\"}}}},                        {\"responsive\": true}                    ).then(function(){\n",
       "                            \n",
       "var gd = document.getElementById('a9ebbc4a-f738-4da1-ad63-e4d5a553f2f9');\n",
       "var x = new MutationObserver(function (mutations, observer) {{\n",
       "        var display = window.getComputedStyle(gd).display;\n",
       "        if (!display || display === 'none') {{\n",
       "            console.log([gd, 'removed!']);\n",
       "            Plotly.purge(gd);\n",
       "            observer.disconnect();\n",
       "        }}\n",
       "}});\n",
       "\n",
       "// Listen for the removal of the full notebook cells\n",
       "var notebookContainer = gd.closest('#notebook-container');\n",
       "if (notebookContainer) {{\n",
       "    x.observe(notebookContainer, {childList: true});\n",
       "}}\n",
       "\n",
       "// Listen for the clearing of the current output cell\n",
       "var outputEl = gd.closest('.output');\n",
       "if (outputEl) {{\n",
       "    x.observe(outputEl, {childList: true});\n",
       "}}\n",
       "\n",
       "                        })                };                });            </script>        </div>"
      ]
     },
     "metadata": {},
     "output_type": "display_data"
    },
    {
     "data": {
      "text/html": [
       "<div>                            <div id=\"3d41576d-8ec6-4af1-af37-decca2ab9fc4\" class=\"plotly-graph-div\" style=\"height:525px; width:1200px;\"></div>            <script type=\"text/javascript\">                require([\"plotly\"], function(Plotly) {                    window.PLOTLYENV=window.PLOTLYENV || {};                                    if (document.getElementById(\"3d41576d-8ec6-4af1-af37-decca2ab9fc4\")) {                    Plotly.newPlot(                        \"3d41576d-8ec6-4af1-af37-decca2ab9fc4\",                        [{\"marker\":{\"color\":[0,1,2,3,4,5,6,7,8,9,10,11,12,13,14,15,16,17,18,19,20,21,22,23,24,25,26,27,28,29],\"colorbar\":{\"title\":{\"text\":\"Trial\"},\"x\":1.0,\"xpad\":40},\"colorscale\":[[0.0,\"rgb(247,251,255)\"],[0.125,\"rgb(222,235,247)\"],[0.25,\"rgb(198,219,239)\"],[0.375,\"rgb(158,202,225)\"],[0.5,\"rgb(107,174,214)\"],[0.625,\"rgb(66,146,198)\"],[0.75,\"rgb(33,113,181)\"],[0.875,\"rgb(8,81,156)\"],[1.0,\"rgb(8,48,107)\"]],\"line\":{\"color\":\"Grey\",\"width\":0.5},\"showscale\":true},\"mode\":\"markers\",\"name\":\"Feasible Trial\",\"showlegend\":false,\"x\":[0.07715708573511763,0.04920246742936035,0.07248234160399744,0.04745916014404446,0.06606963950510558,0.029513867509509698,0.025746679919294968,0.06313409781157807,0.05876139180164564,0.05331223014706175,0.011811409142841574,0.09387340548524982,0.09568207806969818,0.03328369494138374,0.03430441548916552,0.032123122107206935,0.0146100434647621,0.04096331347417017,0.023582553154571993,0.02259070760830209,0.04109936408985981,0.04212551618089459,0.04074697745978753,0.04332861481101489,0.042082498578973206,0.05466482266455993,0.036557361758725364,0.04881072833589554,0.019628163494037298,0.08453577362437079],\"y\":[0.9542289633595772,0.9527422711058262,0.9560889960294288,0.9530545314467842,0.9497467236336942,0.9561688090865811,0.9553029876614438,0.9553148386911421,0.9554628483044747,0.9518672004540477,0.9494569267472975,0.9561060653232861,0.9560073067424664,0.9562470390748311,0.9561640159057381,0.955863621252524,0.9540851606052717,0.9548209211936574,0.9554966204410548,0.9557611248701295,0.9563258407268516,0.9563369002220986,0.9564439992307456,0.9564574479873917,0.9563025564217483,0.9558052235996876,0.956286373939637,0.9560115649046523,0.9549028010352097,0.9559602397587168],\"type\":\"scatter\",\"xaxis\":\"x\",\"yaxis\":\"y\"},{\"marker\":{\"color\":[0,1,2,3,4,5,6,7,8,9,10,11,12,13,14,15,16,17,18,19,20,21,22,23,24,25,26,27,28,29],\"colorbar\":{\"title\":{\"text\":\"Trial\"},\"x\":1.0,\"xpad\":40},\"colorscale\":[[0.0,\"rgb(247,251,255)\"],[0.125,\"rgb(222,235,247)\"],[0.25,\"rgb(198,219,239)\"],[0.375,\"rgb(158,202,225)\"],[0.5,\"rgb(107,174,214)\"],[0.625,\"rgb(66,146,198)\"],[0.75,\"rgb(33,113,181)\"],[0.875,\"rgb(8,81,156)\"],[1.0,\"rgb(8,48,107)\"]],\"line\":{\"color\":\"Grey\",\"width\":0.5},\"showscale\":false},\"mode\":\"markers\",\"name\":\"Feasible Trial\",\"showlegend\":false,\"x\":[6,9,3,10,8,6,7,5,7,10,4,3,3,5,5,6,5,8,4,6,4,4,4,4,4,3,4,5,4,3],\"y\":[0.9542289633595772,0.9527422711058262,0.9560889960294288,0.9530545314467842,0.9497467236336942,0.9561688090865811,0.9553029876614438,0.9553148386911421,0.9554628483044747,0.9518672004540477,0.9494569267472975,0.9561060653232861,0.9560073067424664,0.9562470390748311,0.9561640159057381,0.955863621252524,0.9540851606052717,0.9548209211936574,0.9554966204410548,0.9557611248701295,0.9563258407268516,0.9563369002220986,0.9564439992307456,0.9564574479873917,0.9563025564217483,0.9558052235996876,0.956286373939637,0.9560115649046523,0.9549028010352097,0.9559602397587168],\"type\":\"scatter\",\"xaxis\":\"x2\",\"yaxis\":\"y2\"},{\"marker\":{\"color\":[0,1,2,3,4,5,6,7,8,9,10,11,12,13,14,15,16,17,18,19,20,21,22,23,24,25,26,27,28,29],\"colorbar\":{\"title\":{\"text\":\"Trial\"},\"x\":1.0,\"xpad\":40},\"colorscale\":[[0.0,\"rgb(247,251,255)\"],[0.125,\"rgb(222,235,247)\"],[0.25,\"rgb(198,219,239)\"],[0.375,\"rgb(158,202,225)\"],[0.5,\"rgb(107,174,214)\"],[0.625,\"rgb(66,146,198)\"],[0.75,\"rgb(33,113,181)\"],[0.875,\"rgb(8,81,156)\"],[1.0,\"rgb(8,48,107)\"]],\"line\":{\"color\":\"Grey\",\"width\":0.5},\"showscale\":false},\"mode\":\"markers\",\"name\":\"Feasible Trial\",\"showlegend\":false,\"x\":[800,506,1303,959,1451,1303,1178,875,656,700,1177,1499,1496,1309,1136,1334,1320,1085,1281,1023,1387,1384,1402,1426,1404,1204,1416,1220,1387,1065],\"y\":[0.9542289633595772,0.9527422711058262,0.9560889960294288,0.9530545314467842,0.9497467236336942,0.9561688090865811,0.9553029876614438,0.9553148386911421,0.9554628483044747,0.9518672004540477,0.9494569267472975,0.9561060653232861,0.9560073067424664,0.9562470390748311,0.9561640159057381,0.955863621252524,0.9540851606052717,0.9548209211936574,0.9554966204410548,0.9557611248701295,0.9563258407268516,0.9563369002220986,0.9564439992307456,0.9564574479873917,0.9563025564217483,0.9558052235996876,0.956286373939637,0.9560115649046523,0.9549028010352097,0.9559602397587168],\"type\":\"scatter\",\"xaxis\":\"x3\",\"yaxis\":\"y3\"},{\"marker\":{\"color\":[0,1,2,3,4,5,6,7,8,9,10,11,12,13,14,15,16,17,18,19,20,21,22,23,24,25,26,27,28,29],\"colorbar\":{\"title\":{\"text\":\"Trial\"},\"x\":1.0,\"xpad\":40},\"colorscale\":[[0.0,\"rgb(247,251,255)\"],[0.125,\"rgb(222,235,247)\"],[0.25,\"rgb(198,219,239)\"],[0.375,\"rgb(158,202,225)\"],[0.5,\"rgb(107,174,214)\"],[0.625,\"rgb(66,146,198)\"],[0.75,\"rgb(33,113,181)\"],[0.875,\"rgb(8,81,156)\"],[1.0,\"rgb(8,48,107)\"]],\"line\":{\"color\":\"Grey\",\"width\":0.5},\"showscale\":false},\"mode\":\"markers\",\"name\":\"Feasible Trial\",\"showlegend\":false,\"x\":[3.2675806218664265,1.1569933028894028,14.914717400332671,13.146619398749507,6.394724023119516,12.134160999405443,2.829864432778439,1.7603741064914997,11.978038706966474,4.829117401880312,18.604417520730557,16.159911163939952,8.716619341680818,16.97322558197948,19.470103259495488,9.012575534626105,16.383207537539867,13.564590960988824,10.576909916522812,17.662954830324708,14.996610352077592,14.727919404765053,15.19807884970019,14.97279992671407,14.848441212557942,10.592586443341425,13.816034129358332,18.28458234872535,15.55728269931808,19.88928873376811],\"y\":[0.9542289633595772,0.9527422711058262,0.9560889960294288,0.9530545314467842,0.9497467236336942,0.9561688090865811,0.9553029876614438,0.9553148386911421,0.9554628483044747,0.9518672004540477,0.9494569267472975,0.9561060653232861,0.9560073067424664,0.9562470390748311,0.9561640159057381,0.955863621252524,0.9540851606052717,0.9548209211936574,0.9554966204410548,0.9557611248701295,0.9563258407268516,0.9563369002220986,0.9564439992307456,0.9564574479873917,0.9563025564217483,0.9558052235996876,0.956286373939637,0.9560115649046523,0.9549028010352097,0.9559602397587168],\"type\":\"scatter\",\"xaxis\":\"x4\",\"yaxis\":\"y4\"}],                        {\"template\":{\"data\":{\"histogram2dcontour\":[{\"type\":\"histogram2dcontour\",\"colorbar\":{\"outlinewidth\":0,\"ticks\":\"\"},\"colorscale\":[[0.0,\"#0d0887\"],[0.1111111111111111,\"#46039f\"],[0.2222222222222222,\"#7201a8\"],[0.3333333333333333,\"#9c179e\"],[0.4444444444444444,\"#bd3786\"],[0.5555555555555556,\"#d8576b\"],[0.6666666666666666,\"#ed7953\"],[0.7777777777777778,\"#fb9f3a\"],[0.8888888888888888,\"#fdca26\"],[1.0,\"#f0f921\"]]}],\"choropleth\":[{\"type\":\"choropleth\",\"colorbar\":{\"outlinewidth\":0,\"ticks\":\"\"}}],\"histogram2d\":[{\"type\":\"histogram2d\",\"colorbar\":{\"outlinewidth\":0,\"ticks\":\"\"},\"colorscale\":[[0.0,\"#0d0887\"],[0.1111111111111111,\"#46039f\"],[0.2222222222222222,\"#7201a8\"],[0.3333333333333333,\"#9c179e\"],[0.4444444444444444,\"#bd3786\"],[0.5555555555555556,\"#d8576b\"],[0.6666666666666666,\"#ed7953\"],[0.7777777777777778,\"#fb9f3a\"],[0.8888888888888888,\"#fdca26\"],[1.0,\"#f0f921\"]]}],\"heatmap\":[{\"type\":\"heatmap\",\"colorbar\":{\"outlinewidth\":0,\"ticks\":\"\"},\"colorscale\":[[0.0,\"#0d0887\"],[0.1111111111111111,\"#46039f\"],[0.2222222222222222,\"#7201a8\"],[0.3333333333333333,\"#9c179e\"],[0.4444444444444444,\"#bd3786\"],[0.5555555555555556,\"#d8576b\"],[0.6666666666666666,\"#ed7953\"],[0.7777777777777778,\"#fb9f3a\"],[0.8888888888888888,\"#fdca26\"],[1.0,\"#f0f921\"]]}],\"heatmapgl\":[{\"type\":\"heatmapgl\",\"colorbar\":{\"outlinewidth\":0,\"ticks\":\"\"},\"colorscale\":[[0.0,\"#0d0887\"],[0.1111111111111111,\"#46039f\"],[0.2222222222222222,\"#7201a8\"],[0.3333333333333333,\"#9c179e\"],[0.4444444444444444,\"#bd3786\"],[0.5555555555555556,\"#d8576b\"],[0.6666666666666666,\"#ed7953\"],[0.7777777777777778,\"#fb9f3a\"],[0.8888888888888888,\"#fdca26\"],[1.0,\"#f0f921\"]]}],\"contourcarpet\":[{\"type\":\"contourcarpet\",\"colorbar\":{\"outlinewidth\":0,\"ticks\":\"\"}}],\"contour\":[{\"type\":\"contour\",\"colorbar\":{\"outlinewidth\":0,\"ticks\":\"\"},\"colorscale\":[[0.0,\"#0d0887\"],[0.1111111111111111,\"#46039f\"],[0.2222222222222222,\"#7201a8\"],[0.3333333333333333,\"#9c179e\"],[0.4444444444444444,\"#bd3786\"],[0.5555555555555556,\"#d8576b\"],[0.6666666666666666,\"#ed7953\"],[0.7777777777777778,\"#fb9f3a\"],[0.8888888888888888,\"#fdca26\"],[1.0,\"#f0f921\"]]}],\"surface\":[{\"type\":\"surface\",\"colorbar\":{\"outlinewidth\":0,\"ticks\":\"\"},\"colorscale\":[[0.0,\"#0d0887\"],[0.1111111111111111,\"#46039f\"],[0.2222222222222222,\"#7201a8\"],[0.3333333333333333,\"#9c179e\"],[0.4444444444444444,\"#bd3786\"],[0.5555555555555556,\"#d8576b\"],[0.6666666666666666,\"#ed7953\"],[0.7777777777777778,\"#fb9f3a\"],[0.8888888888888888,\"#fdca26\"],[1.0,\"#f0f921\"]]}],\"mesh3d\":[{\"type\":\"mesh3d\",\"colorbar\":{\"outlinewidth\":0,\"ticks\":\"\"}}],\"scatter\":[{\"fillpattern\":{\"fillmode\":\"overlay\",\"size\":10,\"solidity\":0.2},\"type\":\"scatter\"}],\"parcoords\":[{\"type\":\"parcoords\",\"line\":{\"colorbar\":{\"outlinewidth\":0,\"ticks\":\"\"}}}],\"scatterpolargl\":[{\"type\":\"scatterpolargl\",\"marker\":{\"colorbar\":{\"outlinewidth\":0,\"ticks\":\"\"}}}],\"bar\":[{\"error_x\":{\"color\":\"#2a3f5f\"},\"error_y\":{\"color\":\"#2a3f5f\"},\"marker\":{\"line\":{\"color\":\"#E5ECF6\",\"width\":0.5},\"pattern\":{\"fillmode\":\"overlay\",\"size\":10,\"solidity\":0.2}},\"type\":\"bar\"}],\"scattergeo\":[{\"type\":\"scattergeo\",\"marker\":{\"colorbar\":{\"outlinewidth\":0,\"ticks\":\"\"}}}],\"scatterpolar\":[{\"type\":\"scatterpolar\",\"marker\":{\"colorbar\":{\"outlinewidth\":0,\"ticks\":\"\"}}}],\"histogram\":[{\"marker\":{\"pattern\":{\"fillmode\":\"overlay\",\"size\":10,\"solidity\":0.2}},\"type\":\"histogram\"}],\"scattergl\":[{\"type\":\"scattergl\",\"marker\":{\"colorbar\":{\"outlinewidth\":0,\"ticks\":\"\"}}}],\"scatter3d\":[{\"type\":\"scatter3d\",\"line\":{\"colorbar\":{\"outlinewidth\":0,\"ticks\":\"\"}},\"marker\":{\"colorbar\":{\"outlinewidth\":0,\"ticks\":\"\"}}}],\"scattermapbox\":[{\"type\":\"scattermapbox\",\"marker\":{\"colorbar\":{\"outlinewidth\":0,\"ticks\":\"\"}}}],\"scatterternary\":[{\"type\":\"scatterternary\",\"marker\":{\"colorbar\":{\"outlinewidth\":0,\"ticks\":\"\"}}}],\"scattercarpet\":[{\"type\":\"scattercarpet\",\"marker\":{\"colorbar\":{\"outlinewidth\":0,\"ticks\":\"\"}}}],\"carpet\":[{\"aaxis\":{\"endlinecolor\":\"#2a3f5f\",\"gridcolor\":\"white\",\"linecolor\":\"white\",\"minorgridcolor\":\"white\",\"startlinecolor\":\"#2a3f5f\"},\"baxis\":{\"endlinecolor\":\"#2a3f5f\",\"gridcolor\":\"white\",\"linecolor\":\"white\",\"minorgridcolor\":\"white\",\"startlinecolor\":\"#2a3f5f\"},\"type\":\"carpet\"}],\"table\":[{\"cells\":{\"fill\":{\"color\":\"#EBF0F8\"},\"line\":{\"color\":\"white\"}},\"header\":{\"fill\":{\"color\":\"#C8D4E3\"},\"line\":{\"color\":\"white\"}},\"type\":\"table\"}],\"barpolar\":[{\"marker\":{\"line\":{\"color\":\"#E5ECF6\",\"width\":0.5},\"pattern\":{\"fillmode\":\"overlay\",\"size\":10,\"solidity\":0.2}},\"type\":\"barpolar\"}],\"pie\":[{\"automargin\":true,\"type\":\"pie\"}]},\"layout\":{\"autotypenumbers\":\"strict\",\"colorway\":[\"#636efa\",\"#EF553B\",\"#00cc96\",\"#ab63fa\",\"#FFA15A\",\"#19d3f3\",\"#FF6692\",\"#B6E880\",\"#FF97FF\",\"#FECB52\"],\"font\":{\"color\":\"#2a3f5f\"},\"hovermode\":\"closest\",\"hoverlabel\":{\"align\":\"left\"},\"paper_bgcolor\":\"white\",\"plot_bgcolor\":\"#E5ECF6\",\"polar\":{\"bgcolor\":\"#E5ECF6\",\"angularaxis\":{\"gridcolor\":\"white\",\"linecolor\":\"white\",\"ticks\":\"\"},\"radialaxis\":{\"gridcolor\":\"white\",\"linecolor\":\"white\",\"ticks\":\"\"}},\"ternary\":{\"bgcolor\":\"#E5ECF6\",\"aaxis\":{\"gridcolor\":\"white\",\"linecolor\":\"white\",\"ticks\":\"\"},\"baxis\":{\"gridcolor\":\"white\",\"linecolor\":\"white\",\"ticks\":\"\"},\"caxis\":{\"gridcolor\":\"white\",\"linecolor\":\"white\",\"ticks\":\"\"}},\"coloraxis\":{\"colorbar\":{\"outlinewidth\":0,\"ticks\":\"\"}},\"colorscale\":{\"sequential\":[[0.0,\"#0d0887\"],[0.1111111111111111,\"#46039f\"],[0.2222222222222222,\"#7201a8\"],[0.3333333333333333,\"#9c179e\"],[0.4444444444444444,\"#bd3786\"],[0.5555555555555556,\"#d8576b\"],[0.6666666666666666,\"#ed7953\"],[0.7777777777777778,\"#fb9f3a\"],[0.8888888888888888,\"#fdca26\"],[1.0,\"#f0f921\"]],\"sequentialminus\":[[0.0,\"#0d0887\"],[0.1111111111111111,\"#46039f\"],[0.2222222222222222,\"#7201a8\"],[0.3333333333333333,\"#9c179e\"],[0.4444444444444444,\"#bd3786\"],[0.5555555555555556,\"#d8576b\"],[0.6666666666666666,\"#ed7953\"],[0.7777777777777778,\"#fb9f3a\"],[0.8888888888888888,\"#fdca26\"],[1.0,\"#f0f921\"]],\"diverging\":[[0,\"#8e0152\"],[0.1,\"#c51b7d\"],[0.2,\"#de77ae\"],[0.3,\"#f1b6da\"],[0.4,\"#fde0ef\"],[0.5,\"#f7f7f7\"],[0.6,\"#e6f5d0\"],[0.7,\"#b8e186\"],[0.8,\"#7fbc41\"],[0.9,\"#4d9221\"],[1,\"#276419\"]]},\"xaxis\":{\"gridcolor\":\"white\",\"linecolor\":\"white\",\"ticks\":\"\",\"title\":{\"standoff\":15},\"zerolinecolor\":\"white\",\"automargin\":true,\"zerolinewidth\":2},\"yaxis\":{\"gridcolor\":\"white\",\"linecolor\":\"white\",\"ticks\":\"\",\"title\":{\"standoff\":15},\"zerolinecolor\":\"white\",\"automargin\":true,\"zerolinewidth\":2},\"scene\":{\"xaxis\":{\"backgroundcolor\":\"#E5ECF6\",\"gridcolor\":\"white\",\"linecolor\":\"white\",\"showbackground\":true,\"ticks\":\"\",\"zerolinecolor\":\"white\",\"gridwidth\":2},\"yaxis\":{\"backgroundcolor\":\"#E5ECF6\",\"gridcolor\":\"white\",\"linecolor\":\"white\",\"showbackground\":true,\"ticks\":\"\",\"zerolinecolor\":\"white\",\"gridwidth\":2},\"zaxis\":{\"backgroundcolor\":\"#E5ECF6\",\"gridcolor\":\"white\",\"linecolor\":\"white\",\"showbackground\":true,\"ticks\":\"\",\"zerolinecolor\":\"white\",\"gridwidth\":2}},\"shapedefaults\":{\"line\":{\"color\":\"#2a3f5f\"}},\"annotationdefaults\":{\"arrowcolor\":\"#2a3f5f\",\"arrowhead\":0,\"arrowwidth\":1},\"geo\":{\"bgcolor\":\"white\",\"landcolor\":\"#E5ECF6\",\"subunitcolor\":\"white\",\"showland\":true,\"showlakes\":true,\"lakecolor\":\"white\"},\"title\":{\"x\":0.05},\"mapbox\":{\"style\":\"light\"}}},\"xaxis\":{\"anchor\":\"y\",\"domain\":[0.0,0.2125],\"title\":{\"text\":\"eta\"}},\"yaxis\":{\"anchor\":\"x\",\"domain\":[0.0,1.0],\"title\":{\"text\":\"Objective Value\"}},\"xaxis2\":{\"anchor\":\"y2\",\"domain\":[0.2625,0.475],\"title\":{\"text\":\"max_depth\"}},\"yaxis2\":{\"anchor\":\"x2\",\"domain\":[0.0,1.0],\"matches\":\"y\",\"showticklabels\":false},\"xaxis3\":{\"anchor\":\"y3\",\"domain\":[0.525,0.7375],\"title\":{\"text\":\"n_estimators\"}},\"yaxis3\":{\"anchor\":\"x3\",\"domain\":[0.0,1.0],\"matches\":\"y\",\"showticklabels\":false},\"xaxis4\":{\"anchor\":\"y4\",\"domain\":[0.7875,1.0],\"title\":{\"text\":\"reg_lambda\"}},\"yaxis4\":{\"anchor\":\"x4\",\"domain\":[0.0,1.0],\"matches\":\"y\",\"showticklabels\":false},\"title\":{\"text\":\"Slice Plot\"},\"width\":1200},                        {\"responsive\": true}                    ).then(function(){\n",
       "                            \n",
       "var gd = document.getElementById('3d41576d-8ec6-4af1-af37-decca2ab9fc4');\n",
       "var x = new MutationObserver(function (mutations, observer) {{\n",
       "        var display = window.getComputedStyle(gd).display;\n",
       "        if (!display || display === 'none') {{\n",
       "            console.log([gd, 'removed!']);\n",
       "            Plotly.purge(gd);\n",
       "            observer.disconnect();\n",
       "        }}\n",
       "}});\n",
       "\n",
       "// Listen for the removal of the full notebook cells\n",
       "var notebookContainer = gd.closest('#notebook-container');\n",
       "if (notebookContainer) {{\n",
       "    x.observe(notebookContainer, {childList: true});\n",
       "}}\n",
       "\n",
       "// Listen for the clearing of the current output cell\n",
       "var outputEl = gd.closest('.output');\n",
       "if (outputEl) {{\n",
       "    x.observe(outputEl, {childList: true});\n",
       "}}\n",
       "\n",
       "                        })                };                });            </script>        </div>"
      ]
     },
     "metadata": {},
     "output_type": "display_data"
    },
    {
     "data": {
      "text/html": [
       "<div>                            <div id=\"fbb4a220-fcda-45f9-9419-fd31a2d7c0e1\" class=\"plotly-graph-div\" style=\"height:525px; width:100%;\"></div>            <script type=\"text/javascript\">                require([\"plotly\"], function(Plotly) {                    window.PLOTLYENV=window.PLOTLYENV || {};                                    if (document.getElementById(\"fbb4a220-fcda-45f9-9419-fd31a2d7c0e1\")) {                    Plotly.newPlot(                        \"fbb4a220-fcda-45f9-9419-fd31a2d7c0e1\",                        [{\"cliponaxis\":false,\"hovertemplate\":[\"n_estimators (IntDistribution): 0.0761343412594829\\u003cextra\\u003e\\u003c\\u002fextra\\u003e\",\"reg_lambda (FloatDistribution): 0.07960281607024833\\u003cextra\\u003e\\u003c\\u002fextra\\u003e\",\"eta (FloatDistribution): 0.2285009489316391\\u003cextra\\u003e\\u003c\\u002fextra\\u003e\",\"max_depth (IntDistribution): 0.6157618937386297\\u003cextra\\u003e\\u003c\\u002fextra\\u003e\"],\"name\":\"Objective Value\",\"orientation\":\"h\",\"text\":[\"0.08\",\"0.08\",\"0.23\",\"0.62\"],\"textposition\":\"outside\",\"x\":[0.0761343412594829,0.07960281607024833,0.2285009489316391,0.6157618937386297],\"y\":[\"n_estimators\",\"reg_lambda\",\"eta\",\"max_depth\"],\"type\":\"bar\"}],                        {\"title\":{\"text\":\"Hyperparameter Importances\"},\"xaxis\":{\"title\":{\"text\":\"Hyperparameter Importance\"}},\"yaxis\":{\"title\":{\"text\":\"Hyperparameter\"}},\"template\":{\"data\":{\"histogram2dcontour\":[{\"type\":\"histogram2dcontour\",\"colorbar\":{\"outlinewidth\":0,\"ticks\":\"\"},\"colorscale\":[[0.0,\"#0d0887\"],[0.1111111111111111,\"#46039f\"],[0.2222222222222222,\"#7201a8\"],[0.3333333333333333,\"#9c179e\"],[0.4444444444444444,\"#bd3786\"],[0.5555555555555556,\"#d8576b\"],[0.6666666666666666,\"#ed7953\"],[0.7777777777777778,\"#fb9f3a\"],[0.8888888888888888,\"#fdca26\"],[1.0,\"#f0f921\"]]}],\"choropleth\":[{\"type\":\"choropleth\",\"colorbar\":{\"outlinewidth\":0,\"ticks\":\"\"}}],\"histogram2d\":[{\"type\":\"histogram2d\",\"colorbar\":{\"outlinewidth\":0,\"ticks\":\"\"},\"colorscale\":[[0.0,\"#0d0887\"],[0.1111111111111111,\"#46039f\"],[0.2222222222222222,\"#7201a8\"],[0.3333333333333333,\"#9c179e\"],[0.4444444444444444,\"#bd3786\"],[0.5555555555555556,\"#d8576b\"],[0.6666666666666666,\"#ed7953\"],[0.7777777777777778,\"#fb9f3a\"],[0.8888888888888888,\"#fdca26\"],[1.0,\"#f0f921\"]]}],\"heatmap\":[{\"type\":\"heatmap\",\"colorbar\":{\"outlinewidth\":0,\"ticks\":\"\"},\"colorscale\":[[0.0,\"#0d0887\"],[0.1111111111111111,\"#46039f\"],[0.2222222222222222,\"#7201a8\"],[0.3333333333333333,\"#9c179e\"],[0.4444444444444444,\"#bd3786\"],[0.5555555555555556,\"#d8576b\"],[0.6666666666666666,\"#ed7953\"],[0.7777777777777778,\"#fb9f3a\"],[0.8888888888888888,\"#fdca26\"],[1.0,\"#f0f921\"]]}],\"heatmapgl\":[{\"type\":\"heatmapgl\",\"colorbar\":{\"outlinewidth\":0,\"ticks\":\"\"},\"colorscale\":[[0.0,\"#0d0887\"],[0.1111111111111111,\"#46039f\"],[0.2222222222222222,\"#7201a8\"],[0.3333333333333333,\"#9c179e\"],[0.4444444444444444,\"#bd3786\"],[0.5555555555555556,\"#d8576b\"],[0.6666666666666666,\"#ed7953\"],[0.7777777777777778,\"#fb9f3a\"],[0.8888888888888888,\"#fdca26\"],[1.0,\"#f0f921\"]]}],\"contourcarpet\":[{\"type\":\"contourcarpet\",\"colorbar\":{\"outlinewidth\":0,\"ticks\":\"\"}}],\"contour\":[{\"type\":\"contour\",\"colorbar\":{\"outlinewidth\":0,\"ticks\":\"\"},\"colorscale\":[[0.0,\"#0d0887\"],[0.1111111111111111,\"#46039f\"],[0.2222222222222222,\"#7201a8\"],[0.3333333333333333,\"#9c179e\"],[0.4444444444444444,\"#bd3786\"],[0.5555555555555556,\"#d8576b\"],[0.6666666666666666,\"#ed7953\"],[0.7777777777777778,\"#fb9f3a\"],[0.8888888888888888,\"#fdca26\"],[1.0,\"#f0f921\"]]}],\"surface\":[{\"type\":\"surface\",\"colorbar\":{\"outlinewidth\":0,\"ticks\":\"\"},\"colorscale\":[[0.0,\"#0d0887\"],[0.1111111111111111,\"#46039f\"],[0.2222222222222222,\"#7201a8\"],[0.3333333333333333,\"#9c179e\"],[0.4444444444444444,\"#bd3786\"],[0.5555555555555556,\"#d8576b\"],[0.6666666666666666,\"#ed7953\"],[0.7777777777777778,\"#fb9f3a\"],[0.8888888888888888,\"#fdca26\"],[1.0,\"#f0f921\"]]}],\"mesh3d\":[{\"type\":\"mesh3d\",\"colorbar\":{\"outlinewidth\":0,\"ticks\":\"\"}}],\"scatter\":[{\"fillpattern\":{\"fillmode\":\"overlay\",\"size\":10,\"solidity\":0.2},\"type\":\"scatter\"}],\"parcoords\":[{\"type\":\"parcoords\",\"line\":{\"colorbar\":{\"outlinewidth\":0,\"ticks\":\"\"}}}],\"scatterpolargl\":[{\"type\":\"scatterpolargl\",\"marker\":{\"colorbar\":{\"outlinewidth\":0,\"ticks\":\"\"}}}],\"bar\":[{\"error_x\":{\"color\":\"#2a3f5f\"},\"error_y\":{\"color\":\"#2a3f5f\"},\"marker\":{\"line\":{\"color\":\"#E5ECF6\",\"width\":0.5},\"pattern\":{\"fillmode\":\"overlay\",\"size\":10,\"solidity\":0.2}},\"type\":\"bar\"}],\"scattergeo\":[{\"type\":\"scattergeo\",\"marker\":{\"colorbar\":{\"outlinewidth\":0,\"ticks\":\"\"}}}],\"scatterpolar\":[{\"type\":\"scatterpolar\",\"marker\":{\"colorbar\":{\"outlinewidth\":0,\"ticks\":\"\"}}}],\"histogram\":[{\"marker\":{\"pattern\":{\"fillmode\":\"overlay\",\"size\":10,\"solidity\":0.2}},\"type\":\"histogram\"}],\"scattergl\":[{\"type\":\"scattergl\",\"marker\":{\"colorbar\":{\"outlinewidth\":0,\"ticks\":\"\"}}}],\"scatter3d\":[{\"type\":\"scatter3d\",\"line\":{\"colorbar\":{\"outlinewidth\":0,\"ticks\":\"\"}},\"marker\":{\"colorbar\":{\"outlinewidth\":0,\"ticks\":\"\"}}}],\"scattermapbox\":[{\"type\":\"scattermapbox\",\"marker\":{\"colorbar\":{\"outlinewidth\":0,\"ticks\":\"\"}}}],\"scatterternary\":[{\"type\":\"scatterternary\",\"marker\":{\"colorbar\":{\"outlinewidth\":0,\"ticks\":\"\"}}}],\"scattercarpet\":[{\"type\":\"scattercarpet\",\"marker\":{\"colorbar\":{\"outlinewidth\":0,\"ticks\":\"\"}}}],\"carpet\":[{\"aaxis\":{\"endlinecolor\":\"#2a3f5f\",\"gridcolor\":\"white\",\"linecolor\":\"white\",\"minorgridcolor\":\"white\",\"startlinecolor\":\"#2a3f5f\"},\"baxis\":{\"endlinecolor\":\"#2a3f5f\",\"gridcolor\":\"white\",\"linecolor\":\"white\",\"minorgridcolor\":\"white\",\"startlinecolor\":\"#2a3f5f\"},\"type\":\"carpet\"}],\"table\":[{\"cells\":{\"fill\":{\"color\":\"#EBF0F8\"},\"line\":{\"color\":\"white\"}},\"header\":{\"fill\":{\"color\":\"#C8D4E3\"},\"line\":{\"color\":\"white\"}},\"type\":\"table\"}],\"barpolar\":[{\"marker\":{\"line\":{\"color\":\"#E5ECF6\",\"width\":0.5},\"pattern\":{\"fillmode\":\"overlay\",\"size\":10,\"solidity\":0.2}},\"type\":\"barpolar\"}],\"pie\":[{\"automargin\":true,\"type\":\"pie\"}]},\"layout\":{\"autotypenumbers\":\"strict\",\"colorway\":[\"#636efa\",\"#EF553B\",\"#00cc96\",\"#ab63fa\",\"#FFA15A\",\"#19d3f3\",\"#FF6692\",\"#B6E880\",\"#FF97FF\",\"#FECB52\"],\"font\":{\"color\":\"#2a3f5f\"},\"hovermode\":\"closest\",\"hoverlabel\":{\"align\":\"left\"},\"paper_bgcolor\":\"white\",\"plot_bgcolor\":\"#E5ECF6\",\"polar\":{\"bgcolor\":\"#E5ECF6\",\"angularaxis\":{\"gridcolor\":\"white\",\"linecolor\":\"white\",\"ticks\":\"\"},\"radialaxis\":{\"gridcolor\":\"white\",\"linecolor\":\"white\",\"ticks\":\"\"}},\"ternary\":{\"bgcolor\":\"#E5ECF6\",\"aaxis\":{\"gridcolor\":\"white\",\"linecolor\":\"white\",\"ticks\":\"\"},\"baxis\":{\"gridcolor\":\"white\",\"linecolor\":\"white\",\"ticks\":\"\"},\"caxis\":{\"gridcolor\":\"white\",\"linecolor\":\"white\",\"ticks\":\"\"}},\"coloraxis\":{\"colorbar\":{\"outlinewidth\":0,\"ticks\":\"\"}},\"colorscale\":{\"sequential\":[[0.0,\"#0d0887\"],[0.1111111111111111,\"#46039f\"],[0.2222222222222222,\"#7201a8\"],[0.3333333333333333,\"#9c179e\"],[0.4444444444444444,\"#bd3786\"],[0.5555555555555556,\"#d8576b\"],[0.6666666666666666,\"#ed7953\"],[0.7777777777777778,\"#fb9f3a\"],[0.8888888888888888,\"#fdca26\"],[1.0,\"#f0f921\"]],\"sequentialminus\":[[0.0,\"#0d0887\"],[0.1111111111111111,\"#46039f\"],[0.2222222222222222,\"#7201a8\"],[0.3333333333333333,\"#9c179e\"],[0.4444444444444444,\"#bd3786\"],[0.5555555555555556,\"#d8576b\"],[0.6666666666666666,\"#ed7953\"],[0.7777777777777778,\"#fb9f3a\"],[0.8888888888888888,\"#fdca26\"],[1.0,\"#f0f921\"]],\"diverging\":[[0,\"#8e0152\"],[0.1,\"#c51b7d\"],[0.2,\"#de77ae\"],[0.3,\"#f1b6da\"],[0.4,\"#fde0ef\"],[0.5,\"#f7f7f7\"],[0.6,\"#e6f5d0\"],[0.7,\"#b8e186\"],[0.8,\"#7fbc41\"],[0.9,\"#4d9221\"],[1,\"#276419\"]]},\"xaxis\":{\"gridcolor\":\"white\",\"linecolor\":\"white\",\"ticks\":\"\",\"title\":{\"standoff\":15},\"zerolinecolor\":\"white\",\"automargin\":true,\"zerolinewidth\":2},\"yaxis\":{\"gridcolor\":\"white\",\"linecolor\":\"white\",\"ticks\":\"\",\"title\":{\"standoff\":15},\"zerolinecolor\":\"white\",\"automargin\":true,\"zerolinewidth\":2},\"scene\":{\"xaxis\":{\"backgroundcolor\":\"#E5ECF6\",\"gridcolor\":\"white\",\"linecolor\":\"white\",\"showbackground\":true,\"ticks\":\"\",\"zerolinecolor\":\"white\",\"gridwidth\":2},\"yaxis\":{\"backgroundcolor\":\"#E5ECF6\",\"gridcolor\":\"white\",\"linecolor\":\"white\",\"showbackground\":true,\"ticks\":\"\",\"zerolinecolor\":\"white\",\"gridwidth\":2},\"zaxis\":{\"backgroundcolor\":\"#E5ECF6\",\"gridcolor\":\"white\",\"linecolor\":\"white\",\"showbackground\":true,\"ticks\":\"\",\"zerolinecolor\":\"white\",\"gridwidth\":2}},\"shapedefaults\":{\"line\":{\"color\":\"#2a3f5f\"}},\"annotationdefaults\":{\"arrowcolor\":\"#2a3f5f\",\"arrowhead\":0,\"arrowwidth\":1},\"geo\":{\"bgcolor\":\"white\",\"landcolor\":\"#E5ECF6\",\"subunitcolor\":\"white\",\"showland\":true,\"showlakes\":true,\"lakecolor\":\"white\"},\"title\":{\"x\":0.05},\"mapbox\":{\"style\":\"light\"}}}},                        {\"responsive\": true}                    ).then(function(){\n",
       "                            \n",
       "var gd = document.getElementById('fbb4a220-fcda-45f9-9419-fd31a2d7c0e1');\n",
       "var x = new MutationObserver(function (mutations, observer) {{\n",
       "        var display = window.getComputedStyle(gd).display;\n",
       "        if (!display || display === 'none') {{\n",
       "            console.log([gd, 'removed!']);\n",
       "            Plotly.purge(gd);\n",
       "            observer.disconnect();\n",
       "        }}\n",
       "}});\n",
       "\n",
       "// Listen for the removal of the full notebook cells\n",
       "var notebookContainer = gd.closest('#notebook-container');\n",
       "if (notebookContainer) {{\n",
       "    x.observe(notebookContainer, {childList: true});\n",
       "}}\n",
       "\n",
       "// Listen for the clearing of the current output cell\n",
       "var outputEl = gd.closest('.output');\n",
       "if (outputEl) {{\n",
       "    x.observe(outputEl, {childList: true});\n",
       "}}\n",
       "\n",
       "                        })                };                });            </script>        </div>"
      ]
     },
     "metadata": {},
     "output_type": "display_data"
    }
   ],
   "source": [
    "fig_1 = optuna.visualization.plot_optimization_history(study)\n",
    "fig_2 = optuna.visualization.plot_slice(study)\n",
    "fig_3 = optuna.visualization.plot_param_importances(study)\n",
    "\n",
    "fig_1.show()\n",
    "fig_2.show()\n",
    "fig_3.show()"
   ]
  },
  {
   "cell_type": "markdown",
   "id": "9db050fd",
   "metadata": {
    "papermill": {
     "duration": 0.015508,
     "end_time": "2024-10-23T12:51:46.964771",
     "exception": false,
     "start_time": "2024-10-23T12:51:46.949263",
     "status": "completed"
    },
    "tags": []
   },
   "source": [
    "# Final Predict to submission"
   ]
  },
  {
   "cell_type": "code",
   "execution_count": 23,
   "id": "0b0bb645",
   "metadata": {
    "execution": {
     "iopub.execute_input": "2024-10-23T12:51:46.999178Z",
     "iopub.status.busy": "2024-10-23T12:51:46.998648Z",
     "iopub.status.idle": "2024-10-23T12:51:51.989033Z",
     "shell.execute_reply": "2024-10-23T12:51:51.988065Z"
    },
    "papermill": {
     "duration": 5.010486,
     "end_time": "2024-10-23T12:51:51.991663",
     "exception": false,
     "start_time": "2024-10-23T12:51:46.981177",
     "status": "completed"
    },
    "tags": []
   },
   "outputs": [],
   "source": [
    "# Now we fit the optimizated model with the entire data to make tha final prediction\n",
    "xgb_model.fit(X, y)\n",
    "preds = xgb_model.predict_proba(test_data)[:,1]"
   ]
  },
  {
   "cell_type": "code",
   "execution_count": 24,
   "id": "6cc47e37",
   "metadata": {
    "execution": {
     "iopub.execute_input": "2024-10-23T12:51:52.026829Z",
     "iopub.status.busy": "2024-10-23T12:51:52.026379Z",
     "iopub.status.idle": "2024-10-23T12:51:52.033917Z",
     "shell.execute_reply": "2024-10-23T12:51:52.032810Z"
    },
    "papermill": {
     "duration": 0.027163,
     "end_time": "2024-10-23T12:51:52.036297",
     "exception": false,
     "start_time": "2024-10-23T12:51:52.009134",
     "status": "completed"
    },
    "tags": []
   },
   "outputs": [
    {
     "data": {
      "text/plain": [
       "array([0.996434  , 0.02125454, 0.5097302 , ..., 0.0123877 , 0.29681036,\n",
       "       0.96288955], dtype=float32)"
      ]
     },
     "execution_count": 24,
     "metadata": {},
     "output_type": "execute_result"
    }
   ],
   "source": [
    "predictions = preds\n",
    "predictions"
   ]
  },
  {
   "cell_type": "code",
   "execution_count": 25,
   "id": "df1f2423",
   "metadata": {
    "execution": {
     "iopub.execute_input": "2024-10-23T12:51:52.069870Z",
     "iopub.status.busy": "2024-10-23T12:51:52.069426Z",
     "iopub.status.idle": "2024-10-23T12:51:52.195068Z",
     "shell.execute_reply": "2024-10-23T12:51:52.193820Z"
    },
    "papermill": {
     "duration": 0.145436,
     "end_time": "2024-10-23T12:51:52.197571",
     "exception": false,
     "start_time": "2024-10-23T12:51:52.052135",
     "status": "completed"
    },
    "tags": []
   },
   "outputs": [
    {
     "data": {
      "text/html": [
       "<div>\n",
       "<style scoped>\n",
       "    .dataframe tbody tr th:only-of-type {\n",
       "        vertical-align: middle;\n",
       "    }\n",
       "\n",
       "    .dataframe tbody tr th {\n",
       "        vertical-align: top;\n",
       "    }\n",
       "\n",
       "    .dataframe thead th {\n",
       "        text-align: right;\n",
       "    }\n",
       "</style>\n",
       "<table border=\"1\" class=\"dataframe\">\n",
       "  <thead>\n",
       "    <tr style=\"text-align: right;\">\n",
       "      <th></th>\n",
       "      <th>id</th>\n",
       "      <th>loan_status</th>\n",
       "    </tr>\n",
       "  </thead>\n",
       "  <tbody>\n",
       "    <tr>\n",
       "      <th>0</th>\n",
       "      <td>58645</td>\n",
       "      <td>0.996434</td>\n",
       "    </tr>\n",
       "    <tr>\n",
       "      <th>1</th>\n",
       "      <td>58646</td>\n",
       "      <td>0.021255</td>\n",
       "    </tr>\n",
       "    <tr>\n",
       "      <th>2</th>\n",
       "      <td>58647</td>\n",
       "      <td>0.509730</td>\n",
       "    </tr>\n",
       "    <tr>\n",
       "      <th>3</th>\n",
       "      <td>58648</td>\n",
       "      <td>0.008062</td>\n",
       "    </tr>\n",
       "    <tr>\n",
       "      <th>4</th>\n",
       "      <td>58649</td>\n",
       "      <td>0.024377</td>\n",
       "    </tr>\n",
       "  </tbody>\n",
       "</table>\n",
       "</div>"
      ],
      "text/plain": [
       "      id  loan_status\n",
       "0  58645     0.996434\n",
       "1  58646     0.021255\n",
       "2  58647     0.509730\n",
       "3  58648     0.008062\n",
       "4  58649     0.024377"
      ]
     },
     "execution_count": 25,
     "metadata": {},
     "output_type": "execute_result"
    }
   ],
   "source": [
    "submission = pd.DataFrame()\n",
    "submission[\"id\"] = ids\n",
    "submission[\"loan_status\"] = predictions\n",
    "submission.to_csv(\"submission.csv\",header=True, index=False)\n",
    "submission.head()"
   ]
  }
 ],
 "metadata": {
  "kaggle": {
   "accelerator": "none",
   "dataSources": [
    {
     "databundleVersionId": 9709193,
     "sourceId": 84894,
     "sourceType": "competition"
    },
    {
     "datasetId": 688532,
     "sourceId": 1207035,
     "sourceType": "datasetVersion"
    }
   ],
   "dockerImageVersionId": 30786,
   "isGpuEnabled": false,
   "isInternetEnabled": true,
   "language": "python",
   "sourceType": "notebook"
  },
  "kernelspec": {
   "display_name": "Python 3",
   "language": "python",
   "name": "python3"
  },
  "language_info": {
   "codemirror_mode": {
    "name": "ipython",
    "version": 3
   },
   "file_extension": ".py",
   "mimetype": "text/x-python",
   "name": "python",
   "nbconvert_exporter": "python",
   "pygments_lexer": "ipython3",
   "version": "3.10.14"
  },
  "papermill": {
   "default_parameters": {},
   "duration": 622.238095,
   "end_time": "2024-10-23T12:51:53.037142",
   "environment_variables": {},
   "exception": null,
   "input_path": "__notebook__.ipynb",
   "output_path": "__notebook__.ipynb",
   "parameters": {},
   "start_time": "2024-10-23T12:41:30.799047",
   "version": "2.6.0"
  }
 },
 "nbformat": 4,
 "nbformat_minor": 5
}
