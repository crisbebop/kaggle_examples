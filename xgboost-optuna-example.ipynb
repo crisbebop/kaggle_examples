{
 "cells": [
  {
   "cell_type": "markdown",
   "id": "1709008a",
   "metadata": {
    "papermill": {
     "duration": 0.008751,
     "end_time": "2024-10-23T11:49:36.810963",
     "exception": false,
     "start_time": "2024-10-23T11:49:36.802212",
     "status": "completed"
    },
    "tags": []
   },
   "source": [
    "# XGBoost Optuna Example  \n",
    "In this notebook, we made a basic implementation of XGBoost hyperparameter tuning using Optuna in Kaggle's Playground Series S4E10: Loan Approval Prediction. We evaluate the performance of both the base model and the tuned model on unseen data (X_test) using the ROC AUC metric."
   ]
  },
  {
   "cell_type": "markdown",
   "id": "94a46c76",
   "metadata": {
    "papermill": {
     "duration": 0.007289,
     "end_time": "2024-10-23T11:49:36.826038",
     "exception": false,
     "start_time": "2024-10-23T11:49:36.818749",
     "status": "completed"
    },
    "tags": []
   },
   "source": [
    "## Imports and Loads"
   ]
  },
  {
   "cell_type": "code",
   "execution_count": 1,
   "id": "b426ecd0",
   "metadata": {
    "execution": {
     "iopub.execute_input": "2024-10-23T11:49:36.842767Z",
     "iopub.status.busy": "2024-10-23T11:49:36.842368Z",
     "iopub.status.idle": "2024-10-23T11:49:39.554720Z",
     "shell.execute_reply": "2024-10-23T11:49:39.553514Z"
    },
    "papermill": {
     "duration": 2.724076,
     "end_time": "2024-10-23T11:49:39.557517",
     "exception": false,
     "start_time": "2024-10-23T11:49:36.833441",
     "status": "completed"
    },
    "tags": []
   },
   "outputs": [],
   "source": [
    "# Imports and settings\n",
    "import pandas as pd\n",
    "import numpy as np\n",
    "\n",
    "# settings\n",
    "import warnings\n",
    "warnings.filterwarnings('ignore')\n",
    "random_state = 2024\n",
    "np.seed = random_state\n",
    "\n",
    "# Metrics and model selection\n",
    "from sklearn.metrics import roc_auc_score\n",
    "from sklearn.model_selection import train_test_split, cross_val_score\n",
    "\n",
    "# Encoding\n",
    "from sklearn.preprocessing import OrdinalEncoder\n",
    "\n",
    "# Models\n",
    "from xgboost import XGBClassifier"
   ]
  },
  {
   "cell_type": "code",
   "execution_count": 2,
   "id": "2c6230ad",
   "metadata": {
    "execution": {
     "iopub.execute_input": "2024-10-23T11:49:39.574449Z",
     "iopub.status.busy": "2024-10-23T11:49:39.573840Z",
     "iopub.status.idle": "2024-10-23T11:49:39.912980Z",
     "shell.execute_reply": "2024-10-23T11:49:39.911807Z"
    },
    "papermill": {
     "duration": 0.350596,
     "end_time": "2024-10-23T11:49:39.915631",
     "exception": false,
     "start_time": "2024-10-23T11:49:39.565035",
     "status": "completed"
    },
    "tags": []
   },
   "outputs": [],
   "source": [
    "#Optuna settings\n",
    "import optuna\n",
    "import logging\n",
    "\n",
    "## Config level of msgs\n",
    "logging.getLogger(\"optuna\").setLevel(logging.INFO) # Set to WARNING to reduce mensages"
   ]
  },
  {
   "cell_type": "code",
   "execution_count": 3,
   "id": "adc6938b",
   "metadata": {
    "execution": {
     "iopub.execute_input": "2024-10-23T11:49:39.933584Z",
     "iopub.status.busy": "2024-10-23T11:49:39.933179Z",
     "iopub.status.idle": "2024-10-23T11:49:39.938563Z",
     "shell.execute_reply": "2024-10-23T11:49:39.937466Z"
    },
    "papermill": {
     "duration": 0.016864,
     "end_time": "2024-10-23T11:49:39.941181",
     "exception": false,
     "start_time": "2024-10-23T11:49:39.924317",
     "status": "completed"
    },
    "tags": []
   },
   "outputs": [],
   "source": [
    "#train_data = pd.read_csv('/kaggle/input/credit-risk-dataset/credit_risk_dataset.csv')"
   ]
  },
  {
   "cell_type": "code",
   "execution_count": 4,
   "id": "4993807e",
   "metadata": {
    "execution": {
     "iopub.execute_input": "2024-10-23T11:49:39.957630Z",
     "iopub.status.busy": "2024-10-23T11:49:39.957242Z",
     "iopub.status.idle": "2024-10-23T11:49:40.218306Z",
     "shell.execute_reply": "2024-10-23T11:49:40.217059Z"
    },
    "papermill": {
     "duration": 0.27208,
     "end_time": "2024-10-23T11:49:40.220673",
     "exception": false,
     "start_time": "2024-10-23T11:49:39.948593",
     "status": "completed"
    },
    "tags": []
   },
   "outputs": [
    {
     "name": "stdout",
     "output_type": "stream",
     "text": [
      "Data loaded successfully!\n"
     ]
    }
   ],
   "source": [
    "# Load data\n",
    "train_data = pd.read_csv('/kaggle/input/playground-series-s4e10/train.csv').drop('id',axis=1)\n",
    "\n",
    "test_data = pd.read_csv('/kaggle/input/playground-series-s4e10/test.csv')\n",
    "ids = test_data['id'].astype(np.int32)\n",
    "test_data.drop('id', axis=1, inplace=True)\n",
    "\n",
    "print('Data loaded successfully!')"
   ]
  },
  {
   "cell_type": "markdown",
   "id": "ece47858",
   "metadata": {
    "papermill": {
     "duration": 0.007253,
     "end_time": "2024-10-23T11:49:40.235601",
     "exception": false,
     "start_time": "2024-10-23T11:49:40.228348",
     "status": "completed"
    },
    "tags": []
   },
   "source": [
    "## Determine train and test splits"
   ]
  },
  {
   "cell_type": "code",
   "execution_count": 5,
   "id": "e51137df",
   "metadata": {
    "execution": {
     "iopub.execute_input": "2024-10-23T11:49:40.252795Z",
     "iopub.status.busy": "2024-10-23T11:49:40.252019Z",
     "iopub.status.idle": "2024-10-23T11:49:40.259123Z",
     "shell.execute_reply": "2024-10-23T11:49:40.258023Z"
    },
    "papermill": {
     "duration": 0.018411,
     "end_time": "2024-10-23T11:49:40.261514",
     "exception": false,
     "start_time": "2024-10-23T11:49:40.243103",
     "status": "completed"
    },
    "tags": []
   },
   "outputs": [],
   "source": [
    "# Determine the dependent (target) and numeric\n",
    "target_variable = \"loan_status\"\n",
    "\n",
    "# Determine the numerical variables\n",
    "num_cols = [col for col in train_data.columns if train_data[col].dtype in ['int64', 'float64'] \n",
    "            and col != target_variable]\n",
    "\n",
    "# Determine the categorical variables\n",
    "cat_cols = [col for col in train_data.columns if train_data[col].dtype == 'object']"
   ]
  },
  {
   "cell_type": "code",
   "execution_count": 6,
   "id": "9bf9d8e7",
   "metadata": {
    "execution": {
     "iopub.execute_input": "2024-10-23T11:49:40.278144Z",
     "iopub.status.busy": "2024-10-23T11:49:40.277696Z",
     "iopub.status.idle": "2024-10-23T11:49:40.290041Z",
     "shell.execute_reply": "2024-10-23T11:49:40.288791Z"
    },
    "papermill": {
     "duration": 0.023678,
     "end_time": "2024-10-23T11:49:40.292618",
     "exception": false,
     "start_time": "2024-10-23T11:49:40.268940",
     "status": "completed"
    },
    "tags": []
   },
   "outputs": [],
   "source": [
    "y = train_data['loan_status'].reset_index(drop=True)\n",
    "X = train_data.drop('loan_status', axis=1).reset_index(drop=True)"
   ]
  },
  {
   "cell_type": "code",
   "execution_count": 7,
   "id": "a971d608",
   "metadata": {
    "execution": {
     "iopub.execute_input": "2024-10-23T11:49:40.309250Z",
     "iopub.status.busy": "2024-10-23T11:49:40.308751Z",
     "iopub.status.idle": "2024-10-23T11:49:40.416032Z",
     "shell.execute_reply": "2024-10-23T11:49:40.414686Z"
    },
    "papermill": {
     "duration": 0.118688,
     "end_time": "2024-10-23T11:49:40.418752",
     "exception": false,
     "start_time": "2024-10-23T11:49:40.300064",
     "status": "completed"
    },
    "tags": []
   },
   "outputs": [],
   "source": [
    "oe = OrdinalEncoder(handle_unknown='use_encoded_value', unknown_value=-1)\n",
    "X_oe = pd.DataFrame(oe.fit_transform(X[cat_cols]), columns = cat_cols).fillna(0).astype(int)\n",
    "\n",
    "test_oe = pd.DataFrame(oe.transform(test_data[cat_cols]), columns = cat_cols).fillna(0).astype(int)"
   ]
  },
  {
   "cell_type": "code",
   "execution_count": 8,
   "id": "9d9c2812",
   "metadata": {
    "execution": {
     "iopub.execute_input": "2024-10-23T11:49:40.435866Z",
     "iopub.status.busy": "2024-10-23T11:49:40.435408Z",
     "iopub.status.idle": "2024-10-23T11:49:40.454165Z",
     "shell.execute_reply": "2024-10-23T11:49:40.452969Z"
    },
    "papermill": {
     "duration": 0.030315,
     "end_time": "2024-10-23T11:49:40.456804",
     "exception": false,
     "start_time": "2024-10-23T11:49:40.426489",
     "status": "completed"
    },
    "tags": []
   },
   "outputs": [],
   "source": [
    "X_oe_concated = pd.concat([X_oe, X[num_cols]], axis= 1)\n",
    "test_oe_concated = pd.concat([test_oe, test_data[num_cols]], axis= 1)"
   ]
  },
  {
   "cell_type": "code",
   "execution_count": 9,
   "id": "75530658",
   "metadata": {
    "execution": {
     "iopub.execute_input": "2024-10-23T11:49:40.474644Z",
     "iopub.status.busy": "2024-10-23T11:49:40.473341Z",
     "iopub.status.idle": "2024-10-23T11:49:40.507191Z",
     "shell.execute_reply": "2024-10-23T11:49:40.505927Z"
    },
    "papermill": {
     "duration": 0.045521,
     "end_time": "2024-10-23T11:49:40.509808",
     "exception": false,
     "start_time": "2024-10-23T11:49:40.464287",
     "status": "completed"
    },
    "tags": []
   },
   "outputs": [],
   "source": [
    "X, test_data = X_oe_concated.copy(),test_oe_concated.copy()\n",
    "\n",
    "for col in cat_cols:\n",
    "    X[col] = X[col].astype(\"category\")\n",
    "    test_data[col] = test_data[col].astype(\"category\")"
   ]
  },
  {
   "cell_type": "code",
   "execution_count": 10,
   "id": "16d45266",
   "metadata": {
    "execution": {
     "iopub.execute_input": "2024-10-23T11:49:40.526665Z",
     "iopub.status.busy": "2024-10-23T11:49:40.525787Z",
     "iopub.status.idle": "2024-10-23T11:49:40.543700Z",
     "shell.execute_reply": "2024-10-23T11:49:40.542480Z"
    },
    "papermill": {
     "duration": 0.029103,
     "end_time": "2024-10-23T11:49:40.546277",
     "exception": false,
     "start_time": "2024-10-23T11:49:40.517174",
     "status": "completed"
    },
    "tags": []
   },
   "outputs": [],
   "source": [
    "# Simple train_test split to evaluate the optimization\n",
    "X_train, X_test, y_train, y_test = train_test_split(\n",
    "    X, y, test_size=0.1, random_state=random_state)"
   ]
  },
  {
   "cell_type": "markdown",
   "id": "0d80163e",
   "metadata": {
    "papermill": {
     "duration": 0.007098,
     "end_time": "2024-10-23T11:49:40.560785",
     "exception": false,
     "start_time": "2024-10-23T11:49:40.553687",
     "status": "completed"
    },
    "tags": []
   },
   "source": [
    "# Base model and Hyperparameter Tunning"
   ]
  },
  {
   "cell_type": "markdown",
   "id": "f975e6cd",
   "metadata": {
    "papermill": {
     "duration": 0.007089,
     "end_time": "2024-10-23T11:49:40.575224",
     "exception": false,
     "start_time": "2024-10-23T11:49:40.568135",
     "status": "completed"
    },
    "tags": []
   },
   "source": [
    "## Base XGBoost model"
   ]
  },
  {
   "cell_type": "code",
   "execution_count": 11,
   "id": "062fb0b9",
   "metadata": {
    "execution": {
     "iopub.execute_input": "2024-10-23T11:49:40.591838Z",
     "iopub.status.busy": "2024-10-23T11:49:40.591410Z",
     "iopub.status.idle": "2024-10-23T11:49:40.597445Z",
     "shell.execute_reply": "2024-10-23T11:49:40.596061Z"
    },
    "papermill": {
     "duration": 0.017358,
     "end_time": "2024-10-23T11:49:40.599823",
     "exception": false,
     "start_time": "2024-10-23T11:49:40.582465",
     "status": "completed"
    },
    "tags": []
   },
   "outputs": [],
   "source": [
    "# XGB base params\n",
    "base_params = {\n",
    "    'objective': 'binary:logistic',\n",
    "    'eval_metric': 'auc',\n",
    "    'max_depth': 6,\n",
    "    'enable_categorical': True,\n",
    "    'n_estimators': 1000,\n",
    "    'eta': 0.3,\n",
    "    'verbosity':0,\n",
    "}"
   ]
  },
  {
   "cell_type": "code",
   "execution_count": 12,
   "id": "c15d7af3",
   "metadata": {
    "execution": {
     "iopub.execute_input": "2024-10-23T11:49:40.616330Z",
     "iopub.status.busy": "2024-10-23T11:49:40.615921Z",
     "iopub.status.idle": "2024-10-23T11:49:45.098815Z",
     "shell.execute_reply": "2024-10-23T11:49:45.097714Z"
    },
    "papermill": {
     "duration": 4.493924,
     "end_time": "2024-10-23T11:49:45.101259",
     "exception": false,
     "start_time": "2024-10-23T11:49:40.607335",
     "status": "completed"
    },
    "tags": []
   },
   "outputs": [
    {
     "data": {
      "text/html": [
       "<style>#sk-container-id-1 {color: black;background-color: white;}#sk-container-id-1 pre{padding: 0;}#sk-container-id-1 div.sk-toggleable {background-color: white;}#sk-container-id-1 label.sk-toggleable__label {cursor: pointer;display: block;width: 100%;margin-bottom: 0;padding: 0.3em;box-sizing: border-box;text-align: center;}#sk-container-id-1 label.sk-toggleable__label-arrow:before {content: \"▸\";float: left;margin-right: 0.25em;color: #696969;}#sk-container-id-1 label.sk-toggleable__label-arrow:hover:before {color: black;}#sk-container-id-1 div.sk-estimator:hover label.sk-toggleable__label-arrow:before {color: black;}#sk-container-id-1 div.sk-toggleable__content {max-height: 0;max-width: 0;overflow: hidden;text-align: left;background-color: #f0f8ff;}#sk-container-id-1 div.sk-toggleable__content pre {margin: 0.2em;color: black;border-radius: 0.25em;background-color: #f0f8ff;}#sk-container-id-1 input.sk-toggleable__control:checked~div.sk-toggleable__content {max-height: 200px;max-width: 100%;overflow: auto;}#sk-container-id-1 input.sk-toggleable__control:checked~label.sk-toggleable__label-arrow:before {content: \"▾\";}#sk-container-id-1 div.sk-estimator input.sk-toggleable__control:checked~label.sk-toggleable__label {background-color: #d4ebff;}#sk-container-id-1 div.sk-label input.sk-toggleable__control:checked~label.sk-toggleable__label {background-color: #d4ebff;}#sk-container-id-1 input.sk-hidden--visually {border: 0;clip: rect(1px 1px 1px 1px);clip: rect(1px, 1px, 1px, 1px);height: 1px;margin: -1px;overflow: hidden;padding: 0;position: absolute;width: 1px;}#sk-container-id-1 div.sk-estimator {font-family: monospace;background-color: #f0f8ff;border: 1px dotted black;border-radius: 0.25em;box-sizing: border-box;margin-bottom: 0.5em;}#sk-container-id-1 div.sk-estimator:hover {background-color: #d4ebff;}#sk-container-id-1 div.sk-parallel-item::after {content: \"\";width: 100%;border-bottom: 1px solid gray;flex-grow: 1;}#sk-container-id-1 div.sk-label:hover label.sk-toggleable__label {background-color: #d4ebff;}#sk-container-id-1 div.sk-serial::before {content: \"\";position: absolute;border-left: 1px solid gray;box-sizing: border-box;top: 0;bottom: 0;left: 50%;z-index: 0;}#sk-container-id-1 div.sk-serial {display: flex;flex-direction: column;align-items: center;background-color: white;padding-right: 0.2em;padding-left: 0.2em;position: relative;}#sk-container-id-1 div.sk-item {position: relative;z-index: 1;}#sk-container-id-1 div.sk-parallel {display: flex;align-items: stretch;justify-content: center;background-color: white;position: relative;}#sk-container-id-1 div.sk-item::before, #sk-container-id-1 div.sk-parallel-item::before {content: \"\";position: absolute;border-left: 1px solid gray;box-sizing: border-box;top: 0;bottom: 0;left: 50%;z-index: -1;}#sk-container-id-1 div.sk-parallel-item {display: flex;flex-direction: column;z-index: 1;position: relative;background-color: white;}#sk-container-id-1 div.sk-parallel-item:first-child::after {align-self: flex-end;width: 50%;}#sk-container-id-1 div.sk-parallel-item:last-child::after {align-self: flex-start;width: 50%;}#sk-container-id-1 div.sk-parallel-item:only-child::after {width: 0;}#sk-container-id-1 div.sk-dashed-wrapped {border: 1px dashed gray;margin: 0 0.4em 0.5em 0.4em;box-sizing: border-box;padding-bottom: 0.4em;background-color: white;}#sk-container-id-1 div.sk-label label {font-family: monospace;font-weight: bold;display: inline-block;line-height: 1.2em;}#sk-container-id-1 div.sk-label-container {text-align: center;}#sk-container-id-1 div.sk-container {/* jupyter's `normalize.less` sets `[hidden] { display: none; }` but bootstrap.min.css set `[hidden] { display: none !important; }` so we also need the `!important` here to be able to override the default hidden behavior on the sphinx rendered scikit-learn.org. See: https://github.com/scikit-learn/scikit-learn/issues/21755 */display: inline-block !important;position: relative;}#sk-container-id-1 div.sk-text-repr-fallback {display: none;}</style><div id=\"sk-container-id-1\" class=\"sk-top-container\"><div class=\"sk-text-repr-fallback\"><pre>XGBClassifier(base_score=None, booster=None, callbacks=None,\n",
       "              colsample_bylevel=None, colsample_bynode=None,\n",
       "              colsample_bytree=None, device=None, early_stopping_rounds=None,\n",
       "              enable_categorical=True, eta=0.3, eval_metric=&#x27;auc&#x27;,\n",
       "              feature_types=None, gamma=None, grow_policy=None,\n",
       "              importance_type=None, interaction_constraints=None,\n",
       "              learning_rate=None, max_bin=None, max_cat_threshold=None,\n",
       "              max_cat_to_onehot=None, max_delta_step=None, max_depth=6,\n",
       "              max_leaves=None, min_child_weight=None, missing=nan,\n",
       "              monotone_constraints=None, multi_strategy=None, n_estimators=1000,\n",
       "              n_jobs=None, num_parallel_tree=None, ...)</pre><b>In a Jupyter environment, please rerun this cell to show the HTML representation or trust the notebook. <br />On GitHub, the HTML representation is unable to render, please try loading this page with nbviewer.org.</b></div><div class=\"sk-container\" hidden><div class=\"sk-item\"><div class=\"sk-estimator sk-toggleable\"><input class=\"sk-toggleable__control sk-hidden--visually\" id=\"sk-estimator-id-1\" type=\"checkbox\" checked><label for=\"sk-estimator-id-1\" class=\"sk-toggleable__label sk-toggleable__label-arrow\">XGBClassifier</label><div class=\"sk-toggleable__content\"><pre>XGBClassifier(base_score=None, booster=None, callbacks=None,\n",
       "              colsample_bylevel=None, colsample_bynode=None,\n",
       "              colsample_bytree=None, device=None, early_stopping_rounds=None,\n",
       "              enable_categorical=True, eta=0.3, eval_metric=&#x27;auc&#x27;,\n",
       "              feature_types=None, gamma=None, grow_policy=None,\n",
       "              importance_type=None, interaction_constraints=None,\n",
       "              learning_rate=None, max_bin=None, max_cat_threshold=None,\n",
       "              max_cat_to_onehot=None, max_delta_step=None, max_depth=6,\n",
       "              max_leaves=None, min_child_weight=None, missing=nan,\n",
       "              monotone_constraints=None, multi_strategy=None, n_estimators=1000,\n",
       "              n_jobs=None, num_parallel_tree=None, ...)</pre></div></div></div></div></div>"
      ],
      "text/plain": [
       "XGBClassifier(base_score=None, booster=None, callbacks=None,\n",
       "              colsample_bylevel=None, colsample_bynode=None,\n",
       "              colsample_bytree=None, device=None, early_stopping_rounds=None,\n",
       "              enable_categorical=True, eta=0.3, eval_metric='auc',\n",
       "              feature_types=None, gamma=None, grow_policy=None,\n",
       "              importance_type=None, interaction_constraints=None,\n",
       "              learning_rate=None, max_bin=None, max_cat_threshold=None,\n",
       "              max_cat_to_onehot=None, max_delta_step=None, max_depth=6,\n",
       "              max_leaves=None, min_child_weight=None, missing=nan,\n",
       "              monotone_constraints=None, multi_strategy=None, n_estimators=1000,\n",
       "              n_jobs=None, num_parallel_tree=None, ...)"
      ]
     },
     "execution_count": 12,
     "metadata": {},
     "output_type": "execute_result"
    }
   ],
   "source": [
    "# Base XGBoost model\n",
    "base_xgb = XGBClassifier(**base_params).fit(X_train, y_train)\n",
    "base_xgb"
   ]
  },
  {
   "cell_type": "code",
   "execution_count": 13,
   "id": "80331e40",
   "metadata": {
    "execution": {
     "iopub.execute_input": "2024-10-23T11:49:45.118410Z",
     "iopub.status.busy": "2024-10-23T11:49:45.117991Z",
     "iopub.status.idle": "2024-10-23T11:50:05.102105Z",
     "shell.execute_reply": "2024-10-23T11:50:05.100947Z"
    },
    "papermill": {
     "duration": 19.995617,
     "end_time": "2024-10-23T11:50:05.104662",
     "exception": false,
     "start_time": "2024-10-23T11:49:45.109045",
     "status": "completed"
    },
    "tags": []
   },
   "outputs": [
    {
     "name": "stdout",
     "output_type": "stream",
     "text": [
      "Base ROC_AUC : 0.9428497614842855\n"
     ]
    }
   ],
   "source": [
    "# To evaluate the model performance we use cross_val_score\n",
    "score = cross_val_score(base_xgb, X_train, y_train, scoring=\"roc_auc\", cv=5).mean()\n",
    "print(f'Base ROC_AUC : {score}')"
   ]
  },
  {
   "cell_type": "markdown",
   "id": "d713f8d5",
   "metadata": {
    "papermill": {
     "duration": 0.007297,
     "end_time": "2024-10-23T11:50:05.119651",
     "exception": false,
     "start_time": "2024-10-23T11:50:05.112354",
     "status": "completed"
    },
    "tags": []
   },
   "source": [
    "## Optuna Objective XGBoost  \n",
    "First, we define the search space. For simplicity, we comment out some hyperparameters, making the search easier."
   ]
  },
  {
   "cell_type": "code",
   "execution_count": 14,
   "id": "3eac0dd3",
   "metadata": {
    "execution": {
     "iopub.execute_input": "2024-10-23T11:50:05.136767Z",
     "iopub.status.busy": "2024-10-23T11:50:05.136357Z",
     "iopub.status.idle": "2024-10-23T11:50:05.143871Z",
     "shell.execute_reply": "2024-10-23T11:50:05.142848Z"
    },
    "papermill": {
     "duration": 0.018908,
     "end_time": "2024-10-23T11:50:05.146214",
     "exception": false,
     "start_time": "2024-10-23T11:50:05.127306",
     "status": "completed"
    },
    "tags": []
   },
   "outputs": [],
   "source": [
    "# Optuna Objective XGB\n",
    "def objective(trial):\n",
    "    param = {\n",
    "        'objective': 'binary:logistic',\n",
    "        'eval_metric': 'auc',\n",
    "        'enable_categorical': True,\n",
    "        'max_depth': trial.suggest_int('max_depth', 3, 10),\n",
    "        'n_estimators': trial.suggest_int('n_estimators', 500, 1500),\n",
    "        #'subsample': trial.suggest_float('subsample', 0.7, 0.9),\n",
    "        #'colsample_bytree': trial.suggest_float('colsample_bytree', 0.5, 0.9),\n",
    "        #'min_child_weight': trial.suggest_int('min_child_weight', 1, 10),\n",
    "        'eta': trial.suggest_float('eta', 0.01, 0.1),\n",
    "        #'reg_alpha': trial.suggest_float(\"reg_alpha\", 1e-6, 1e-1),\n",
    "        'reg_lambda': trial.suggest_float(\"reg_lambda\", 1, 20),\n",
    "        #'gamma': trial.suggest_float(\"gamma\", 1e-8, 1e-1),\n",
    "    }\n",
    "\n",
    "    clf = XGBClassifier(**param)\n",
    "    # Función objetivo\n",
    "    score = cross_val_score(clf, X_train, y_train, scoring=\"roc_auc\", cv=5).mean()\n",
    "    return score"
   ]
  },
  {
   "cell_type": "code",
   "execution_count": 15,
   "id": "c04e7f5b",
   "metadata": {
    "execution": {
     "iopub.execute_input": "2024-10-23T11:50:05.181295Z",
     "iopub.status.busy": "2024-10-23T11:50:05.180278Z",
     "iopub.status.idle": "2024-10-23T11:58:09.601411Z",
     "shell.execute_reply": "2024-10-23T11:58:09.600283Z"
    },
    "papermill": {
     "duration": 484.449677,
     "end_time": "2024-10-23T11:58:09.603592",
     "exception": false,
     "start_time": "2024-10-23T11:50:05.153915",
     "status": "completed"
    },
    "tags": []
   },
   "outputs": [
    {
     "name": "stderr",
     "output_type": "stream",
     "text": [
      "[I 2024-10-23 11:50:05,183] A new study created in memory with name: XGBoost_optimization\n",
      "[I 2024-10-23 11:50:18,745] Trial 0 finished with value: 0.9547103775443435 and parameters: {'max_depth': 4, 'n_estimators': 1106, 'eta': 0.09841469842426465, 'reg_lambda': 7.85061641795577}. Best is trial 0 with value: 0.9547103775443435.\n",
      "[I 2024-10-23 11:50:59,882] Trial 1 finished with value: 0.952971948019053 and parameters: {'max_depth': 10, 'n_estimators': 1145, 'eta': 0.03369067240957974, 'reg_lambda': 18.9263800243201}. Best is trial 0 with value: 0.9547103775443435.\n",
      "[I 2024-10-23 11:51:10,167] Trial 2 finished with value: 0.9554704924751457 and parameters: {'max_depth': 5, 'n_estimators': 670, 'eta': 0.0729616303536814, 'reg_lambda': 5.808618704598761}. Best is trial 2 with value: 0.9554704924751457.\n",
      "[I 2024-10-23 11:51:24,812] Trial 3 finished with value: 0.9555880719862472 and parameters: {'max_depth': 4, 'n_estimators': 1153, 'eta': 0.0458340597764879, 'reg_lambda': 4.914137339290766}. Best is trial 3 with value: 0.9555880719862472.\n",
      "[I 2024-10-23 11:51:38,529] Trial 4 finished with value: 0.9553966232553994 and parameters: {'max_depth': 5, 'n_estimators': 815, 'eta': 0.06370386373730005, 'reg_lambda': 6.513566967836617}. Best is trial 3 with value: 0.9555880719862472.\n",
      "[I 2024-10-23 11:51:59,104] Trial 5 finished with value: 0.9550129928914343 and parameters: {'max_depth': 5, 'n_estimators': 1395, 'eta': 0.03471431036955586, 'reg_lambda': 1.3875768821589518}. Best is trial 3 with value: 0.9555880719862472.\n",
      "[I 2024-10-23 11:52:26,201] Trial 6 finished with value: 0.9471762081747332 and parameters: {'max_depth': 10, 'n_estimators': 802, 'eta': 0.0748493378061362, 'reg_lambda': 2.6459915841977404}. Best is trial 3 with value: 0.9555880719862472.\n",
      "[I 2024-10-23 11:53:06,241] Trial 7 finished with value: 0.9479927052771309 and parameters: {'max_depth': 9, 'n_estimators': 1373, 'eta': 0.055818609878960784, 'reg_lambda': 5.9925925943951865}. Best is trial 3 with value: 0.9555880719862472.\n",
      "[I 2024-10-23 11:53:19,148] Trial 8 finished with value: 0.9544291189693871 and parameters: {'max_depth': 7, 'n_estimators': 551, 'eta': 0.07553798148890184, 'reg_lambda': 14.868589331516743}. Best is trial 3 with value: 0.9555880719862472.\n",
      "[I 2024-10-23 11:53:38,071] Trial 9 finished with value: 0.952739346825771 and parameters: {'max_depth': 6, 'n_estimators': 1086, 'eta': 0.0712687500995851, 'reg_lambda': 5.16016084461153}. Best is trial 3 with value: 0.9555880719862472.\n",
      "[I 2024-10-23 11:54:16,180] Trial 10 finished with value: 0.9548139219769833 and parameters: {'max_depth': 8, 'n_estimators': 1332, 'eta': 0.012708099198910909, 'reg_lambda': 11.835069300113656}. Best is trial 3 with value: 0.9555880719862472.\n",
      "[I 2024-10-23 11:54:22,420] Trial 11 finished with value: 0.9510043912572381 and parameters: {'max_depth': 3, 'n_estimators': 533, 'eta': 0.04630660868869457, 'reg_lambda': 9.756066137894727}. Best is trial 3 with value: 0.9555880719862472.\n",
      "[I 2024-10-23 11:54:31,759] Trial 12 finished with value: 0.9558509273852158 and parameters: {'max_depth': 3, 'n_estimators': 865, 'eta': 0.08628760082844611, 'reg_lambda': 3.598688655621898}. Best is trial 12 with value: 0.9558509273852158.\n",
      "[I 2024-10-23 11:54:41,654] Trial 13 finished with value: 0.9560431383344239 and parameters: {'max_depth': 3, 'n_estimators': 925, 'eta': 0.08934524060637639, 'reg_lambda': 3.2408030548582882}. Best is trial 13 with value: 0.9560431383344239.\n",
      "[I 2024-10-23 11:54:52,752] Trial 14 finished with value: 0.9559228104398116 and parameters: {'max_depth': 3, 'n_estimators': 889, 'eta': 0.0985981933939914, 'reg_lambda': 1.0956561401540825}. Best is trial 13 with value: 0.9560431383344239.\n",
      "[I 2024-10-23 11:55:02,852] Trial 15 finished with value: 0.9557777617516482 and parameters: {'max_depth': 3, 'n_estimators': 945, 'eta': 0.09849396868241013, 'reg_lambda': 1.1676964916320856}. Best is trial 13 with value: 0.9560431383344239.\n",
      "[I 2024-10-23 11:55:11,857] Trial 16 finished with value: 0.9559226711883806 and parameters: {'max_depth': 4, 'n_estimators': 692, 'eta': 0.08589813421650158, 'reg_lambda': 8.988068811651615}. Best is trial 13 with value: 0.9560431383344239.\n",
      "[I 2024-10-23 11:55:30,768] Trial 17 finished with value: 0.9533707128148841 and parameters: {'max_depth': 6, 'n_estimators': 983, 'eta': 0.08722822221562554, 'reg_lambda': 14.250922056317513}. Best is trial 13 with value: 0.9560431383344239.\n",
      "[I 2024-10-23 11:55:58,584] Trial 18 finished with value: 0.9478044666582235 and parameters: {'max_depth': 7, 'n_estimators': 1265, 'eta': 0.09185995254468815, 'reg_lambda': 3.4678648504253893}. Best is trial 13 with value: 0.9560431383344239.\n",
      "[I 2024-10-23 11:56:08,310] Trial 19 finished with value: 0.955882171008966 and parameters: {'max_depth': 3, 'n_estimators': 905, 'eta': 0.08358249100030772, 'reg_lambda': 1.2143043367882882}. Best is trial 13 with value: 0.9560431383344239.\n",
      "[I 2024-10-23 11:56:17,525] Trial 20 finished with value: 0.9557677942807825 and parameters: {'max_depth': 4, 'n_estimators': 692, 'eta': 0.06265515318098203, 'reg_lambda': 11.652369098340298}. Best is trial 13 with value: 0.9560431383344239.\n",
      "[I 2024-10-23 11:56:28,394] Trial 21 finished with value: 0.9556064751622353 and parameters: {'max_depth': 4, 'n_estimators': 712, 'eta': 0.0928330918630949, 'reg_lambda': 8.222291996994525}. Best is trial 13 with value: 0.9560431383344239.\n",
      "[I 2024-10-23 11:56:37,066] Trial 22 finished with value: 0.9558444412001303 and parameters: {'max_depth': 3, 'n_estimators': 791, 'eta': 0.08305974297649117, 'reg_lambda': 3.149649178429487}. Best is trial 13 with value: 0.9560431383344239.\n",
      "[I 2024-10-23 11:56:49,610] Trial 23 finished with value: 0.9552154424853478 and parameters: {'max_depth': 4, 'n_estimators': 1011, 'eta': 0.09888336039042858, 'reg_lambda': 8.893799123840557}. Best is trial 13 with value: 0.9560431383344239.\n",
      "[I 2024-10-23 11:57:00,738] Trial 24 finished with value: 0.9554353644693669 and parameters: {'max_depth': 5, 'n_estimators': 620, 'eta': 0.09140834002968125, 'reg_lambda': 13.932827690337051}. Best is trial 13 with value: 0.9560431383344239.\n",
      "[I 2024-10-23 11:57:09,097] Trial 25 finished with value: 0.955225974290961 and parameters: {'max_depth': 3, 'n_estimators': 748, 'eta': 0.08150293060764241, 'reg_lambda': 19.749007566128093}. Best is trial 13 with value: 0.9560431383344239.\n",
      "[I 2024-10-23 11:57:21,852] Trial 26 finished with value: 0.9551424674063703 and parameters: {'max_depth': 4, 'n_estimators': 1030, 'eta': 0.07796521718436827, 'reg_lambda': 4.270259767935677}. Best is trial 13 with value: 0.9560431383344239.\n",
      "[I 2024-10-23 11:57:48,918] Trial 27 finished with value: 0.9536063702106304 and parameters: {'max_depth': 6, 'n_estimators': 1481, 'eta': 0.06695488146886519, 'reg_lambda': 17.347294206439415}. Best is trial 13 with value: 0.9560431383344239.\n",
      "[I 2024-10-23 11:58:00,158] Trial 28 finished with value: 0.9560737003590635 and parameters: {'max_depth': 3, 'n_estimators': 889, 'eta': 0.09169496848973524, 'reg_lambda': 7.037713542816443}. Best is trial 28 with value: 0.9560737003590635.\n",
      "[I 2024-10-23 11:58:09,596] Trial 29 finished with value: 0.9562592785427324 and parameters: {'max_depth': 3, 'n_estimators': 876, 'eta': 0.09972966165848221, 'reg_lambda': 7.111021085628628}. Best is trial 29 with value: 0.9562592785427324.\n"
     ]
    },
    {
     "name": "stdout",
     "output_type": "stream",
     "text": [
      "CPU times: user 31min 5s, sys: 10.7 s, total: 31min 15s\n",
      "Wall time: 8min 4s\n"
     ]
    }
   ],
   "source": [
    "%%time\n",
    "# Run the optimization\n",
    "study = optuna.create_study(\n",
    "    study_name='XGBoost_optimization', \n",
    "    direction='maximize')\n",
    "\n",
    "study.optimize(objective, n_trials=30, timeout=3600)"
   ]
  },
  {
   "cell_type": "code",
   "execution_count": 16,
   "id": "5866027a",
   "metadata": {
    "execution": {
     "iopub.execute_input": "2024-10-23T11:58:09.625771Z",
     "iopub.status.busy": "2024-10-23T11:58:09.625340Z",
     "iopub.status.idle": "2024-10-23T11:58:09.636702Z",
     "shell.execute_reply": "2024-10-23T11:58:09.635647Z"
    },
    "papermill": {
     "duration": 0.025289,
     "end_time": "2024-10-23T11:58:09.639050",
     "exception": false,
     "start_time": "2024-10-23T11:58:09.613761",
     "status": "completed"
    },
    "tags": []
   },
   "outputs": [
    {
     "name": "stdout",
     "output_type": "stream",
     "text": [
      "N trials:  30\n",
      "Best trial:\n",
      "  Valor: 0.9562592785427324\n",
      "  Params: \n",
      "    max_depth: 3\n",
      "    n_estimators: 876\n",
      "    eta: 0.09972966165848221\n",
      "    reg_lambda: 7.111021085628628\n"
     ]
    }
   ],
   "source": [
    "#  Results\n",
    "print('N trials: ', len(study.trials))\n",
    "print('Best trial:')\n",
    "trial = study.best_trial \n",
    "\n",
    "print('  Valor: {}'.format(trial.value))\n",
    "print('  Params: ')\n",
    "for key, value in trial.params.items():\n",
    "    print('    {}: {}'.format(key, value))\n",
    "\n",
    "# Optuna params\n",
    "optuna_params = trial.params"
   ]
  },
  {
   "cell_type": "markdown",
   "id": "80174ada",
   "metadata": {
    "papermill": {
     "duration": 0.010423,
     "end_time": "2024-10-23T11:58:09.660006",
     "exception": false,
     "start_time": "2024-10-23T11:58:09.649583",
     "status": "completed"
    },
    "tags": []
   },
   "source": [
    "Now we update the base parameters with the Optuna parameters and construct the XGBoost model."
   ]
  },
  {
   "cell_type": "code",
   "execution_count": 17,
   "id": "0a1590e5",
   "metadata": {
    "execution": {
     "iopub.execute_input": "2024-10-23T11:58:09.682100Z",
     "iopub.status.busy": "2024-10-23T11:58:09.681129Z",
     "iopub.status.idle": "2024-10-23T11:58:09.692489Z",
     "shell.execute_reply": "2024-10-23T11:58:09.691470Z"
    },
    "papermill": {
     "duration": 0.024933,
     "end_time": "2024-10-23T11:58:09.694683",
     "exception": false,
     "start_time": "2024-10-23T11:58:09.669750",
     "status": "completed"
    },
    "tags": []
   },
   "outputs": [
    {
     "data": {
      "text/html": [
       "<style>#sk-container-id-2 {color: black;background-color: white;}#sk-container-id-2 pre{padding: 0;}#sk-container-id-2 div.sk-toggleable {background-color: white;}#sk-container-id-2 label.sk-toggleable__label {cursor: pointer;display: block;width: 100%;margin-bottom: 0;padding: 0.3em;box-sizing: border-box;text-align: center;}#sk-container-id-2 label.sk-toggleable__label-arrow:before {content: \"▸\";float: left;margin-right: 0.25em;color: #696969;}#sk-container-id-2 label.sk-toggleable__label-arrow:hover:before {color: black;}#sk-container-id-2 div.sk-estimator:hover label.sk-toggleable__label-arrow:before {color: black;}#sk-container-id-2 div.sk-toggleable__content {max-height: 0;max-width: 0;overflow: hidden;text-align: left;background-color: #f0f8ff;}#sk-container-id-2 div.sk-toggleable__content pre {margin: 0.2em;color: black;border-radius: 0.25em;background-color: #f0f8ff;}#sk-container-id-2 input.sk-toggleable__control:checked~div.sk-toggleable__content {max-height: 200px;max-width: 100%;overflow: auto;}#sk-container-id-2 input.sk-toggleable__control:checked~label.sk-toggleable__label-arrow:before {content: \"▾\";}#sk-container-id-2 div.sk-estimator input.sk-toggleable__control:checked~label.sk-toggleable__label {background-color: #d4ebff;}#sk-container-id-2 div.sk-label input.sk-toggleable__control:checked~label.sk-toggleable__label {background-color: #d4ebff;}#sk-container-id-2 input.sk-hidden--visually {border: 0;clip: rect(1px 1px 1px 1px);clip: rect(1px, 1px, 1px, 1px);height: 1px;margin: -1px;overflow: hidden;padding: 0;position: absolute;width: 1px;}#sk-container-id-2 div.sk-estimator {font-family: monospace;background-color: #f0f8ff;border: 1px dotted black;border-radius: 0.25em;box-sizing: border-box;margin-bottom: 0.5em;}#sk-container-id-2 div.sk-estimator:hover {background-color: #d4ebff;}#sk-container-id-2 div.sk-parallel-item::after {content: \"\";width: 100%;border-bottom: 1px solid gray;flex-grow: 1;}#sk-container-id-2 div.sk-label:hover label.sk-toggleable__label {background-color: #d4ebff;}#sk-container-id-2 div.sk-serial::before {content: \"\";position: absolute;border-left: 1px solid gray;box-sizing: border-box;top: 0;bottom: 0;left: 50%;z-index: 0;}#sk-container-id-2 div.sk-serial {display: flex;flex-direction: column;align-items: center;background-color: white;padding-right: 0.2em;padding-left: 0.2em;position: relative;}#sk-container-id-2 div.sk-item {position: relative;z-index: 1;}#sk-container-id-2 div.sk-parallel {display: flex;align-items: stretch;justify-content: center;background-color: white;position: relative;}#sk-container-id-2 div.sk-item::before, #sk-container-id-2 div.sk-parallel-item::before {content: \"\";position: absolute;border-left: 1px solid gray;box-sizing: border-box;top: 0;bottom: 0;left: 50%;z-index: -1;}#sk-container-id-2 div.sk-parallel-item {display: flex;flex-direction: column;z-index: 1;position: relative;background-color: white;}#sk-container-id-2 div.sk-parallel-item:first-child::after {align-self: flex-end;width: 50%;}#sk-container-id-2 div.sk-parallel-item:last-child::after {align-self: flex-start;width: 50%;}#sk-container-id-2 div.sk-parallel-item:only-child::after {width: 0;}#sk-container-id-2 div.sk-dashed-wrapped {border: 1px dashed gray;margin: 0 0.4em 0.5em 0.4em;box-sizing: border-box;padding-bottom: 0.4em;background-color: white;}#sk-container-id-2 div.sk-label label {font-family: monospace;font-weight: bold;display: inline-block;line-height: 1.2em;}#sk-container-id-2 div.sk-label-container {text-align: center;}#sk-container-id-2 div.sk-container {/* jupyter's `normalize.less` sets `[hidden] { display: none; }` but bootstrap.min.css set `[hidden] { display: none !important; }` so we also need the `!important` here to be able to override the default hidden behavior on the sphinx rendered scikit-learn.org. See: https://github.com/scikit-learn/scikit-learn/issues/21755 */display: inline-block !important;position: relative;}#sk-container-id-2 div.sk-text-repr-fallback {display: none;}</style><div id=\"sk-container-id-2\" class=\"sk-top-container\"><div class=\"sk-text-repr-fallback\"><pre>XGBClassifier(base_score=None, booster=None, callbacks=None,\n",
       "              colsample_bylevel=None, colsample_bynode=None,\n",
       "              colsample_bytree=None, device=None, early_stopping_rounds=None,\n",
       "              enable_categorical=True, eta=0.09972966165848221,\n",
       "              eval_metric=&#x27;auc&#x27;, feature_types=None, gamma=None,\n",
       "              grow_policy=None, importance_type=None,\n",
       "              interaction_constraints=None, learning_rate=None, max_bin=None,\n",
       "              max_cat_threshold=None, max_cat_to_onehot=None,\n",
       "              max_delta_step=None, max_depth=3, max_leaves=None,\n",
       "              min_child_weight=None, missing=nan, monotone_constraints=None,\n",
       "              multi_strategy=None, n_estimators=876, n_jobs=None,\n",
       "              num_parallel_tree=None, ...)</pre><b>In a Jupyter environment, please rerun this cell to show the HTML representation or trust the notebook. <br />On GitHub, the HTML representation is unable to render, please try loading this page with nbviewer.org.</b></div><div class=\"sk-container\" hidden><div class=\"sk-item\"><div class=\"sk-estimator sk-toggleable\"><input class=\"sk-toggleable__control sk-hidden--visually\" id=\"sk-estimator-id-2\" type=\"checkbox\" checked><label for=\"sk-estimator-id-2\" class=\"sk-toggleable__label sk-toggleable__label-arrow\">XGBClassifier</label><div class=\"sk-toggleable__content\"><pre>XGBClassifier(base_score=None, booster=None, callbacks=None,\n",
       "              colsample_bylevel=None, colsample_bynode=None,\n",
       "              colsample_bytree=None, device=None, early_stopping_rounds=None,\n",
       "              enable_categorical=True, eta=0.09972966165848221,\n",
       "              eval_metric=&#x27;auc&#x27;, feature_types=None, gamma=None,\n",
       "              grow_policy=None, importance_type=None,\n",
       "              interaction_constraints=None, learning_rate=None, max_bin=None,\n",
       "              max_cat_threshold=None, max_cat_to_onehot=None,\n",
       "              max_delta_step=None, max_depth=3, max_leaves=None,\n",
       "              min_child_weight=None, missing=nan, monotone_constraints=None,\n",
       "              multi_strategy=None, n_estimators=876, n_jobs=None,\n",
       "              num_parallel_tree=None, ...)</pre></div></div></div></div></div>"
      ],
      "text/plain": [
       "XGBClassifier(base_score=None, booster=None, callbacks=None,\n",
       "              colsample_bylevel=None, colsample_bynode=None,\n",
       "              colsample_bytree=None, device=None, early_stopping_rounds=None,\n",
       "              enable_categorical=True, eta=0.09972966165848221,\n",
       "              eval_metric='auc', feature_types=None, gamma=None,\n",
       "              grow_policy=None, importance_type=None,\n",
       "              interaction_constraints=None, learning_rate=None, max_bin=None,\n",
       "              max_cat_threshold=None, max_cat_to_onehot=None,\n",
       "              max_delta_step=None, max_depth=3, max_leaves=None,\n",
       "              min_child_weight=None, missing=nan, monotone_constraints=None,\n",
       "              multi_strategy=None, n_estimators=876, n_jobs=None,\n",
       "              num_parallel_tree=None, ...)"
      ]
     },
     "execution_count": 17,
     "metadata": {},
     "output_type": "execute_result"
    }
   ],
   "source": [
    "base_params.update(optuna_params)\n",
    "\n",
    "xgb_model = XGBClassifier(**base_params)\n",
    "xgb_model"
   ]
  },
  {
   "cell_type": "markdown",
   "id": "2dfd7f5f",
   "metadata": {
    "papermill": {
     "duration": 0.010553,
     "end_time": "2024-10-23T11:58:09.715310",
     "exception": false,
     "start_time": "2024-10-23T11:58:09.704757",
     "status": "completed"
    },
    "tags": []
   },
   "source": [
    "## Evaluate the performance of both models  \n",
    "\n",
    "We found that the optimized model had a better ROC AUC score than the base model."
   ]
  },
  {
   "cell_type": "code",
   "execution_count": 18,
   "id": "e4747777",
   "metadata": {
    "execution": {
     "iopub.execute_input": "2024-10-23T11:58:09.737746Z",
     "iopub.status.busy": "2024-10-23T11:58:09.736772Z",
     "iopub.status.idle": "2024-10-23T11:58:11.927905Z",
     "shell.execute_reply": "2024-10-23T11:58:11.926455Z"
    },
    "papermill": {
     "duration": 2.205057,
     "end_time": "2024-10-23T11:58:11.930419",
     "exception": false,
     "start_time": "2024-10-23T11:58:09.725362",
     "status": "completed"
    },
    "tags": []
   },
   "outputs": [
    {
     "name": "stdout",
     "output_type": "stream",
     "text": [
      "Optimization ROC_AUC score : 0.9603179836612082\n"
     ]
    }
   ],
   "source": [
    "xgb_model.fit(X_train, y_train)\n",
    "opt_preds = xgb_model.predict_proba(X_test)[:,1]\n",
    "score = roc_auc_score(y_test, opt_preds)\n",
    "print(f'Optimization ROC_AUC score : {score}')"
   ]
  },
  {
   "cell_type": "code",
   "execution_count": 19,
   "id": "33d82f94",
   "metadata": {
    "execution": {
     "iopub.execute_input": "2024-10-23T11:58:11.952515Z",
     "iopub.status.busy": "2024-10-23T11:58:11.952089Z",
     "iopub.status.idle": "2024-10-23T11:58:12.059678Z",
     "shell.execute_reply": "2024-10-23T11:58:12.058490Z"
    },
    "papermill": {
     "duration": 0.121611,
     "end_time": "2024-10-23T11:58:12.062212",
     "exception": false,
     "start_time": "2024-10-23T11:58:11.940601",
     "status": "completed"
    },
    "tags": []
   },
   "outputs": [
    {
     "name": "stdout",
     "output_type": "stream",
     "text": [
      "Base ROC_AUC score : 0.9482751462309656\n"
     ]
    }
   ],
   "source": [
    "#base_xgb.fit(X_train, y_train) # this was already fitted\n",
    "base_preds = base_xgb.predict_proba(X_test)[:,1]\n",
    "score = roc_auc_score(y_test, base_preds)\n",
    "print(f'Base ROC_AUC score : {score}')"
   ]
  },
  {
   "cell_type": "markdown",
   "id": "89e0dddc",
   "metadata": {
    "papermill": {
     "duration": 0.009909,
     "end_time": "2024-10-23T11:58:12.082580",
     "exception": false,
     "start_time": "2024-10-23T11:58:12.072671",
     "status": "completed"
    },
    "tags": []
   },
   "source": [
    "## Optuna's Tuning Visualization  \n",
    "We can appreciate the history plot, slice plot, and the hyperparameter importance plot to better understand our results."
   ]
  },
  {
   "cell_type": "code",
   "execution_count": 20,
   "id": "e98223d9",
   "metadata": {
    "execution": {
     "iopub.execute_input": "2024-10-23T11:58:12.104657Z",
     "iopub.status.busy": "2024-10-23T11:58:12.104250Z",
     "iopub.status.idle": "2024-10-23T11:58:12.109060Z",
     "shell.execute_reply": "2024-10-23T11:58:12.107963Z"
    },
    "papermill": {
     "duration": 0.018616,
     "end_time": "2024-10-23T11:58:12.111300",
     "exception": false,
     "start_time": "2024-10-23T11:58:12.092684",
     "status": "completed"
    },
    "tags": []
   },
   "outputs": [],
   "source": [
    "#!pip install plotly"
   ]
  },
  {
   "cell_type": "code",
   "execution_count": 21,
   "id": "51b3d5b0",
   "metadata": {
    "execution": {
     "iopub.execute_input": "2024-10-23T11:58:12.134151Z",
     "iopub.status.busy": "2024-10-23T11:58:12.133663Z",
     "iopub.status.idle": "2024-10-23T11:58:13.902339Z",
     "shell.execute_reply": "2024-10-23T11:58:13.901275Z"
    },
    "papermill": {
     "duration": 1.78317,
     "end_time": "2024-10-23T11:58:13.904858",
     "exception": false,
     "start_time": "2024-10-23T11:58:12.121688",
     "status": "completed"
    },
    "tags": []
   },
   "outputs": [
    {
     "data": {
      "text/html": [
       "        <script type=\"text/javascript\">\n",
       "        window.PlotlyConfig = {MathJaxConfig: 'local'};\n",
       "        if (window.MathJax && window.MathJax.Hub && window.MathJax.Hub.Config) {window.MathJax.Hub.Config({SVG: {font: \"STIX-Web\"}});}\n",
       "        if (typeof require !== 'undefined') {\n",
       "        require.undef(\"plotly\");\n",
       "        requirejs.config({\n",
       "            paths: {\n",
       "                'plotly': ['https://cdn.plot.ly/plotly-2.32.0.min']\n",
       "            }\n",
       "        });\n",
       "        require(['plotly'], function(Plotly) {\n",
       "            window._Plotly = Plotly;\n",
       "        });\n",
       "        }\n",
       "        </script>\n",
       "        "
      ]
     },
     "metadata": {},
     "output_type": "display_data"
    },
    {
     "data": {
      "text/html": [
       "<div>                            <div id=\"473eee20-ef5b-4322-b400-4241d97c9793\" class=\"plotly-graph-div\" style=\"height:525px; width:100%;\"></div>            <script type=\"text/javascript\">                require([\"plotly\"], function(Plotly) {                    window.PLOTLYENV=window.PLOTLYENV || {};                                    if (document.getElementById(\"473eee20-ef5b-4322-b400-4241d97c9793\")) {                    Plotly.newPlot(                        \"473eee20-ef5b-4322-b400-4241d97c9793\",                        [{\"mode\":\"markers\",\"name\":\"Objective Value\",\"x\":[0,1,2,3,4,5,6,7,8,9,10,11,12,13,14,15,16,17,18,19,20,21,22,23,24,25,26,27,28,29],\"y\":[0.9547103775443435,0.952971948019053,0.9554704924751457,0.9555880719862472,0.9553966232553994,0.9550129928914343,0.9471762081747332,0.9479927052771309,0.9544291189693871,0.952739346825771,0.9548139219769833,0.9510043912572381,0.9558509273852158,0.9560431383344239,0.9559228104398116,0.9557777617516482,0.9559226711883806,0.9533707128148841,0.9478044666582235,0.955882171008966,0.9557677942807825,0.9556064751622353,0.9558444412001303,0.9552154424853478,0.9554353644693669,0.955225974290961,0.9551424674063703,0.9536063702106304,0.9560737003590635,0.9562592785427324],\"type\":\"scatter\"},{\"mode\":\"lines\",\"name\":\"Best Value\",\"x\":[0,1,2,3,4,5,6,7,8,9,10,11,12,13,14,15,16,17,18,19,20,21,22,23,24,25,26,27,28,29],\"y\":[0.9547103775443435,0.9547103775443435,0.9554704924751457,0.9555880719862472,0.9555880719862472,0.9555880719862472,0.9555880719862472,0.9555880719862472,0.9555880719862472,0.9555880719862472,0.9555880719862472,0.9555880719862472,0.9558509273852158,0.9560431383344239,0.9560431383344239,0.9560431383344239,0.9560431383344239,0.9560431383344239,0.9560431383344239,0.9560431383344239,0.9560431383344239,0.9560431383344239,0.9560431383344239,0.9560431383344239,0.9560431383344239,0.9560431383344239,0.9560431383344239,0.9560431383344239,0.9560737003590635,0.9562592785427324],\"type\":\"scatter\"},{\"marker\":{\"color\":\"#cccccc\"},\"mode\":\"markers\",\"name\":\"Infeasible Trial\",\"showlegend\":false,\"x\":[],\"y\":[],\"type\":\"scatter\"}],                        {\"title\":{\"text\":\"Optimization History Plot\"},\"xaxis\":{\"title\":{\"text\":\"Trial\"}},\"yaxis\":{\"title\":{\"text\":\"Objective Value\"}},\"template\":{\"data\":{\"histogram2dcontour\":[{\"type\":\"histogram2dcontour\",\"colorbar\":{\"outlinewidth\":0,\"ticks\":\"\"},\"colorscale\":[[0.0,\"#0d0887\"],[0.1111111111111111,\"#46039f\"],[0.2222222222222222,\"#7201a8\"],[0.3333333333333333,\"#9c179e\"],[0.4444444444444444,\"#bd3786\"],[0.5555555555555556,\"#d8576b\"],[0.6666666666666666,\"#ed7953\"],[0.7777777777777778,\"#fb9f3a\"],[0.8888888888888888,\"#fdca26\"],[1.0,\"#f0f921\"]]}],\"choropleth\":[{\"type\":\"choropleth\",\"colorbar\":{\"outlinewidth\":0,\"ticks\":\"\"}}],\"histogram2d\":[{\"type\":\"histogram2d\",\"colorbar\":{\"outlinewidth\":0,\"ticks\":\"\"},\"colorscale\":[[0.0,\"#0d0887\"],[0.1111111111111111,\"#46039f\"],[0.2222222222222222,\"#7201a8\"],[0.3333333333333333,\"#9c179e\"],[0.4444444444444444,\"#bd3786\"],[0.5555555555555556,\"#d8576b\"],[0.6666666666666666,\"#ed7953\"],[0.7777777777777778,\"#fb9f3a\"],[0.8888888888888888,\"#fdca26\"],[1.0,\"#f0f921\"]]}],\"heatmap\":[{\"type\":\"heatmap\",\"colorbar\":{\"outlinewidth\":0,\"ticks\":\"\"},\"colorscale\":[[0.0,\"#0d0887\"],[0.1111111111111111,\"#46039f\"],[0.2222222222222222,\"#7201a8\"],[0.3333333333333333,\"#9c179e\"],[0.4444444444444444,\"#bd3786\"],[0.5555555555555556,\"#d8576b\"],[0.6666666666666666,\"#ed7953\"],[0.7777777777777778,\"#fb9f3a\"],[0.8888888888888888,\"#fdca26\"],[1.0,\"#f0f921\"]]}],\"heatmapgl\":[{\"type\":\"heatmapgl\",\"colorbar\":{\"outlinewidth\":0,\"ticks\":\"\"},\"colorscale\":[[0.0,\"#0d0887\"],[0.1111111111111111,\"#46039f\"],[0.2222222222222222,\"#7201a8\"],[0.3333333333333333,\"#9c179e\"],[0.4444444444444444,\"#bd3786\"],[0.5555555555555556,\"#d8576b\"],[0.6666666666666666,\"#ed7953\"],[0.7777777777777778,\"#fb9f3a\"],[0.8888888888888888,\"#fdca26\"],[1.0,\"#f0f921\"]]}],\"contourcarpet\":[{\"type\":\"contourcarpet\",\"colorbar\":{\"outlinewidth\":0,\"ticks\":\"\"}}],\"contour\":[{\"type\":\"contour\",\"colorbar\":{\"outlinewidth\":0,\"ticks\":\"\"},\"colorscale\":[[0.0,\"#0d0887\"],[0.1111111111111111,\"#46039f\"],[0.2222222222222222,\"#7201a8\"],[0.3333333333333333,\"#9c179e\"],[0.4444444444444444,\"#bd3786\"],[0.5555555555555556,\"#d8576b\"],[0.6666666666666666,\"#ed7953\"],[0.7777777777777778,\"#fb9f3a\"],[0.8888888888888888,\"#fdca26\"],[1.0,\"#f0f921\"]]}],\"surface\":[{\"type\":\"surface\",\"colorbar\":{\"outlinewidth\":0,\"ticks\":\"\"},\"colorscale\":[[0.0,\"#0d0887\"],[0.1111111111111111,\"#46039f\"],[0.2222222222222222,\"#7201a8\"],[0.3333333333333333,\"#9c179e\"],[0.4444444444444444,\"#bd3786\"],[0.5555555555555556,\"#d8576b\"],[0.6666666666666666,\"#ed7953\"],[0.7777777777777778,\"#fb9f3a\"],[0.8888888888888888,\"#fdca26\"],[1.0,\"#f0f921\"]]}],\"mesh3d\":[{\"type\":\"mesh3d\",\"colorbar\":{\"outlinewidth\":0,\"ticks\":\"\"}}],\"scatter\":[{\"fillpattern\":{\"fillmode\":\"overlay\",\"size\":10,\"solidity\":0.2},\"type\":\"scatter\"}],\"parcoords\":[{\"type\":\"parcoords\",\"line\":{\"colorbar\":{\"outlinewidth\":0,\"ticks\":\"\"}}}],\"scatterpolargl\":[{\"type\":\"scatterpolargl\",\"marker\":{\"colorbar\":{\"outlinewidth\":0,\"ticks\":\"\"}}}],\"bar\":[{\"error_x\":{\"color\":\"#2a3f5f\"},\"error_y\":{\"color\":\"#2a3f5f\"},\"marker\":{\"line\":{\"color\":\"#E5ECF6\",\"width\":0.5},\"pattern\":{\"fillmode\":\"overlay\",\"size\":10,\"solidity\":0.2}},\"type\":\"bar\"}],\"scattergeo\":[{\"type\":\"scattergeo\",\"marker\":{\"colorbar\":{\"outlinewidth\":0,\"ticks\":\"\"}}}],\"scatterpolar\":[{\"type\":\"scatterpolar\",\"marker\":{\"colorbar\":{\"outlinewidth\":0,\"ticks\":\"\"}}}],\"histogram\":[{\"marker\":{\"pattern\":{\"fillmode\":\"overlay\",\"size\":10,\"solidity\":0.2}},\"type\":\"histogram\"}],\"scattergl\":[{\"type\":\"scattergl\",\"marker\":{\"colorbar\":{\"outlinewidth\":0,\"ticks\":\"\"}}}],\"scatter3d\":[{\"type\":\"scatter3d\",\"line\":{\"colorbar\":{\"outlinewidth\":0,\"ticks\":\"\"}},\"marker\":{\"colorbar\":{\"outlinewidth\":0,\"ticks\":\"\"}}}],\"scattermapbox\":[{\"type\":\"scattermapbox\",\"marker\":{\"colorbar\":{\"outlinewidth\":0,\"ticks\":\"\"}}}],\"scatterternary\":[{\"type\":\"scatterternary\",\"marker\":{\"colorbar\":{\"outlinewidth\":0,\"ticks\":\"\"}}}],\"scattercarpet\":[{\"type\":\"scattercarpet\",\"marker\":{\"colorbar\":{\"outlinewidth\":0,\"ticks\":\"\"}}}],\"carpet\":[{\"aaxis\":{\"endlinecolor\":\"#2a3f5f\",\"gridcolor\":\"white\",\"linecolor\":\"white\",\"minorgridcolor\":\"white\",\"startlinecolor\":\"#2a3f5f\"},\"baxis\":{\"endlinecolor\":\"#2a3f5f\",\"gridcolor\":\"white\",\"linecolor\":\"white\",\"minorgridcolor\":\"white\",\"startlinecolor\":\"#2a3f5f\"},\"type\":\"carpet\"}],\"table\":[{\"cells\":{\"fill\":{\"color\":\"#EBF0F8\"},\"line\":{\"color\":\"white\"}},\"header\":{\"fill\":{\"color\":\"#C8D4E3\"},\"line\":{\"color\":\"white\"}},\"type\":\"table\"}],\"barpolar\":[{\"marker\":{\"line\":{\"color\":\"#E5ECF6\",\"width\":0.5},\"pattern\":{\"fillmode\":\"overlay\",\"size\":10,\"solidity\":0.2}},\"type\":\"barpolar\"}],\"pie\":[{\"automargin\":true,\"type\":\"pie\"}]},\"layout\":{\"autotypenumbers\":\"strict\",\"colorway\":[\"#636efa\",\"#EF553B\",\"#00cc96\",\"#ab63fa\",\"#FFA15A\",\"#19d3f3\",\"#FF6692\",\"#B6E880\",\"#FF97FF\",\"#FECB52\"],\"font\":{\"color\":\"#2a3f5f\"},\"hovermode\":\"closest\",\"hoverlabel\":{\"align\":\"left\"},\"paper_bgcolor\":\"white\",\"plot_bgcolor\":\"#E5ECF6\",\"polar\":{\"bgcolor\":\"#E5ECF6\",\"angularaxis\":{\"gridcolor\":\"white\",\"linecolor\":\"white\",\"ticks\":\"\"},\"radialaxis\":{\"gridcolor\":\"white\",\"linecolor\":\"white\",\"ticks\":\"\"}},\"ternary\":{\"bgcolor\":\"#E5ECF6\",\"aaxis\":{\"gridcolor\":\"white\",\"linecolor\":\"white\",\"ticks\":\"\"},\"baxis\":{\"gridcolor\":\"white\",\"linecolor\":\"white\",\"ticks\":\"\"},\"caxis\":{\"gridcolor\":\"white\",\"linecolor\":\"white\",\"ticks\":\"\"}},\"coloraxis\":{\"colorbar\":{\"outlinewidth\":0,\"ticks\":\"\"}},\"colorscale\":{\"sequential\":[[0.0,\"#0d0887\"],[0.1111111111111111,\"#46039f\"],[0.2222222222222222,\"#7201a8\"],[0.3333333333333333,\"#9c179e\"],[0.4444444444444444,\"#bd3786\"],[0.5555555555555556,\"#d8576b\"],[0.6666666666666666,\"#ed7953\"],[0.7777777777777778,\"#fb9f3a\"],[0.8888888888888888,\"#fdca26\"],[1.0,\"#f0f921\"]],\"sequentialminus\":[[0.0,\"#0d0887\"],[0.1111111111111111,\"#46039f\"],[0.2222222222222222,\"#7201a8\"],[0.3333333333333333,\"#9c179e\"],[0.4444444444444444,\"#bd3786\"],[0.5555555555555556,\"#d8576b\"],[0.6666666666666666,\"#ed7953\"],[0.7777777777777778,\"#fb9f3a\"],[0.8888888888888888,\"#fdca26\"],[1.0,\"#f0f921\"]],\"diverging\":[[0,\"#8e0152\"],[0.1,\"#c51b7d\"],[0.2,\"#de77ae\"],[0.3,\"#f1b6da\"],[0.4,\"#fde0ef\"],[0.5,\"#f7f7f7\"],[0.6,\"#e6f5d0\"],[0.7,\"#b8e186\"],[0.8,\"#7fbc41\"],[0.9,\"#4d9221\"],[1,\"#276419\"]]},\"xaxis\":{\"gridcolor\":\"white\",\"linecolor\":\"white\",\"ticks\":\"\",\"title\":{\"standoff\":15},\"zerolinecolor\":\"white\",\"automargin\":true,\"zerolinewidth\":2},\"yaxis\":{\"gridcolor\":\"white\",\"linecolor\":\"white\",\"ticks\":\"\",\"title\":{\"standoff\":15},\"zerolinecolor\":\"white\",\"automargin\":true,\"zerolinewidth\":2},\"scene\":{\"xaxis\":{\"backgroundcolor\":\"#E5ECF6\",\"gridcolor\":\"white\",\"linecolor\":\"white\",\"showbackground\":true,\"ticks\":\"\",\"zerolinecolor\":\"white\",\"gridwidth\":2},\"yaxis\":{\"backgroundcolor\":\"#E5ECF6\",\"gridcolor\":\"white\",\"linecolor\":\"white\",\"showbackground\":true,\"ticks\":\"\",\"zerolinecolor\":\"white\",\"gridwidth\":2},\"zaxis\":{\"backgroundcolor\":\"#E5ECF6\",\"gridcolor\":\"white\",\"linecolor\":\"white\",\"showbackground\":true,\"ticks\":\"\",\"zerolinecolor\":\"white\",\"gridwidth\":2}},\"shapedefaults\":{\"line\":{\"color\":\"#2a3f5f\"}},\"annotationdefaults\":{\"arrowcolor\":\"#2a3f5f\",\"arrowhead\":0,\"arrowwidth\":1},\"geo\":{\"bgcolor\":\"white\",\"landcolor\":\"#E5ECF6\",\"subunitcolor\":\"white\",\"showland\":true,\"showlakes\":true,\"lakecolor\":\"white\"},\"title\":{\"x\":0.05},\"mapbox\":{\"style\":\"light\"}}}},                        {\"responsive\": true}                    ).then(function(){\n",
       "                            \n",
       "var gd = document.getElementById('473eee20-ef5b-4322-b400-4241d97c9793');\n",
       "var x = new MutationObserver(function (mutations, observer) {{\n",
       "        var display = window.getComputedStyle(gd).display;\n",
       "        if (!display || display === 'none') {{\n",
       "            console.log([gd, 'removed!']);\n",
       "            Plotly.purge(gd);\n",
       "            observer.disconnect();\n",
       "        }}\n",
       "}});\n",
       "\n",
       "// Listen for the removal of the full notebook cells\n",
       "var notebookContainer = gd.closest('#notebook-container');\n",
       "if (notebookContainer) {{\n",
       "    x.observe(notebookContainer, {childList: true});\n",
       "}}\n",
       "\n",
       "// Listen for the clearing of the current output cell\n",
       "var outputEl = gd.closest('.output');\n",
       "if (outputEl) {{\n",
       "    x.observe(outputEl, {childList: true});\n",
       "}}\n",
       "\n",
       "                        })                };                });            </script>        </div>"
      ]
     },
     "metadata": {},
     "output_type": "display_data"
    },
    {
     "data": {
      "text/html": [
       "<div>                            <div id=\"66d797f0-8dd8-4cfa-9d2b-6ffd04b5d231\" class=\"plotly-graph-div\" style=\"height:525px; width:1200px;\"></div>            <script type=\"text/javascript\">                require([\"plotly\"], function(Plotly) {                    window.PLOTLYENV=window.PLOTLYENV || {};                                    if (document.getElementById(\"66d797f0-8dd8-4cfa-9d2b-6ffd04b5d231\")) {                    Plotly.newPlot(                        \"66d797f0-8dd8-4cfa-9d2b-6ffd04b5d231\",                        [{\"marker\":{\"color\":[0,1,2,3,4,5,6,7,8,9,10,11,12,13,14,15,16,17,18,19,20,21,22,23,24,25,26,27,28,29],\"colorbar\":{\"title\":{\"text\":\"Trial\"},\"x\":1.0,\"xpad\":40},\"colorscale\":[[0.0,\"rgb(247,251,255)\"],[0.125,\"rgb(222,235,247)\"],[0.25,\"rgb(198,219,239)\"],[0.375,\"rgb(158,202,225)\"],[0.5,\"rgb(107,174,214)\"],[0.625,\"rgb(66,146,198)\"],[0.75,\"rgb(33,113,181)\"],[0.875,\"rgb(8,81,156)\"],[1.0,\"rgb(8,48,107)\"]],\"line\":{\"color\":\"Grey\",\"width\":0.5},\"showscale\":true},\"mode\":\"markers\",\"name\":\"Feasible Trial\",\"showlegend\":false,\"x\":[0.09841469842426465,0.03369067240957974,0.0729616303536814,0.0458340597764879,0.06370386373730005,0.03471431036955586,0.0748493378061362,0.055818609878960784,0.07553798148890184,0.0712687500995851,0.012708099198910909,0.04630660868869457,0.08628760082844611,0.08934524060637639,0.0985981933939914,0.09849396868241013,0.08589813421650158,0.08722822221562554,0.09185995254468815,0.08358249100030772,0.06265515318098203,0.0928330918630949,0.08305974297649117,0.09888336039042858,0.09140834002968125,0.08150293060764241,0.07796521718436827,0.06695488146886519,0.09169496848973524,0.09972966165848221],\"y\":[0.9547103775443435,0.952971948019053,0.9554704924751457,0.9555880719862472,0.9553966232553994,0.9550129928914343,0.9471762081747332,0.9479927052771309,0.9544291189693871,0.952739346825771,0.9548139219769833,0.9510043912572381,0.9558509273852158,0.9560431383344239,0.9559228104398116,0.9557777617516482,0.9559226711883806,0.9533707128148841,0.9478044666582235,0.955882171008966,0.9557677942807825,0.9556064751622353,0.9558444412001303,0.9552154424853478,0.9554353644693669,0.955225974290961,0.9551424674063703,0.9536063702106304,0.9560737003590635,0.9562592785427324],\"type\":\"scatter\",\"xaxis\":\"x\",\"yaxis\":\"y\"},{\"marker\":{\"color\":[0,1,2,3,4,5,6,7,8,9,10,11,12,13,14,15,16,17,18,19,20,21,22,23,24,25,26,27,28,29],\"colorbar\":{\"title\":{\"text\":\"Trial\"},\"x\":1.0,\"xpad\":40},\"colorscale\":[[0.0,\"rgb(247,251,255)\"],[0.125,\"rgb(222,235,247)\"],[0.25,\"rgb(198,219,239)\"],[0.375,\"rgb(158,202,225)\"],[0.5,\"rgb(107,174,214)\"],[0.625,\"rgb(66,146,198)\"],[0.75,\"rgb(33,113,181)\"],[0.875,\"rgb(8,81,156)\"],[1.0,\"rgb(8,48,107)\"]],\"line\":{\"color\":\"Grey\",\"width\":0.5},\"showscale\":false},\"mode\":\"markers\",\"name\":\"Feasible Trial\",\"showlegend\":false,\"x\":[4,10,5,4,5,5,10,9,7,6,8,3,3,3,3,3,4,6,7,3,4,4,3,4,5,3,4,6,3,3],\"y\":[0.9547103775443435,0.952971948019053,0.9554704924751457,0.9555880719862472,0.9553966232553994,0.9550129928914343,0.9471762081747332,0.9479927052771309,0.9544291189693871,0.952739346825771,0.9548139219769833,0.9510043912572381,0.9558509273852158,0.9560431383344239,0.9559228104398116,0.9557777617516482,0.9559226711883806,0.9533707128148841,0.9478044666582235,0.955882171008966,0.9557677942807825,0.9556064751622353,0.9558444412001303,0.9552154424853478,0.9554353644693669,0.955225974290961,0.9551424674063703,0.9536063702106304,0.9560737003590635,0.9562592785427324],\"type\":\"scatter\",\"xaxis\":\"x2\",\"yaxis\":\"y2\"},{\"marker\":{\"color\":[0,1,2,3,4,5,6,7,8,9,10,11,12,13,14,15,16,17,18,19,20,21,22,23,24,25,26,27,28,29],\"colorbar\":{\"title\":{\"text\":\"Trial\"},\"x\":1.0,\"xpad\":40},\"colorscale\":[[0.0,\"rgb(247,251,255)\"],[0.125,\"rgb(222,235,247)\"],[0.25,\"rgb(198,219,239)\"],[0.375,\"rgb(158,202,225)\"],[0.5,\"rgb(107,174,214)\"],[0.625,\"rgb(66,146,198)\"],[0.75,\"rgb(33,113,181)\"],[0.875,\"rgb(8,81,156)\"],[1.0,\"rgb(8,48,107)\"]],\"line\":{\"color\":\"Grey\",\"width\":0.5},\"showscale\":false},\"mode\":\"markers\",\"name\":\"Feasible Trial\",\"showlegend\":false,\"x\":[1106,1145,670,1153,815,1395,802,1373,551,1086,1332,533,865,925,889,945,692,983,1265,905,692,712,791,1011,620,748,1030,1481,889,876],\"y\":[0.9547103775443435,0.952971948019053,0.9554704924751457,0.9555880719862472,0.9553966232553994,0.9550129928914343,0.9471762081747332,0.9479927052771309,0.9544291189693871,0.952739346825771,0.9548139219769833,0.9510043912572381,0.9558509273852158,0.9560431383344239,0.9559228104398116,0.9557777617516482,0.9559226711883806,0.9533707128148841,0.9478044666582235,0.955882171008966,0.9557677942807825,0.9556064751622353,0.9558444412001303,0.9552154424853478,0.9554353644693669,0.955225974290961,0.9551424674063703,0.9536063702106304,0.9560737003590635,0.9562592785427324],\"type\":\"scatter\",\"xaxis\":\"x3\",\"yaxis\":\"y3\"},{\"marker\":{\"color\":[0,1,2,3,4,5,6,7,8,9,10,11,12,13,14,15,16,17,18,19,20,21,22,23,24,25,26,27,28,29],\"colorbar\":{\"title\":{\"text\":\"Trial\"},\"x\":1.0,\"xpad\":40},\"colorscale\":[[0.0,\"rgb(247,251,255)\"],[0.125,\"rgb(222,235,247)\"],[0.25,\"rgb(198,219,239)\"],[0.375,\"rgb(158,202,225)\"],[0.5,\"rgb(107,174,214)\"],[0.625,\"rgb(66,146,198)\"],[0.75,\"rgb(33,113,181)\"],[0.875,\"rgb(8,81,156)\"],[1.0,\"rgb(8,48,107)\"]],\"line\":{\"color\":\"Grey\",\"width\":0.5},\"showscale\":false},\"mode\":\"markers\",\"name\":\"Feasible Trial\",\"showlegend\":false,\"x\":[7.85061641795577,18.9263800243201,5.808618704598761,4.914137339290766,6.513566967836617,1.3875768821589518,2.6459915841977404,5.9925925943951865,14.868589331516743,5.16016084461153,11.835069300113656,9.756066137894727,3.598688655621898,3.2408030548582882,1.0956561401540825,1.1676964916320856,8.988068811651615,14.250922056317513,3.4678648504253893,1.2143043367882882,11.652369098340298,8.222291996994525,3.149649178429487,8.893799123840557,13.932827690337051,19.749007566128093,4.270259767935677,17.347294206439415,7.037713542816443,7.111021085628628],\"y\":[0.9547103775443435,0.952971948019053,0.9554704924751457,0.9555880719862472,0.9553966232553994,0.9550129928914343,0.9471762081747332,0.9479927052771309,0.9544291189693871,0.952739346825771,0.9548139219769833,0.9510043912572381,0.9558509273852158,0.9560431383344239,0.9559228104398116,0.9557777617516482,0.9559226711883806,0.9533707128148841,0.9478044666582235,0.955882171008966,0.9557677942807825,0.9556064751622353,0.9558444412001303,0.9552154424853478,0.9554353644693669,0.955225974290961,0.9551424674063703,0.9536063702106304,0.9560737003590635,0.9562592785427324],\"type\":\"scatter\",\"xaxis\":\"x4\",\"yaxis\":\"y4\"}],                        {\"template\":{\"data\":{\"histogram2dcontour\":[{\"type\":\"histogram2dcontour\",\"colorbar\":{\"outlinewidth\":0,\"ticks\":\"\"},\"colorscale\":[[0.0,\"#0d0887\"],[0.1111111111111111,\"#46039f\"],[0.2222222222222222,\"#7201a8\"],[0.3333333333333333,\"#9c179e\"],[0.4444444444444444,\"#bd3786\"],[0.5555555555555556,\"#d8576b\"],[0.6666666666666666,\"#ed7953\"],[0.7777777777777778,\"#fb9f3a\"],[0.8888888888888888,\"#fdca26\"],[1.0,\"#f0f921\"]]}],\"choropleth\":[{\"type\":\"choropleth\",\"colorbar\":{\"outlinewidth\":0,\"ticks\":\"\"}}],\"histogram2d\":[{\"type\":\"histogram2d\",\"colorbar\":{\"outlinewidth\":0,\"ticks\":\"\"},\"colorscale\":[[0.0,\"#0d0887\"],[0.1111111111111111,\"#46039f\"],[0.2222222222222222,\"#7201a8\"],[0.3333333333333333,\"#9c179e\"],[0.4444444444444444,\"#bd3786\"],[0.5555555555555556,\"#d8576b\"],[0.6666666666666666,\"#ed7953\"],[0.7777777777777778,\"#fb9f3a\"],[0.8888888888888888,\"#fdca26\"],[1.0,\"#f0f921\"]]}],\"heatmap\":[{\"type\":\"heatmap\",\"colorbar\":{\"outlinewidth\":0,\"ticks\":\"\"},\"colorscale\":[[0.0,\"#0d0887\"],[0.1111111111111111,\"#46039f\"],[0.2222222222222222,\"#7201a8\"],[0.3333333333333333,\"#9c179e\"],[0.4444444444444444,\"#bd3786\"],[0.5555555555555556,\"#d8576b\"],[0.6666666666666666,\"#ed7953\"],[0.7777777777777778,\"#fb9f3a\"],[0.8888888888888888,\"#fdca26\"],[1.0,\"#f0f921\"]]}],\"heatmapgl\":[{\"type\":\"heatmapgl\",\"colorbar\":{\"outlinewidth\":0,\"ticks\":\"\"},\"colorscale\":[[0.0,\"#0d0887\"],[0.1111111111111111,\"#46039f\"],[0.2222222222222222,\"#7201a8\"],[0.3333333333333333,\"#9c179e\"],[0.4444444444444444,\"#bd3786\"],[0.5555555555555556,\"#d8576b\"],[0.6666666666666666,\"#ed7953\"],[0.7777777777777778,\"#fb9f3a\"],[0.8888888888888888,\"#fdca26\"],[1.0,\"#f0f921\"]]}],\"contourcarpet\":[{\"type\":\"contourcarpet\",\"colorbar\":{\"outlinewidth\":0,\"ticks\":\"\"}}],\"contour\":[{\"type\":\"contour\",\"colorbar\":{\"outlinewidth\":0,\"ticks\":\"\"},\"colorscale\":[[0.0,\"#0d0887\"],[0.1111111111111111,\"#46039f\"],[0.2222222222222222,\"#7201a8\"],[0.3333333333333333,\"#9c179e\"],[0.4444444444444444,\"#bd3786\"],[0.5555555555555556,\"#d8576b\"],[0.6666666666666666,\"#ed7953\"],[0.7777777777777778,\"#fb9f3a\"],[0.8888888888888888,\"#fdca26\"],[1.0,\"#f0f921\"]]}],\"surface\":[{\"type\":\"surface\",\"colorbar\":{\"outlinewidth\":0,\"ticks\":\"\"},\"colorscale\":[[0.0,\"#0d0887\"],[0.1111111111111111,\"#46039f\"],[0.2222222222222222,\"#7201a8\"],[0.3333333333333333,\"#9c179e\"],[0.4444444444444444,\"#bd3786\"],[0.5555555555555556,\"#d8576b\"],[0.6666666666666666,\"#ed7953\"],[0.7777777777777778,\"#fb9f3a\"],[0.8888888888888888,\"#fdca26\"],[1.0,\"#f0f921\"]]}],\"mesh3d\":[{\"type\":\"mesh3d\",\"colorbar\":{\"outlinewidth\":0,\"ticks\":\"\"}}],\"scatter\":[{\"fillpattern\":{\"fillmode\":\"overlay\",\"size\":10,\"solidity\":0.2},\"type\":\"scatter\"}],\"parcoords\":[{\"type\":\"parcoords\",\"line\":{\"colorbar\":{\"outlinewidth\":0,\"ticks\":\"\"}}}],\"scatterpolargl\":[{\"type\":\"scatterpolargl\",\"marker\":{\"colorbar\":{\"outlinewidth\":0,\"ticks\":\"\"}}}],\"bar\":[{\"error_x\":{\"color\":\"#2a3f5f\"},\"error_y\":{\"color\":\"#2a3f5f\"},\"marker\":{\"line\":{\"color\":\"#E5ECF6\",\"width\":0.5},\"pattern\":{\"fillmode\":\"overlay\",\"size\":10,\"solidity\":0.2}},\"type\":\"bar\"}],\"scattergeo\":[{\"type\":\"scattergeo\",\"marker\":{\"colorbar\":{\"outlinewidth\":0,\"ticks\":\"\"}}}],\"scatterpolar\":[{\"type\":\"scatterpolar\",\"marker\":{\"colorbar\":{\"outlinewidth\":0,\"ticks\":\"\"}}}],\"histogram\":[{\"marker\":{\"pattern\":{\"fillmode\":\"overlay\",\"size\":10,\"solidity\":0.2}},\"type\":\"histogram\"}],\"scattergl\":[{\"type\":\"scattergl\",\"marker\":{\"colorbar\":{\"outlinewidth\":0,\"ticks\":\"\"}}}],\"scatter3d\":[{\"type\":\"scatter3d\",\"line\":{\"colorbar\":{\"outlinewidth\":0,\"ticks\":\"\"}},\"marker\":{\"colorbar\":{\"outlinewidth\":0,\"ticks\":\"\"}}}],\"scattermapbox\":[{\"type\":\"scattermapbox\",\"marker\":{\"colorbar\":{\"outlinewidth\":0,\"ticks\":\"\"}}}],\"scatterternary\":[{\"type\":\"scatterternary\",\"marker\":{\"colorbar\":{\"outlinewidth\":0,\"ticks\":\"\"}}}],\"scattercarpet\":[{\"type\":\"scattercarpet\",\"marker\":{\"colorbar\":{\"outlinewidth\":0,\"ticks\":\"\"}}}],\"carpet\":[{\"aaxis\":{\"endlinecolor\":\"#2a3f5f\",\"gridcolor\":\"white\",\"linecolor\":\"white\",\"minorgridcolor\":\"white\",\"startlinecolor\":\"#2a3f5f\"},\"baxis\":{\"endlinecolor\":\"#2a3f5f\",\"gridcolor\":\"white\",\"linecolor\":\"white\",\"minorgridcolor\":\"white\",\"startlinecolor\":\"#2a3f5f\"},\"type\":\"carpet\"}],\"table\":[{\"cells\":{\"fill\":{\"color\":\"#EBF0F8\"},\"line\":{\"color\":\"white\"}},\"header\":{\"fill\":{\"color\":\"#C8D4E3\"},\"line\":{\"color\":\"white\"}},\"type\":\"table\"}],\"barpolar\":[{\"marker\":{\"line\":{\"color\":\"#E5ECF6\",\"width\":0.5},\"pattern\":{\"fillmode\":\"overlay\",\"size\":10,\"solidity\":0.2}},\"type\":\"barpolar\"}],\"pie\":[{\"automargin\":true,\"type\":\"pie\"}]},\"layout\":{\"autotypenumbers\":\"strict\",\"colorway\":[\"#636efa\",\"#EF553B\",\"#00cc96\",\"#ab63fa\",\"#FFA15A\",\"#19d3f3\",\"#FF6692\",\"#B6E880\",\"#FF97FF\",\"#FECB52\"],\"font\":{\"color\":\"#2a3f5f\"},\"hovermode\":\"closest\",\"hoverlabel\":{\"align\":\"left\"},\"paper_bgcolor\":\"white\",\"plot_bgcolor\":\"#E5ECF6\",\"polar\":{\"bgcolor\":\"#E5ECF6\",\"angularaxis\":{\"gridcolor\":\"white\",\"linecolor\":\"white\",\"ticks\":\"\"},\"radialaxis\":{\"gridcolor\":\"white\",\"linecolor\":\"white\",\"ticks\":\"\"}},\"ternary\":{\"bgcolor\":\"#E5ECF6\",\"aaxis\":{\"gridcolor\":\"white\",\"linecolor\":\"white\",\"ticks\":\"\"},\"baxis\":{\"gridcolor\":\"white\",\"linecolor\":\"white\",\"ticks\":\"\"},\"caxis\":{\"gridcolor\":\"white\",\"linecolor\":\"white\",\"ticks\":\"\"}},\"coloraxis\":{\"colorbar\":{\"outlinewidth\":0,\"ticks\":\"\"}},\"colorscale\":{\"sequential\":[[0.0,\"#0d0887\"],[0.1111111111111111,\"#46039f\"],[0.2222222222222222,\"#7201a8\"],[0.3333333333333333,\"#9c179e\"],[0.4444444444444444,\"#bd3786\"],[0.5555555555555556,\"#d8576b\"],[0.6666666666666666,\"#ed7953\"],[0.7777777777777778,\"#fb9f3a\"],[0.8888888888888888,\"#fdca26\"],[1.0,\"#f0f921\"]],\"sequentialminus\":[[0.0,\"#0d0887\"],[0.1111111111111111,\"#46039f\"],[0.2222222222222222,\"#7201a8\"],[0.3333333333333333,\"#9c179e\"],[0.4444444444444444,\"#bd3786\"],[0.5555555555555556,\"#d8576b\"],[0.6666666666666666,\"#ed7953\"],[0.7777777777777778,\"#fb9f3a\"],[0.8888888888888888,\"#fdca26\"],[1.0,\"#f0f921\"]],\"diverging\":[[0,\"#8e0152\"],[0.1,\"#c51b7d\"],[0.2,\"#de77ae\"],[0.3,\"#f1b6da\"],[0.4,\"#fde0ef\"],[0.5,\"#f7f7f7\"],[0.6,\"#e6f5d0\"],[0.7,\"#b8e186\"],[0.8,\"#7fbc41\"],[0.9,\"#4d9221\"],[1,\"#276419\"]]},\"xaxis\":{\"gridcolor\":\"white\",\"linecolor\":\"white\",\"ticks\":\"\",\"title\":{\"standoff\":15},\"zerolinecolor\":\"white\",\"automargin\":true,\"zerolinewidth\":2},\"yaxis\":{\"gridcolor\":\"white\",\"linecolor\":\"white\",\"ticks\":\"\",\"title\":{\"standoff\":15},\"zerolinecolor\":\"white\",\"automargin\":true,\"zerolinewidth\":2},\"scene\":{\"xaxis\":{\"backgroundcolor\":\"#E5ECF6\",\"gridcolor\":\"white\",\"linecolor\":\"white\",\"showbackground\":true,\"ticks\":\"\",\"zerolinecolor\":\"white\",\"gridwidth\":2},\"yaxis\":{\"backgroundcolor\":\"#E5ECF6\",\"gridcolor\":\"white\",\"linecolor\":\"white\",\"showbackground\":true,\"ticks\":\"\",\"zerolinecolor\":\"white\",\"gridwidth\":2},\"zaxis\":{\"backgroundcolor\":\"#E5ECF6\",\"gridcolor\":\"white\",\"linecolor\":\"white\",\"showbackground\":true,\"ticks\":\"\",\"zerolinecolor\":\"white\",\"gridwidth\":2}},\"shapedefaults\":{\"line\":{\"color\":\"#2a3f5f\"}},\"annotationdefaults\":{\"arrowcolor\":\"#2a3f5f\",\"arrowhead\":0,\"arrowwidth\":1},\"geo\":{\"bgcolor\":\"white\",\"landcolor\":\"#E5ECF6\",\"subunitcolor\":\"white\",\"showland\":true,\"showlakes\":true,\"lakecolor\":\"white\"},\"title\":{\"x\":0.05},\"mapbox\":{\"style\":\"light\"}}},\"xaxis\":{\"anchor\":\"y\",\"domain\":[0.0,0.2125],\"title\":{\"text\":\"eta\"}},\"yaxis\":{\"anchor\":\"x\",\"domain\":[0.0,1.0],\"title\":{\"text\":\"Objective Value\"}},\"xaxis2\":{\"anchor\":\"y2\",\"domain\":[0.2625,0.475],\"title\":{\"text\":\"max_depth\"}},\"yaxis2\":{\"anchor\":\"x2\",\"domain\":[0.0,1.0],\"matches\":\"y\",\"showticklabels\":false},\"xaxis3\":{\"anchor\":\"y3\",\"domain\":[0.525,0.7375],\"title\":{\"text\":\"n_estimators\"}},\"yaxis3\":{\"anchor\":\"x3\",\"domain\":[0.0,1.0],\"matches\":\"y\",\"showticklabels\":false},\"xaxis4\":{\"anchor\":\"y4\",\"domain\":[0.7875,1.0],\"title\":{\"text\":\"reg_lambda\"}},\"yaxis4\":{\"anchor\":\"x4\",\"domain\":[0.0,1.0],\"matches\":\"y\",\"showticklabels\":false},\"title\":{\"text\":\"Slice Plot\"},\"width\":1200},                        {\"responsive\": true}                    ).then(function(){\n",
       "                            \n",
       "var gd = document.getElementById('66d797f0-8dd8-4cfa-9d2b-6ffd04b5d231');\n",
       "var x = new MutationObserver(function (mutations, observer) {{\n",
       "        var display = window.getComputedStyle(gd).display;\n",
       "        if (!display || display === 'none') {{\n",
       "            console.log([gd, 'removed!']);\n",
       "            Plotly.purge(gd);\n",
       "            observer.disconnect();\n",
       "        }}\n",
       "}});\n",
       "\n",
       "// Listen for the removal of the full notebook cells\n",
       "var notebookContainer = gd.closest('#notebook-container');\n",
       "if (notebookContainer) {{\n",
       "    x.observe(notebookContainer, {childList: true});\n",
       "}}\n",
       "\n",
       "// Listen for the clearing of the current output cell\n",
       "var outputEl = gd.closest('.output');\n",
       "if (outputEl) {{\n",
       "    x.observe(outputEl, {childList: true});\n",
       "}}\n",
       "\n",
       "                        })                };                });            </script>        </div>"
      ]
     },
     "metadata": {},
     "output_type": "display_data"
    },
    {
     "data": {
      "text/html": [
       "<div>                            <div id=\"a9a9a498-c5e8-4b3b-a4e4-69c8ba0a16d4\" class=\"plotly-graph-div\" style=\"height:525px; width:100%;\"></div>            <script type=\"text/javascript\">                require([\"plotly\"], function(Plotly) {                    window.PLOTLYENV=window.PLOTLYENV || {};                                    if (document.getElementById(\"a9a9a498-c5e8-4b3b-a4e4-69c8ba0a16d4\")) {                    Plotly.newPlot(                        \"a9a9a498-c5e8-4b3b-a4e4-69c8ba0a16d4\",                        [{\"cliponaxis\":false,\"hovertemplate\":[\"eta (FloatDistribution): 0.08254986204441633\\u003cextra\\u003e\\u003c\\u002fextra\\u003e\",\"n_estimators (IntDistribution): 0.12723777176791276\\u003cextra\\u003e\\u003c\\u002fextra\\u003e\",\"reg_lambda (FloatDistribution): 0.13034938842656882\\u003cextra\\u003e\\u003c\\u002fextra\\u003e\",\"max_depth (IntDistribution): 0.659862977761102\\u003cextra\\u003e\\u003c\\u002fextra\\u003e\"],\"name\":\"Objective Value\",\"orientation\":\"h\",\"text\":[\"0.08\",\"0.13\",\"0.13\",\"0.66\"],\"textposition\":\"outside\",\"x\":[0.08254986204441633,0.12723777176791276,0.13034938842656882,0.659862977761102],\"y\":[\"eta\",\"n_estimators\",\"reg_lambda\",\"max_depth\"],\"type\":\"bar\"}],                        {\"title\":{\"text\":\"Hyperparameter Importances\"},\"xaxis\":{\"title\":{\"text\":\"Hyperparameter Importance\"}},\"yaxis\":{\"title\":{\"text\":\"Hyperparameter\"}},\"template\":{\"data\":{\"histogram2dcontour\":[{\"type\":\"histogram2dcontour\",\"colorbar\":{\"outlinewidth\":0,\"ticks\":\"\"},\"colorscale\":[[0.0,\"#0d0887\"],[0.1111111111111111,\"#46039f\"],[0.2222222222222222,\"#7201a8\"],[0.3333333333333333,\"#9c179e\"],[0.4444444444444444,\"#bd3786\"],[0.5555555555555556,\"#d8576b\"],[0.6666666666666666,\"#ed7953\"],[0.7777777777777778,\"#fb9f3a\"],[0.8888888888888888,\"#fdca26\"],[1.0,\"#f0f921\"]]}],\"choropleth\":[{\"type\":\"choropleth\",\"colorbar\":{\"outlinewidth\":0,\"ticks\":\"\"}}],\"histogram2d\":[{\"type\":\"histogram2d\",\"colorbar\":{\"outlinewidth\":0,\"ticks\":\"\"},\"colorscale\":[[0.0,\"#0d0887\"],[0.1111111111111111,\"#46039f\"],[0.2222222222222222,\"#7201a8\"],[0.3333333333333333,\"#9c179e\"],[0.4444444444444444,\"#bd3786\"],[0.5555555555555556,\"#d8576b\"],[0.6666666666666666,\"#ed7953\"],[0.7777777777777778,\"#fb9f3a\"],[0.8888888888888888,\"#fdca26\"],[1.0,\"#f0f921\"]]}],\"heatmap\":[{\"type\":\"heatmap\",\"colorbar\":{\"outlinewidth\":0,\"ticks\":\"\"},\"colorscale\":[[0.0,\"#0d0887\"],[0.1111111111111111,\"#46039f\"],[0.2222222222222222,\"#7201a8\"],[0.3333333333333333,\"#9c179e\"],[0.4444444444444444,\"#bd3786\"],[0.5555555555555556,\"#d8576b\"],[0.6666666666666666,\"#ed7953\"],[0.7777777777777778,\"#fb9f3a\"],[0.8888888888888888,\"#fdca26\"],[1.0,\"#f0f921\"]]}],\"heatmapgl\":[{\"type\":\"heatmapgl\",\"colorbar\":{\"outlinewidth\":0,\"ticks\":\"\"},\"colorscale\":[[0.0,\"#0d0887\"],[0.1111111111111111,\"#46039f\"],[0.2222222222222222,\"#7201a8\"],[0.3333333333333333,\"#9c179e\"],[0.4444444444444444,\"#bd3786\"],[0.5555555555555556,\"#d8576b\"],[0.6666666666666666,\"#ed7953\"],[0.7777777777777778,\"#fb9f3a\"],[0.8888888888888888,\"#fdca26\"],[1.0,\"#f0f921\"]]}],\"contourcarpet\":[{\"type\":\"contourcarpet\",\"colorbar\":{\"outlinewidth\":0,\"ticks\":\"\"}}],\"contour\":[{\"type\":\"contour\",\"colorbar\":{\"outlinewidth\":0,\"ticks\":\"\"},\"colorscale\":[[0.0,\"#0d0887\"],[0.1111111111111111,\"#46039f\"],[0.2222222222222222,\"#7201a8\"],[0.3333333333333333,\"#9c179e\"],[0.4444444444444444,\"#bd3786\"],[0.5555555555555556,\"#d8576b\"],[0.6666666666666666,\"#ed7953\"],[0.7777777777777778,\"#fb9f3a\"],[0.8888888888888888,\"#fdca26\"],[1.0,\"#f0f921\"]]}],\"surface\":[{\"type\":\"surface\",\"colorbar\":{\"outlinewidth\":0,\"ticks\":\"\"},\"colorscale\":[[0.0,\"#0d0887\"],[0.1111111111111111,\"#46039f\"],[0.2222222222222222,\"#7201a8\"],[0.3333333333333333,\"#9c179e\"],[0.4444444444444444,\"#bd3786\"],[0.5555555555555556,\"#d8576b\"],[0.6666666666666666,\"#ed7953\"],[0.7777777777777778,\"#fb9f3a\"],[0.8888888888888888,\"#fdca26\"],[1.0,\"#f0f921\"]]}],\"mesh3d\":[{\"type\":\"mesh3d\",\"colorbar\":{\"outlinewidth\":0,\"ticks\":\"\"}}],\"scatter\":[{\"fillpattern\":{\"fillmode\":\"overlay\",\"size\":10,\"solidity\":0.2},\"type\":\"scatter\"}],\"parcoords\":[{\"type\":\"parcoords\",\"line\":{\"colorbar\":{\"outlinewidth\":0,\"ticks\":\"\"}}}],\"scatterpolargl\":[{\"type\":\"scatterpolargl\",\"marker\":{\"colorbar\":{\"outlinewidth\":0,\"ticks\":\"\"}}}],\"bar\":[{\"error_x\":{\"color\":\"#2a3f5f\"},\"error_y\":{\"color\":\"#2a3f5f\"},\"marker\":{\"line\":{\"color\":\"#E5ECF6\",\"width\":0.5},\"pattern\":{\"fillmode\":\"overlay\",\"size\":10,\"solidity\":0.2}},\"type\":\"bar\"}],\"scattergeo\":[{\"type\":\"scattergeo\",\"marker\":{\"colorbar\":{\"outlinewidth\":0,\"ticks\":\"\"}}}],\"scatterpolar\":[{\"type\":\"scatterpolar\",\"marker\":{\"colorbar\":{\"outlinewidth\":0,\"ticks\":\"\"}}}],\"histogram\":[{\"marker\":{\"pattern\":{\"fillmode\":\"overlay\",\"size\":10,\"solidity\":0.2}},\"type\":\"histogram\"}],\"scattergl\":[{\"type\":\"scattergl\",\"marker\":{\"colorbar\":{\"outlinewidth\":0,\"ticks\":\"\"}}}],\"scatter3d\":[{\"type\":\"scatter3d\",\"line\":{\"colorbar\":{\"outlinewidth\":0,\"ticks\":\"\"}},\"marker\":{\"colorbar\":{\"outlinewidth\":0,\"ticks\":\"\"}}}],\"scattermapbox\":[{\"type\":\"scattermapbox\",\"marker\":{\"colorbar\":{\"outlinewidth\":0,\"ticks\":\"\"}}}],\"scatterternary\":[{\"type\":\"scatterternary\",\"marker\":{\"colorbar\":{\"outlinewidth\":0,\"ticks\":\"\"}}}],\"scattercarpet\":[{\"type\":\"scattercarpet\",\"marker\":{\"colorbar\":{\"outlinewidth\":0,\"ticks\":\"\"}}}],\"carpet\":[{\"aaxis\":{\"endlinecolor\":\"#2a3f5f\",\"gridcolor\":\"white\",\"linecolor\":\"white\",\"minorgridcolor\":\"white\",\"startlinecolor\":\"#2a3f5f\"},\"baxis\":{\"endlinecolor\":\"#2a3f5f\",\"gridcolor\":\"white\",\"linecolor\":\"white\",\"minorgridcolor\":\"white\",\"startlinecolor\":\"#2a3f5f\"},\"type\":\"carpet\"}],\"table\":[{\"cells\":{\"fill\":{\"color\":\"#EBF0F8\"},\"line\":{\"color\":\"white\"}},\"header\":{\"fill\":{\"color\":\"#C8D4E3\"},\"line\":{\"color\":\"white\"}},\"type\":\"table\"}],\"barpolar\":[{\"marker\":{\"line\":{\"color\":\"#E5ECF6\",\"width\":0.5},\"pattern\":{\"fillmode\":\"overlay\",\"size\":10,\"solidity\":0.2}},\"type\":\"barpolar\"}],\"pie\":[{\"automargin\":true,\"type\":\"pie\"}]},\"layout\":{\"autotypenumbers\":\"strict\",\"colorway\":[\"#636efa\",\"#EF553B\",\"#00cc96\",\"#ab63fa\",\"#FFA15A\",\"#19d3f3\",\"#FF6692\",\"#B6E880\",\"#FF97FF\",\"#FECB52\"],\"font\":{\"color\":\"#2a3f5f\"},\"hovermode\":\"closest\",\"hoverlabel\":{\"align\":\"left\"},\"paper_bgcolor\":\"white\",\"plot_bgcolor\":\"#E5ECF6\",\"polar\":{\"bgcolor\":\"#E5ECF6\",\"angularaxis\":{\"gridcolor\":\"white\",\"linecolor\":\"white\",\"ticks\":\"\"},\"radialaxis\":{\"gridcolor\":\"white\",\"linecolor\":\"white\",\"ticks\":\"\"}},\"ternary\":{\"bgcolor\":\"#E5ECF6\",\"aaxis\":{\"gridcolor\":\"white\",\"linecolor\":\"white\",\"ticks\":\"\"},\"baxis\":{\"gridcolor\":\"white\",\"linecolor\":\"white\",\"ticks\":\"\"},\"caxis\":{\"gridcolor\":\"white\",\"linecolor\":\"white\",\"ticks\":\"\"}},\"coloraxis\":{\"colorbar\":{\"outlinewidth\":0,\"ticks\":\"\"}},\"colorscale\":{\"sequential\":[[0.0,\"#0d0887\"],[0.1111111111111111,\"#46039f\"],[0.2222222222222222,\"#7201a8\"],[0.3333333333333333,\"#9c179e\"],[0.4444444444444444,\"#bd3786\"],[0.5555555555555556,\"#d8576b\"],[0.6666666666666666,\"#ed7953\"],[0.7777777777777778,\"#fb9f3a\"],[0.8888888888888888,\"#fdca26\"],[1.0,\"#f0f921\"]],\"sequentialminus\":[[0.0,\"#0d0887\"],[0.1111111111111111,\"#46039f\"],[0.2222222222222222,\"#7201a8\"],[0.3333333333333333,\"#9c179e\"],[0.4444444444444444,\"#bd3786\"],[0.5555555555555556,\"#d8576b\"],[0.6666666666666666,\"#ed7953\"],[0.7777777777777778,\"#fb9f3a\"],[0.8888888888888888,\"#fdca26\"],[1.0,\"#f0f921\"]],\"diverging\":[[0,\"#8e0152\"],[0.1,\"#c51b7d\"],[0.2,\"#de77ae\"],[0.3,\"#f1b6da\"],[0.4,\"#fde0ef\"],[0.5,\"#f7f7f7\"],[0.6,\"#e6f5d0\"],[0.7,\"#b8e186\"],[0.8,\"#7fbc41\"],[0.9,\"#4d9221\"],[1,\"#276419\"]]},\"xaxis\":{\"gridcolor\":\"white\",\"linecolor\":\"white\",\"ticks\":\"\",\"title\":{\"standoff\":15},\"zerolinecolor\":\"white\",\"automargin\":true,\"zerolinewidth\":2},\"yaxis\":{\"gridcolor\":\"white\",\"linecolor\":\"white\",\"ticks\":\"\",\"title\":{\"standoff\":15},\"zerolinecolor\":\"white\",\"automargin\":true,\"zerolinewidth\":2},\"scene\":{\"xaxis\":{\"backgroundcolor\":\"#E5ECF6\",\"gridcolor\":\"white\",\"linecolor\":\"white\",\"showbackground\":true,\"ticks\":\"\",\"zerolinecolor\":\"white\",\"gridwidth\":2},\"yaxis\":{\"backgroundcolor\":\"#E5ECF6\",\"gridcolor\":\"white\",\"linecolor\":\"white\",\"showbackground\":true,\"ticks\":\"\",\"zerolinecolor\":\"white\",\"gridwidth\":2},\"zaxis\":{\"backgroundcolor\":\"#E5ECF6\",\"gridcolor\":\"white\",\"linecolor\":\"white\",\"showbackground\":true,\"ticks\":\"\",\"zerolinecolor\":\"white\",\"gridwidth\":2}},\"shapedefaults\":{\"line\":{\"color\":\"#2a3f5f\"}},\"annotationdefaults\":{\"arrowcolor\":\"#2a3f5f\",\"arrowhead\":0,\"arrowwidth\":1},\"geo\":{\"bgcolor\":\"white\",\"landcolor\":\"#E5ECF6\",\"subunitcolor\":\"white\",\"showland\":true,\"showlakes\":true,\"lakecolor\":\"white\"},\"title\":{\"x\":0.05},\"mapbox\":{\"style\":\"light\"}}}},                        {\"responsive\": true}                    ).then(function(){\n",
       "                            \n",
       "var gd = document.getElementById('a9a9a498-c5e8-4b3b-a4e4-69c8ba0a16d4');\n",
       "var x = new MutationObserver(function (mutations, observer) {{\n",
       "        var display = window.getComputedStyle(gd).display;\n",
       "        if (!display || display === 'none') {{\n",
       "            console.log([gd, 'removed!']);\n",
       "            Plotly.purge(gd);\n",
       "            observer.disconnect();\n",
       "        }}\n",
       "}});\n",
       "\n",
       "// Listen for the removal of the full notebook cells\n",
       "var notebookContainer = gd.closest('#notebook-container');\n",
       "if (notebookContainer) {{\n",
       "    x.observe(notebookContainer, {childList: true});\n",
       "}}\n",
       "\n",
       "// Listen for the clearing of the current output cell\n",
       "var outputEl = gd.closest('.output');\n",
       "if (outputEl) {{\n",
       "    x.observe(outputEl, {childList: true});\n",
       "}}\n",
       "\n",
       "                        })                };                });            </script>        </div>"
      ]
     },
     "metadata": {},
     "output_type": "display_data"
    }
   ],
   "source": [
    "fig_1 = optuna.visualization.plot_optimization_history(study)\n",
    "fig_2 = optuna.visualization.plot_slice(study)\n",
    "fig_3 = optuna.visualization.plot_param_importances(study)\n",
    "\n",
    "fig_1.show()\n",
    "fig_2.show()\n",
    "fig_3.show()"
   ]
  },
  {
   "cell_type": "markdown",
   "id": "3a439016",
   "metadata": {
    "papermill": {
     "duration": 0.011362,
     "end_time": "2024-10-23T11:58:13.928541",
     "exception": false,
     "start_time": "2024-10-23T11:58:13.917179",
     "status": "completed"
    },
    "tags": []
   },
   "source": [
    "# Final Predict to submission"
   ]
  },
  {
   "cell_type": "code",
   "execution_count": 22,
   "id": "88d71fd1",
   "metadata": {
    "execution": {
     "iopub.execute_input": "2024-10-23T11:58:13.952852Z",
     "iopub.status.busy": "2024-10-23T11:58:13.952415Z",
     "iopub.status.idle": "2024-10-23T11:58:16.533905Z",
     "shell.execute_reply": "2024-10-23T11:58:16.532975Z"
    },
    "papermill": {
     "duration": 2.596511,
     "end_time": "2024-10-23T11:58:16.536478",
     "exception": false,
     "start_time": "2024-10-23T11:58:13.939967",
     "status": "completed"
    },
    "tags": []
   },
   "outputs": [],
   "source": [
    "# Now we fit the optimizated model with the entire data to make tha final prediction\n",
    "xgb_model.fit(X, y)\n",
    "preds = xgb_model.predict_proba(test_data)[:,1]"
   ]
  },
  {
   "cell_type": "code",
   "execution_count": 23,
   "id": "96fcac35",
   "metadata": {
    "execution": {
     "iopub.execute_input": "2024-10-23T11:58:16.561821Z",
     "iopub.status.busy": "2024-10-23T11:58:16.560560Z",
     "iopub.status.idle": "2024-10-23T11:58:16.568486Z",
     "shell.execute_reply": "2024-10-23T11:58:16.567285Z"
    },
    "papermill": {
     "duration": 0.02307,
     "end_time": "2024-10-23T11:58:16.570902",
     "exception": false,
     "start_time": "2024-10-23T11:58:16.547832",
     "status": "completed"
    },
    "tags": []
   },
   "outputs": [
    {
     "data": {
      "text/plain": [
       "array([0.9976725 , 0.02069541, 0.53832364, ..., 0.01236033, 0.21029922,\n",
       "       0.95791847], dtype=float32)"
      ]
     },
     "execution_count": 23,
     "metadata": {},
     "output_type": "execute_result"
    }
   ],
   "source": [
    "predictions = preds\n",
    "predictions"
   ]
  },
  {
   "cell_type": "code",
   "execution_count": 24,
   "id": "590550e6",
   "metadata": {
    "execution": {
     "iopub.execute_input": "2024-10-23T11:58:16.595145Z",
     "iopub.status.busy": "2024-10-23T11:58:16.594709Z",
     "iopub.status.idle": "2024-10-23T11:58:16.683507Z",
     "shell.execute_reply": "2024-10-23T11:58:16.682387Z"
    },
    "papermill": {
     "duration": 0.103883,
     "end_time": "2024-10-23T11:58:16.686093",
     "exception": false,
     "start_time": "2024-10-23T11:58:16.582210",
     "status": "completed"
    },
    "tags": []
   },
   "outputs": [
    {
     "data": {
      "text/html": [
       "<div>\n",
       "<style scoped>\n",
       "    .dataframe tbody tr th:only-of-type {\n",
       "        vertical-align: middle;\n",
       "    }\n",
       "\n",
       "    .dataframe tbody tr th {\n",
       "        vertical-align: top;\n",
       "    }\n",
       "\n",
       "    .dataframe thead th {\n",
       "        text-align: right;\n",
       "    }\n",
       "</style>\n",
       "<table border=\"1\" class=\"dataframe\">\n",
       "  <thead>\n",
       "    <tr style=\"text-align: right;\">\n",
       "      <th></th>\n",
       "      <th>id</th>\n",
       "      <th>loan_status</th>\n",
       "    </tr>\n",
       "  </thead>\n",
       "  <tbody>\n",
       "    <tr>\n",
       "      <th>0</th>\n",
       "      <td>58645</td>\n",
       "      <td>0.997672</td>\n",
       "    </tr>\n",
       "    <tr>\n",
       "      <th>1</th>\n",
       "      <td>58646</td>\n",
       "      <td>0.020695</td>\n",
       "    </tr>\n",
       "    <tr>\n",
       "      <th>2</th>\n",
       "      <td>58647</td>\n",
       "      <td>0.538324</td>\n",
       "    </tr>\n",
       "    <tr>\n",
       "      <th>3</th>\n",
       "      <td>58648</td>\n",
       "      <td>0.009550</td>\n",
       "    </tr>\n",
       "    <tr>\n",
       "      <th>4</th>\n",
       "      <td>58649</td>\n",
       "      <td>0.033415</td>\n",
       "    </tr>\n",
       "  </tbody>\n",
       "</table>\n",
       "</div>"
      ],
      "text/plain": [
       "      id  loan_status\n",
       "0  58645     0.997672\n",
       "1  58646     0.020695\n",
       "2  58647     0.538324\n",
       "3  58648     0.009550\n",
       "4  58649     0.033415"
      ]
     },
     "execution_count": 24,
     "metadata": {},
     "output_type": "execute_result"
    }
   ],
   "source": [
    "submission = pd.DataFrame()\n",
    "submission[\"id\"] = ids\n",
    "submission[\"loan_status\"] = predictions\n",
    "submission.to_csv(\"submission.csv\",header=True, index=False)\n",
    "submission.head()"
   ]
  }
 ],
 "metadata": {
  "kaggle": {
   "accelerator": "none",
   "dataSources": [
    {
     "databundleVersionId": 9709193,
     "sourceId": 84894,
     "sourceType": "competition"
    },
    {
     "datasetId": 688532,
     "sourceId": 1207035,
     "sourceType": "datasetVersion"
    }
   ],
   "dockerImageVersionId": 30786,
   "isGpuEnabled": false,
   "isInternetEnabled": true,
   "language": "python",
   "sourceType": "notebook"
  },
  "kernelspec": {
   "display_name": "Python 3",
   "language": "python",
   "name": "python3"
  },
  "language_info": {
   "codemirror_mode": {
    "name": "ipython",
    "version": 3
   },
   "file_extension": ".py",
   "mimetype": "text/x-python",
   "name": "python",
   "nbconvert_exporter": "python",
   "pygments_lexer": "ipython3",
   "version": "3.10.14"
  },
  "papermill": {
   "default_parameters": {},
   "duration": 523.496968,
   "end_time": "2024-10-23T11:58:17.419108",
   "environment_variables": {},
   "exception": null,
   "input_path": "__notebook__.ipynb",
   "output_path": "__notebook__.ipynb",
   "parameters": {},
   "start_time": "2024-10-23T11:49:33.922140",
   "version": "2.6.0"
  }
 },
 "nbformat": 4,
 "nbformat_minor": 5
}
